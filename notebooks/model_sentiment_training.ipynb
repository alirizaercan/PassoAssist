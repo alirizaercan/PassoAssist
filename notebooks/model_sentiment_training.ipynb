{
 "cells": [
  {
   "cell_type": "markdown",
   "metadata": {},
   "source": [
    "# Sentiment Analysis Model Training and Accuracy Visualization\n",
    "\n",
    "In this Jupyter Notebook, we will train a sentiment analysis model and visualize the accuracy scores over the training process."
   ]
  },
  {
   "cell_type": "markdown",
   "metadata": {},
   "source": [
    "### Importing Necessary Libraries\n",
    "First, we need to import the required libraries:"
   ]
  },
  {
   "cell_type": "code",
   "execution_count": 38,
   "metadata": {},
   "outputs": [],
   "source": [
    "import os\n",
    "import pandas as pd\n",
    "import torch\n",
    "from transformers import AutoTokenizer, AutoModelForSequenceClassification, Trainer, TrainingArguments\n",
    "from sklearn.model_selection import train_test_split\n",
    "import torch.nn.functional as F\n",
    "from sklearn.metrics import accuracy_score\n",
    "import os\n",
    "import matplotlib.pyplot as plt"
   ]
  },
  {
   "cell_type": "markdown",
   "metadata": {},
   "source": [
    "# Model Training Function\n",
    "Next, we will define a function to train the model and collect the accuracy scores during the training process:"
   ]
  },
  {
   "cell_type": "code",
   "execution_count": 39,
   "metadata": {},
   "outputs": [],
   "source": [
    "def train_and_save_model(data_path: str, model_output_path: str):\n",
    "    \"\"\"Train a sentiment analysis model using provided data and save it.\"\"\"\n",
    "    \n",
    "    # Load dataset\n",
    "    df = pd.read_csv(data_path)\n",
    "    texts = df['text'].tolist()\n",
    "    labels = df['sentiment'].tolist()\n",
    "\n",
    "    # Convert sentiment labels to numerical values\n",
    "    label_mapping = {'olumlu': 1, 'notr': 0, 'olumsuz': 2}\n",
    "    labels = [label_mapping[label] for label in labels]\n",
    "\n",
    "    # Select first 50 and last 50 samples for training\n",
    "    train_texts = texts[:50] + texts[-50:]\n",
    "    train_labels = labels[:50] + labels[-50:]\n",
    "\n",
    "    # Load tokenizer and model\n",
    "    tokenizer = AutoTokenizer.from_pretrained(\"saribasmetehan/bert-base-turkish-sentiment-analysis\")\n",
    "    model = AutoModelForSequenceClassification.from_pretrained(\"saribasmetehan/bert-base-turkish-sentiment-analysis\", num_labels=3)\n",
    "\n",
    "    # Tokenize data\n",
    "    def tokenize_function(texts):\n",
    "        return tokenizer(texts, padding=True, truncation=True, return_tensors='pt', max_length=128)\n",
    "\n",
    "    train_encodings = tokenize_function(train_texts)\n",
    "\n",
    "    # Create dataset\n",
    "    class Dataset(torch.utils.data.Dataset):\n",
    "        def __init__(self, encodings, labels):\n",
    "            self.encodings = encodings\n",
    "            self.labels = labels\n",
    "\n",
    "        def __getitem__(self, idx):\n",
    "            item = {key: val[idx].contiguous() for key, val in self.encodings.items()}\n",
    "            item['labels'] = torch.tensor(self.labels[idx])\n",
    "            return item\n",
    "\n",
    "        def __len__(self):\n",
    "            return len(self.labels)\n",
    "\n",
    "    train_dataset = Dataset(train_encodings, train_labels)\n",
    "\n",
    "    # List to store accuracy scores\n",
    "    accuracies = []\n",
    "\n",
    "    # Define compute_metrics function\n",
    "    def compute_metrics(p):\n",
    "        preds = p.predictions.argmax(axis=1)\n",
    "        acc = accuracy_score(p.label_ids, preds)\n",
    "        accuracies.append(acc)  # Append accuracy to the list\n",
    "        return {\"accuracy\": acc}\n",
    "\n",
    "    # Training arguments\n",
    "    training_args = TrainingArguments(\n",
    "        output_dir=model_output_path,\n",
    "        num_train_epochs=4,\n",
    "        per_device_train_batch_size=16,\n",
    "        learning_rate=5e-5,\n",
    "        logging_dir='./logs',\n",
    "        logging_steps=10,\n",
    "        save_steps=500,\n",
    "        save_total_limit=1,\n",
    "        seed=42,\n",
    "        evaluation_strategy=\"steps\",\n",
    "        eval_steps=500,\n",
    "        load_best_model_at_end=True,\n",
    "        metric_for_best_model=\"accuracy\",\n",
    "    )\n",
    "\n",
    "    # Trainer object\n",
    "    trainer = Trainer(\n",
    "        model=model,\n",
    "        args=training_args,\n",
    "        train_dataset=train_dataset,\n",
    "        compute_metrics=compute_metrics\n",
    "    )\n",
    "\n",
    "    # Train the model\n",
    "    trainer.train()\n",
    "\n",
    "    # Save the model and tokenizer\n",
    "    model.save_pretrained(model_output_path)\n",
    "    tokenizer.save_pretrained(model_output_path)\n",
    "\n",
    "    # Return the accuracy scores\n",
    "    return accuracies\n"
   ]
  },
  {
   "cell_type": "markdown",
   "metadata": {},
   "source": [
    "# Training the Model\n",
    "Now, let's train the model."
   ]
  },
  {
   "cell_type": "code",
   "execution_count": 40,
   "metadata": {},
   "outputs": [
    {
     "name": "stderr",
     "output_type": "stream",
     "text": [
      "c:\\Users\\Ali Riza Ercan\\AppData\\Local\\Programs\\Python\\Python39\\lib\\site-packages\\transformers\\training_args.py:1545: FutureWarning: `evaluation_strategy` is deprecated and will be removed in version 4.46 of 🤗 Transformers. Use `eval_strategy` instead\n",
      "  warnings.warn(\n"
     ]
    },
    {
     "data": {
      "application/vnd.jupyter.widget-view+json": {
       "model_id": "0535913e1d0d4a0fb192f33756e0d41b",
       "version_major": 2,
       "version_minor": 0
      },
      "text/plain": [
       "  0%|          | 0/28 [00:00<?, ?it/s]"
      ]
     },
     "metadata": {},
     "output_type": "display_data"
    },
    {
     "name": "stdout",
     "output_type": "stream",
     "text": [
      "{'loss': 1.4026, 'grad_norm': 18.722679138183594, 'learning_rate': 3.2142857142857144e-05, 'epoch': 1.43}\n",
      "{'loss': 0.163, 'grad_norm': 4.068999767303467, 'learning_rate': 1.4285714285714285e-05, 'epoch': 2.86}\n",
      "{'train_runtime': 259.2748, 'train_samples_per_second': 1.543, 'train_steps_per_second': 0.108, 'train_loss': 0.5881467844758715, 'epoch': 4.0}\n"
     ]
    }
   ],
   "source": [
    "# Paths for the data and model\n",
    "data_path = r'C:\\Users\\Ali Riza Ercan\\Desktop\\Data Science\\PassoAssist\\PassoAssist\\data\\processed\\cleaned_df.csv'\n",
    "model_output_path = r'C:\\Users\\Ali Riza Ercan\\Desktop\\Data Science\\PassoAssist\\PassoAssist\\data\\models\\sentiment\\saribasmetehan_sentiment_model'\n",
    "\n",
    "# Train the model and collect accuracy scores\n",
    "accuracies = train_and_save_model(data_path, model_output_path)"
   ]
  },
  {
   "cell_type": "markdown",
   "metadata": {},
   "source": [
    "This code will train the model, collect accuracy scores at each evaluation step, and plot them using *matplotlib*."
   ]
  },
  {
   "cell_type": "markdown",
   "metadata": {},
   "source": [
    "# Testing the Model\n",
    "Finally, we add a function to test the trained model with new input texts:"
   ]
  },
  {
   "cell_type": "code",
   "execution_count": 41,
   "metadata": {},
   "outputs": [
    {
     "name": "stdout",
     "output_type": "stream",
     "text": [
      "Input: Bu bir deneme cümlesidir.\n",
      "Predicted Sentiment: notr (Confidence: 1.00)\n"
     ]
    }
   ],
   "source": [
    "# Function to test the trained model\n",
    "def test_model(model_path: str, text: str):\n",
    "    \"\"\"Load a saved model and test with a given input text, showing prediction probabilities.\"\"\"\n",
    "\n",
    "    # Load tokenizer and model\n",
    "    tokenizer = AutoTokenizer.from_pretrained(model_path)\n",
    "    model = AutoModelForSequenceClassification.from_pretrained(model_path)\n",
    "\n",
    "    # Tokenize the input text\n",
    "    inputs = tokenizer(text, return_tensors='pt', truncation=True, padding=True, max_length=128)\n",
    "\n",
    "    # Make prediction\n",
    "    with torch.no_grad():\n",
    "        outputs = model(**inputs)\n",
    "        logits = outputs.logits\n",
    "        predicted_probs = F.softmax(logits, dim=1)[0]\n",
    "        predicted_class = torch.argmax(predicted_probs).item()\n",
    "\n",
    "    # Map the predicted class to the sentiment label\n",
    "    label_mapping = {1: 'olumlu', 0: 'notr', 2: 'olumsuz'}\n",
    "    sentiment = label_mapping[predicted_class]\n",
    "    probability = predicted_probs[predicted_class].item()\n",
    "\n",
    "    print(f\"Input: {text}\")\n",
    "    print(f\"Predicted Sentiment: {sentiment} (Confidence: {probability:.2f})\")\n",
    "\n",
    "# Test the model with a sample sentence\n",
    "test_model(model_output_path, \"Bu bir deneme cümlesidir.\")"
   ]
  },
  {
   "cell_type": "markdown",
   "metadata": {},
   "source": [
    "This function allows you to test the saved model with a new text input and outputs the predicted sentiment and the confidence level."
   ]
  }
 ],
 "metadata": {
  "kernelspec": {
   "display_name": "Python 3",
   "language": "python",
   "name": "python3"
  },
  "language_info": {
   "codemirror_mode": {
    "name": "ipython",
    "version": 3
   },
   "file_extension": ".py",
   "mimetype": "text/x-python",
   "name": "python",
   "nbconvert_exporter": "python",
   "pygments_lexer": "ipython3",
   "version": "3.9.0"
  }
 },
 "nbformat": 4,
 "nbformat_minor": 2
}
