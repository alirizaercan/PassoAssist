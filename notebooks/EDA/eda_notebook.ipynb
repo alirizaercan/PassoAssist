{
 "cells": [
  {
   "cell_type": "markdown",
   "metadata": {},
   "source": [
    "# Exploratory Data Analysis (EDA)\n",
    "\n",
    "The dataset would be review after manually data labelling."
   ]
  },
  {
   "cell_type": "markdown",
   "metadata": {},
   "source": [
    "The libraries are needed to be imported. "
   ]
  },
  {
   "cell_type": "code",
   "execution_count": 72,
   "metadata": {},
   "outputs": [],
   "source": [
    "import numpy as np \n",
    "import pandas as pd\n",
    "import seaborn as sns \n",
    "import matplotlib.pyplot as plt \n",
    "import plotly.express as px\n",
    "from collections import Counter \n",
    "\n"
   ]
  },
  {
   "cell_type": "code",
   "execution_count": 51,
   "metadata": {},
   "outputs": [
    {
     "data": {
      "text/html": [
       "<div>\n",
       "<style scoped>\n",
       "    .dataframe tbody tr th:only-of-type {\n",
       "        vertical-align: middle;\n",
       "    }\n",
       "\n",
       "    .dataframe tbody tr th {\n",
       "        vertical-align: top;\n",
       "    }\n",
       "\n",
       "    .dataframe thead th {\n",
       "        text-align: right;\n",
       "    }\n",
       "</style>\n",
       "<table border=\"1\" class=\"dataframe\">\n",
       "  <thead>\n",
       "    <tr style=\"text-align: right;\">\n",
       "      <th></th>\n",
       "      <th>text</th>\n",
       "      <th>entity</th>\n",
       "      <th>sentiment</th>\n",
       "      <th>konu</th>\n",
       "      <th>severity</th>\n",
       "      <th>bilet</th>\n",
       "      <th>musteri_hizmetleri</th>\n",
       "      <th>odeme</th>\n",
       "      <th>uygulama</th>\n",
       "      <th>passolig</th>\n",
       "      <th>passolig kart</th>\n",
       "      <th>diger</th>\n",
       "      <th>aksiyon</th>\n",
       "    </tr>\n",
       "  </thead>\n",
       "  <tbody>\n",
       "    <tr>\n",
       "      <th>0</th>\n",
       "      <td>passo uzerinden bir konsere guzel bir miktarda...</td>\n",
       "      <td>Passo</td>\n",
       "      <td>olumsuz</td>\n",
       "      <td>cagri merkezi yetkinlik</td>\n",
       "      <td>1</td>\n",
       "      <td>0</td>\n",
       "      <td>1</td>\n",
       "      <td>0</td>\n",
       "      <td>0</td>\n",
       "      <td>0</td>\n",
       "      <td>0</td>\n",
       "      <td>1</td>\n",
       "      <td>1</td>\n",
       "    </tr>\n",
       "    <tr>\n",
       "      <th>1</th>\n",
       "      <td>passo cesme acikhava gosteri bileti bkm in gos...</td>\n",
       "      <td>Passo</td>\n",
       "      <td>olumsuz</td>\n",
       "      <td>diger</td>\n",
       "      <td>1</td>\n",
       "      <td>1</td>\n",
       "      <td>0</td>\n",
       "      <td>0</td>\n",
       "      <td>0</td>\n",
       "      <td>0</td>\n",
       "      <td>0</td>\n",
       "      <td>1</td>\n",
       "      <td>1</td>\n",
       "    </tr>\n",
       "    <tr>\n",
       "      <th>2</th>\n",
       "      <td>eylul anyma etkinligi icin biletler ciktiktan ...</td>\n",
       "      <td>Passo</td>\n",
       "      <td>olumsuz</td>\n",
       "      <td>cagri merkezi yetkinlik</td>\n",
       "      <td>1</td>\n",
       "      <td>1</td>\n",
       "      <td>1</td>\n",
       "      <td>0</td>\n",
       "      <td>0</td>\n",
       "      <td>0</td>\n",
       "      <td>0</td>\n",
       "      <td>0</td>\n",
       "      <td>1</td>\n",
       "    </tr>\n",
       "    <tr>\n",
       "      <th>3</th>\n",
       "      <td>passo dan aldigim eylul tan tasci konser bilet...</td>\n",
       "      <td>Passo</td>\n",
       "      <td>olumsuz</td>\n",
       "      <td>cagri merkezi yetkinlik</td>\n",
       "      <td>1</td>\n",
       "      <td>1</td>\n",
       "      <td>1</td>\n",
       "      <td>0</td>\n",
       "      <td>0</td>\n",
       "      <td>0</td>\n",
       "      <td>0</td>\n",
       "      <td>0</td>\n",
       "      <td>1</td>\n",
       "    </tr>\n",
       "    <tr>\n",
       "      <th>4</th>\n",
       "      <td>passo bilet aldim email mesaj olarak bilgi gel...</td>\n",
       "      <td>Passo</td>\n",
       "      <td>olumsuz</td>\n",
       "      <td>cagri merkezi yetkinlik</td>\n",
       "      <td>1</td>\n",
       "      <td>0</td>\n",
       "      <td>1</td>\n",
       "      <td>0</td>\n",
       "      <td>0</td>\n",
       "      <td>0</td>\n",
       "      <td>0</td>\n",
       "      <td>0</td>\n",
       "      <td>1</td>\n",
       "    </tr>\n",
       "    <tr>\n",
       "      <th>...</th>\n",
       "      <td>...</td>\n",
       "      <td>...</td>\n",
       "      <td>...</td>\n",
       "      <td>...</td>\n",
       "      <td>...</td>\n",
       "      <td>...</td>\n",
       "      <td>...</td>\n",
       "      <td>...</td>\n",
       "      <td>...</td>\n",
       "      <td>...</td>\n",
       "      <td>...</td>\n",
       "      <td>...</td>\n",
       "      <td>...</td>\n",
       "    </tr>\n",
       "    <tr>\n",
       "      <th>3179</th>\n",
       "      <td>musteri hizmetleri islemlerim passo sayesinde ...</td>\n",
       "      <td>Passo</td>\n",
       "      <td>olumlu</td>\n",
       "      <td>cagri merkezi yetkinlik</td>\n",
       "      <td>0</td>\n",
       "      <td>0</td>\n",
       "      <td>1</td>\n",
       "      <td>0</td>\n",
       "      <td>0</td>\n",
       "      <td>0</td>\n",
       "      <td>0</td>\n",
       "      <td>0</td>\n",
       "      <td>0</td>\n",
       "    </tr>\n",
       "    <tr>\n",
       "      <th>3180</th>\n",
       "      <td>passolig kartimla uygulama islemi inanilmaz de...</td>\n",
       "      <td>Passo; Passolig; Passolig Kart</td>\n",
       "      <td>olumlu</td>\n",
       "      <td>uygulama</td>\n",
       "      <td>0</td>\n",
       "      <td>0</td>\n",
       "      <td>0</td>\n",
       "      <td>0</td>\n",
       "      <td>1</td>\n",
       "      <td>1</td>\n",
       "      <td>1</td>\n",
       "      <td>0</td>\n",
       "      <td>0</td>\n",
       "    </tr>\n",
       "    <tr>\n",
       "      <th>3181</th>\n",
       "      <td>uygulama islemlerim sirasinda musteri hizmetle...</td>\n",
       "      <td>Passolig</td>\n",
       "      <td>notr</td>\n",
       "      <td>uygulama</td>\n",
       "      <td>0</td>\n",
       "      <td>0</td>\n",
       "      <td>1</td>\n",
       "      <td>0</td>\n",
       "      <td>1</td>\n",
       "      <td>0</td>\n",
       "      <td>0</td>\n",
       "      <td>0</td>\n",
       "      <td>0</td>\n",
       "    </tr>\n",
       "    <tr>\n",
       "      <th>3182</th>\n",
       "      <td>passolig kartimla sorunsuzca ilgili passolig k...</td>\n",
       "      <td>Passo; Passolig; Passolig Kart</td>\n",
       "      <td>notr</td>\n",
       "      <td>diger</td>\n",
       "      <td>0</td>\n",
       "      <td>0</td>\n",
       "      <td>0</td>\n",
       "      <td>0</td>\n",
       "      <td>0</td>\n",
       "      <td>1</td>\n",
       "      <td>1</td>\n",
       "      <td>0</td>\n",
       "      <td>0</td>\n",
       "    </tr>\n",
       "    <tr>\n",
       "      <th>3183</th>\n",
       "      <td>passo nun odeme islemleri hizli sorunsuzdu kad...</td>\n",
       "      <td>Passo</td>\n",
       "      <td>notr</td>\n",
       "      <td>odeme</td>\n",
       "      <td>0</td>\n",
       "      <td>0</td>\n",
       "      <td>0</td>\n",
       "      <td>1</td>\n",
       "      <td>0</td>\n",
       "      <td>1</td>\n",
       "      <td>0</td>\n",
       "      <td>0</td>\n",
       "      <td>0</td>\n",
       "    </tr>\n",
       "  </tbody>\n",
       "</table>\n",
       "<p>3184 rows × 13 columns</p>\n",
       "</div>"
      ],
      "text/plain": [
       "                                                   text  \\\n",
       "0     passo uzerinden bir konsere guzel bir miktarda...   \n",
       "1     passo cesme acikhava gosteri bileti bkm in gos...   \n",
       "2     eylul anyma etkinligi icin biletler ciktiktan ...   \n",
       "3     passo dan aldigim eylul tan tasci konser bilet...   \n",
       "4     passo bilet aldim email mesaj olarak bilgi gel...   \n",
       "...                                                 ...   \n",
       "3179  musteri hizmetleri islemlerim passo sayesinde ...   \n",
       "3180  passolig kartimla uygulama islemi inanilmaz de...   \n",
       "3181  uygulama islemlerim sirasinda musteri hizmetle...   \n",
       "3182  passolig kartimla sorunsuzca ilgili passolig k...   \n",
       "3183  passo nun odeme islemleri hizli sorunsuzdu kad...   \n",
       "\n",
       "                              entity sentiment                     konu  \\\n",
       "0                              Passo   olumsuz  cagri merkezi yetkinlik   \n",
       "1                              Passo   olumsuz                    diger   \n",
       "2                              Passo   olumsuz  cagri merkezi yetkinlik   \n",
       "3                              Passo   olumsuz  cagri merkezi yetkinlik   \n",
       "4                              Passo   olumsuz  cagri merkezi yetkinlik   \n",
       "...                              ...       ...                      ...   \n",
       "3179                           Passo    olumlu  cagri merkezi yetkinlik   \n",
       "3180  Passo; Passolig; Passolig Kart    olumlu                 uygulama   \n",
       "3181                        Passolig      notr                 uygulama   \n",
       "3182  Passo; Passolig; Passolig Kart      notr                    diger   \n",
       "3183                           Passo      notr                    odeme   \n",
       "\n",
       "      severity  bilet  musteri_hizmetleri  odeme  uygulama  passolig  \\\n",
       "0            1      0                   1      0         0         0   \n",
       "1            1      1                   0      0         0         0   \n",
       "2            1      1                   1      0         0         0   \n",
       "3            1      1                   1      0         0         0   \n",
       "4            1      0                   1      0         0         0   \n",
       "...        ...    ...                 ...    ...       ...       ...   \n",
       "3179         0      0                   1      0         0         0   \n",
       "3180         0      0                   0      0         1         1   \n",
       "3181         0      0                   1      0         1         0   \n",
       "3182         0      0                   0      0         0         1   \n",
       "3183         0      0                   0      1         0         1   \n",
       "\n",
       "      passolig kart  diger  aksiyon  \n",
       "0                 0      1        1  \n",
       "1                 0      1        1  \n",
       "2                 0      0        1  \n",
       "3                 0      0        1  \n",
       "4                 0      0        1  \n",
       "...             ...    ...      ...  \n",
       "3179              0      0        0  \n",
       "3180              1      0        0  \n",
       "3181              0      0        0  \n",
       "3182              1      0        0  \n",
       "3183              0      0        0  \n",
       "\n",
       "[3184 rows x 13 columns]"
      ]
     },
     "execution_count": 51,
     "metadata": {},
     "output_type": "execute_result"
    }
   ],
   "source": [
    "df = pd.read_excel('../../data/processed/labelled_processed_data.xlsx')\n",
    "df\n"
   ]
  },
  {
   "cell_type": "code",
   "execution_count": 52,
   "metadata": {},
   "outputs": [
    {
     "name": "stdout",
     "output_type": "stream",
     "text": [
      "<class 'pandas.core.frame.DataFrame'>\n",
      "RangeIndex: 3184 entries, 0 to 3183\n",
      "Data columns (total 13 columns):\n",
      " #   Column              Non-Null Count  Dtype \n",
      "---  ------              --------------  ----- \n",
      " 0   text                3184 non-null   object\n",
      " 1   entity              3184 non-null   object\n",
      " 2   sentiment           3184 non-null   object\n",
      " 3   konu                3184 non-null   object\n",
      " 4   severity            3184 non-null   int64 \n",
      " 5   bilet               3184 non-null   int64 \n",
      " 6   musteri_hizmetleri  3184 non-null   int64 \n",
      " 7   odeme               3184 non-null   int64 \n",
      " 8   uygulama            3184 non-null   int64 \n",
      " 9   passolig            3184 non-null   int64 \n",
      " 10  passolig kart       3184 non-null   int64 \n",
      " 11  diger               3184 non-null   int64 \n",
      " 12  aksiyon             3184 non-null   int64 \n",
      "dtypes: int64(9), object(4)\n",
      "memory usage: 323.5+ KB\n"
     ]
    }
   ],
   "source": [
    "df.info()"
   ]
  },
  {
   "cell_type": "code",
   "execution_count": 53,
   "metadata": {},
   "outputs": [
    {
     "data": {
      "text/plain": [
       "array(['Passo', 'Passo; Passolig', 'Passolig', 'Passolig; Passo',\n",
       "       'Passolig; Passolig Kart', 'Passolig Kart', 'Passolig Kart; Passo',\n",
       "       'Passo; Passolig; Passolig Kart', 'Passo; Passolig Kart',\n",
       "       'Passo; Passolig Kart; Passolig', 'Passolig Kart; Passo; Passolig',\n",
       "       'Passolig; Passo; Passolig Kart', 'Passolig Kart; Passolig; Passo',\n",
       "       'Passolig; Passolig Kart; Passo', 'Passolig Kart; Passolig',\n",
       "       'Passolig kart', 'Passolig; Passolig; Passolig Kart', 'Passolig '],\n",
       "      dtype=object)"
      ]
     },
     "execution_count": 53,
     "metadata": {},
     "output_type": "execute_result"
    }
   ],
   "source": [
    "entity = df['entity'].unique()\n",
    "entity"
   ]
  },
  {
   "cell_type": "code",
   "execution_count": 54,
   "metadata": {},
   "outputs": [
    {
     "data": {
      "text/plain": [
       "array(['olumsuz', 'notr', 'olumlu'], dtype=object)"
      ]
     },
     "execution_count": 54,
     "metadata": {},
     "output_type": "execute_result"
    }
   ],
   "source": [
    "unique_values = df['sentiment'].unique()\n",
    "unique_values"
   ]
  },
  {
   "cell_type": "code",
   "execution_count": 56,
   "metadata": {},
   "outputs": [
    {
     "data": {
      "text/plain": [
       "array([1, 2, 0], dtype=int64)"
      ]
     },
     "execution_count": 56,
     "metadata": {},
     "output_type": "execute_result"
    }
   ],
   "source": [
    "severity = df['severity'].unique()\n",
    "severity"
   ]
  },
  {
   "cell_type": "code",
   "execution_count": 57,
   "metadata": {},
   "outputs": [
    {
     "data": {
      "text/plain": [
       "array(['cagri merkezi yetkinlik', 'diger', 'genel', 'odeme', 'uygulama',\n",
       "       'iptal', 'degisiklik', 'uyelik', 'iade', 'transfer', 'fatura'],\n",
       "      dtype=object)"
      ]
     },
     "execution_count": 57,
     "metadata": {},
     "output_type": "execute_result"
    }
   ],
   "source": [
    "reason = df['konu'].unique()\n",
    "reason"
   ]
  },
  {
   "cell_type": "code",
   "execution_count": 58,
   "metadata": {},
   "outputs": [
    {
     "data": {
      "text/plain": [
       "array([0, 1], dtype=int64)"
      ]
     },
     "execution_count": 58,
     "metadata": {},
     "output_type": "execute_result"
    }
   ],
   "source": [
    "bilet = df['bilet'].unique()\n",
    "bilet"
   ]
  },
  {
   "cell_type": "code",
   "execution_count": 59,
   "metadata": {},
   "outputs": [
    {
     "data": {
      "text/plain": [
       "array([1, 0], dtype=int64)"
      ]
     },
     "execution_count": 59,
     "metadata": {},
     "output_type": "execute_result"
    }
   ],
   "source": [
    "musteri_hizmetleri = df['musteri_hizmetleri'].unique()\n",
    "musteri_hizmetleri"
   ]
  },
  {
   "cell_type": "code",
   "execution_count": 60,
   "metadata": {},
   "outputs": [
    {
     "data": {
      "text/plain": [
       "array([0, 1], dtype=int64)"
      ]
     },
     "execution_count": 60,
     "metadata": {},
     "output_type": "execute_result"
    }
   ],
   "source": [
    "odeme = df['odeme'].unique()\n",
    "odeme"
   ]
  },
  {
   "cell_type": "code",
   "execution_count": 61,
   "metadata": {},
   "outputs": [
    {
     "data": {
      "text/plain": [
       "array([0, 1], dtype=int64)"
      ]
     },
     "execution_count": 61,
     "metadata": {},
     "output_type": "execute_result"
    }
   ],
   "source": [
    "uygulama = df['uygulama'].unique()\n",
    "uygulama"
   ]
  },
  {
   "cell_type": "code",
   "execution_count": 62,
   "metadata": {},
   "outputs": [
    {
     "data": {
      "text/plain": [
       "array([0, 1], dtype=int64)"
      ]
     },
     "execution_count": 62,
     "metadata": {},
     "output_type": "execute_result"
    }
   ],
   "source": [
    "passolig = df['passolig'].unique()\n",
    "passolig"
   ]
  },
  {
   "cell_type": "code",
   "execution_count": 63,
   "metadata": {},
   "outputs": [
    {
     "data": {
      "text/plain": [
       "array([0, 1], dtype=int64)"
      ]
     },
     "execution_count": 63,
     "metadata": {},
     "output_type": "execute_result"
    }
   ],
   "source": [
    "passolig_kart = df['passolig kart'].unique()\n",
    "passolig_kart"
   ]
  },
  {
   "cell_type": "code",
   "execution_count": 64,
   "metadata": {},
   "outputs": [
    {
     "data": {
      "text/plain": [
       "array([1, 0], dtype=int64)"
      ]
     },
     "execution_count": 64,
     "metadata": {},
     "output_type": "execute_result"
    }
   ],
   "source": [
    "diger = df['diger'].unique()\n",
    "diger"
   ]
  },
  {
   "cell_type": "code",
   "execution_count": 65,
   "metadata": {},
   "outputs": [
    {
     "data": {
      "text/plain": [
       "array([1, 0], dtype=int64)"
      ]
     },
     "execution_count": 65,
     "metadata": {},
     "output_type": "execute_result"
    }
   ],
   "source": [
    "aksiyon = df['aksiyon'].unique()\n",
    "aksiyon"
   ]
  },
  {
   "cell_type": "code",
   "execution_count": 66,
   "metadata": {},
   "outputs": [
    {
     "data": {
      "text/html": [
       "<div>\n",
       "<style scoped>\n",
       "    .dataframe tbody tr th:only-of-type {\n",
       "        vertical-align: middle;\n",
       "    }\n",
       "\n",
       "    .dataframe tbody tr th {\n",
       "        vertical-align: top;\n",
       "    }\n",
       "\n",
       "    .dataframe thead th {\n",
       "        text-align: right;\n",
       "    }\n",
       "</style>\n",
       "<table border=\"1\" class=\"dataframe\">\n",
       "  <thead>\n",
       "    <tr style=\"text-align: right;\">\n",
       "      <th></th>\n",
       "      <th>sentiment</th>\n",
       "      <th>Count</th>\n",
       "    </tr>\n",
       "  </thead>\n",
       "  <tbody>\n",
       "    <tr>\n",
       "      <th>2</th>\n",
       "      <td>olumsuz</td>\n",
       "      <td>2610</td>\n",
       "    </tr>\n",
       "    <tr>\n",
       "      <th>0</th>\n",
       "      <td>notr</td>\n",
       "      <td>446</td>\n",
       "    </tr>\n",
       "    <tr>\n",
       "      <th>1</th>\n",
       "      <td>olumlu</td>\n",
       "      <td>128</td>\n",
       "    </tr>\n",
       "  </tbody>\n",
       "</table>\n",
       "</div>"
      ],
      "text/plain": [
       "  sentiment  Count\n",
       "2   olumsuz   2610\n",
       "0      notr    446\n",
       "1    olumlu    128"
      ]
     },
     "metadata": {},
     "output_type": "display_data"
    },
    {
     "data": {
      "text/html": [
       "<div>\n",
       "<style scoped>\n",
       "    .dataframe tbody tr th:only-of-type {\n",
       "        vertical-align: middle;\n",
       "    }\n",
       "\n",
       "    .dataframe tbody tr th {\n",
       "        vertical-align: top;\n",
       "    }\n",
       "\n",
       "    .dataframe thead th {\n",
       "        text-align: right;\n",
       "    }\n",
       "</style>\n",
       "<table border=\"1\" class=\"dataframe\">\n",
       "  <thead>\n",
       "    <tr style=\"text-align: right;\">\n",
       "      <th></th>\n",
       "      <th>konu</th>\n",
       "      <th>Count</th>\n",
       "    </tr>\n",
       "  </thead>\n",
       "  <tbody>\n",
       "    <tr>\n",
       "      <th>4</th>\n",
       "      <td>genel</td>\n",
       "      <td>597</td>\n",
       "    </tr>\n",
       "    <tr>\n",
       "      <th>2</th>\n",
       "      <td>diger</td>\n",
       "      <td>579</td>\n",
       "    </tr>\n",
       "    <tr>\n",
       "      <th>10</th>\n",
       "      <td>uygulama</td>\n",
       "      <td>544</td>\n",
       "    </tr>\n",
       "    <tr>\n",
       "      <th>9</th>\n",
       "      <td>uyelik</td>\n",
       "      <td>416</td>\n",
       "    </tr>\n",
       "    <tr>\n",
       "      <th>7</th>\n",
       "      <td>odeme</td>\n",
       "      <td>311</td>\n",
       "    </tr>\n",
       "    <tr>\n",
       "      <th>0</th>\n",
       "      <td>cagri merkezi yetkinlik</td>\n",
       "      <td>297</td>\n",
       "    </tr>\n",
       "    <tr>\n",
       "      <th>5</th>\n",
       "      <td>iade</td>\n",
       "      <td>224</td>\n",
       "    </tr>\n",
       "    <tr>\n",
       "      <th>6</th>\n",
       "      <td>iptal</td>\n",
       "      <td>159</td>\n",
       "    </tr>\n",
       "    <tr>\n",
       "      <th>8</th>\n",
       "      <td>transfer</td>\n",
       "      <td>45</td>\n",
       "    </tr>\n",
       "    <tr>\n",
       "      <th>1</th>\n",
       "      <td>degisiklik</td>\n",
       "      <td>11</td>\n",
       "    </tr>\n",
       "    <tr>\n",
       "      <th>3</th>\n",
       "      <td>fatura</td>\n",
       "      <td>1</td>\n",
       "    </tr>\n",
       "  </tbody>\n",
       "</table>\n",
       "</div>"
      ],
      "text/plain": [
       "                       konu  Count\n",
       "4                     genel    597\n",
       "2                     diger    579\n",
       "10                 uygulama    544\n",
       "9                    uyelik    416\n",
       "7                     odeme    311\n",
       "0   cagri merkezi yetkinlik    297\n",
       "5                      iade    224\n",
       "6                     iptal    159\n",
       "8                  transfer     45\n",
       "1                degisiklik     11\n",
       "3                    fatura      1"
      ]
     },
     "metadata": {},
     "output_type": "display_data"
    },
    {
     "data": {
      "text/html": [
       "<div>\n",
       "<style scoped>\n",
       "    .dataframe tbody tr th:only-of-type {\n",
       "        vertical-align: middle;\n",
       "    }\n",
       "\n",
       "    .dataframe tbody tr th {\n",
       "        vertical-align: top;\n",
       "    }\n",
       "\n",
       "    .dataframe thead th {\n",
       "        text-align: right;\n",
       "    }\n",
       "</style>\n",
       "<table border=\"1\" class=\"dataframe\">\n",
       "  <thead>\n",
       "    <tr style=\"text-align: right;\">\n",
       "      <th></th>\n",
       "      <th>severity</th>\n",
       "      <th>Count</th>\n",
       "    </tr>\n",
       "  </thead>\n",
       "  <tbody>\n",
       "    <tr>\n",
       "      <th>2</th>\n",
       "      <td>2</td>\n",
       "      <td>1513</td>\n",
       "    </tr>\n",
       "    <tr>\n",
       "      <th>1</th>\n",
       "      <td>1</td>\n",
       "      <td>1059</td>\n",
       "    </tr>\n",
       "    <tr>\n",
       "      <th>0</th>\n",
       "      <td>0</td>\n",
       "      <td>612</td>\n",
       "    </tr>\n",
       "  </tbody>\n",
       "</table>\n",
       "</div>"
      ],
      "text/plain": [
       "   severity  Count\n",
       "2         2   1513\n",
       "1         1   1059\n",
       "0         0    612"
      ]
     },
     "metadata": {},
     "output_type": "display_data"
    },
    {
     "data": {
      "text/html": [
       "<div>\n",
       "<style scoped>\n",
       "    .dataframe tbody tr th:only-of-type {\n",
       "        vertical-align: middle;\n",
       "    }\n",
       "\n",
       "    .dataframe tbody tr th {\n",
       "        vertical-align: top;\n",
       "    }\n",
       "\n",
       "    .dataframe thead th {\n",
       "        text-align: right;\n",
       "    }\n",
       "</style>\n",
       "<table border=\"1\" class=\"dataframe\">\n",
       "  <thead>\n",
       "    <tr style=\"text-align: right;\">\n",
       "      <th></th>\n",
       "      <th>bilet</th>\n",
       "      <th>Count</th>\n",
       "    </tr>\n",
       "  </thead>\n",
       "  <tbody>\n",
       "    <tr>\n",
       "      <th>0</th>\n",
       "      <td>0</td>\n",
       "      <td>1866</td>\n",
       "    </tr>\n",
       "    <tr>\n",
       "      <th>1</th>\n",
       "      <td>1</td>\n",
       "      <td>1318</td>\n",
       "    </tr>\n",
       "  </tbody>\n",
       "</table>\n",
       "</div>"
      ],
      "text/plain": [
       "   bilet  Count\n",
       "0      0   1866\n",
       "1      1   1318"
      ]
     },
     "metadata": {},
     "output_type": "display_data"
    },
    {
     "data": {
      "text/html": [
       "<div>\n",
       "<style scoped>\n",
       "    .dataframe tbody tr th:only-of-type {\n",
       "        vertical-align: middle;\n",
       "    }\n",
       "\n",
       "    .dataframe tbody tr th {\n",
       "        vertical-align: top;\n",
       "    }\n",
       "\n",
       "    .dataframe thead th {\n",
       "        text-align: right;\n",
       "    }\n",
       "</style>\n",
       "<table border=\"1\" class=\"dataframe\">\n",
       "  <thead>\n",
       "    <tr style=\"text-align: right;\">\n",
       "      <th></th>\n",
       "      <th>musteri_hizmetleri</th>\n",
       "      <th>Count</th>\n",
       "    </tr>\n",
       "  </thead>\n",
       "  <tbody>\n",
       "    <tr>\n",
       "      <th>0</th>\n",
       "      <td>0</td>\n",
       "      <td>2322</td>\n",
       "    </tr>\n",
       "    <tr>\n",
       "      <th>1</th>\n",
       "      <td>1</td>\n",
       "      <td>862</td>\n",
       "    </tr>\n",
       "  </tbody>\n",
       "</table>\n",
       "</div>"
      ],
      "text/plain": [
       "   musteri_hizmetleri  Count\n",
       "0                   0   2322\n",
       "1                   1    862"
      ]
     },
     "metadata": {},
     "output_type": "display_data"
    },
    {
     "data": {
      "text/html": [
       "<div>\n",
       "<style scoped>\n",
       "    .dataframe tbody tr th:only-of-type {\n",
       "        vertical-align: middle;\n",
       "    }\n",
       "\n",
       "    .dataframe tbody tr th {\n",
       "        vertical-align: top;\n",
       "    }\n",
       "\n",
       "    .dataframe thead th {\n",
       "        text-align: right;\n",
       "    }\n",
       "</style>\n",
       "<table border=\"1\" class=\"dataframe\">\n",
       "  <thead>\n",
       "    <tr style=\"text-align: right;\">\n",
       "      <th></th>\n",
       "      <th>odeme</th>\n",
       "      <th>Count</th>\n",
       "    </tr>\n",
       "  </thead>\n",
       "  <tbody>\n",
       "    <tr>\n",
       "      <th>0</th>\n",
       "      <td>0</td>\n",
       "      <td>2543</td>\n",
       "    </tr>\n",
       "    <tr>\n",
       "      <th>1</th>\n",
       "      <td>1</td>\n",
       "      <td>641</td>\n",
       "    </tr>\n",
       "  </tbody>\n",
       "</table>\n",
       "</div>"
      ],
      "text/plain": [
       "   odeme  Count\n",
       "0      0   2543\n",
       "1      1    641"
      ]
     },
     "metadata": {},
     "output_type": "display_data"
    },
    {
     "data": {
      "text/html": [
       "<div>\n",
       "<style scoped>\n",
       "    .dataframe tbody tr th:only-of-type {\n",
       "        vertical-align: middle;\n",
       "    }\n",
       "\n",
       "    .dataframe tbody tr th {\n",
       "        vertical-align: top;\n",
       "    }\n",
       "\n",
       "    .dataframe thead th {\n",
       "        text-align: right;\n",
       "    }\n",
       "</style>\n",
       "<table border=\"1\" class=\"dataframe\">\n",
       "  <thead>\n",
       "    <tr style=\"text-align: right;\">\n",
       "      <th></th>\n",
       "      <th>uygulama</th>\n",
       "      <th>Count</th>\n",
       "    </tr>\n",
       "  </thead>\n",
       "  <tbody>\n",
       "    <tr>\n",
       "      <th>0</th>\n",
       "      <td>0</td>\n",
       "      <td>1608</td>\n",
       "    </tr>\n",
       "    <tr>\n",
       "      <th>1</th>\n",
       "      <td>1</td>\n",
       "      <td>1576</td>\n",
       "    </tr>\n",
       "  </tbody>\n",
       "</table>\n",
       "</div>"
      ],
      "text/plain": [
       "   uygulama  Count\n",
       "0         0   1608\n",
       "1         1   1576"
      ]
     },
     "metadata": {},
     "output_type": "display_data"
    },
    {
     "data": {
      "text/html": [
       "<div>\n",
       "<style scoped>\n",
       "    .dataframe tbody tr th:only-of-type {\n",
       "        vertical-align: middle;\n",
       "    }\n",
       "\n",
       "    .dataframe tbody tr th {\n",
       "        vertical-align: top;\n",
       "    }\n",
       "\n",
       "    .dataframe thead th {\n",
       "        text-align: right;\n",
       "    }\n",
       "</style>\n",
       "<table border=\"1\" class=\"dataframe\">\n",
       "  <thead>\n",
       "    <tr style=\"text-align: right;\">\n",
       "      <th></th>\n",
       "      <th>passolig</th>\n",
       "      <th>Count</th>\n",
       "    </tr>\n",
       "  </thead>\n",
       "  <tbody>\n",
       "    <tr>\n",
       "      <th>1</th>\n",
       "      <td>1</td>\n",
       "      <td>1620</td>\n",
       "    </tr>\n",
       "    <tr>\n",
       "      <th>0</th>\n",
       "      <td>0</td>\n",
       "      <td>1564</td>\n",
       "    </tr>\n",
       "  </tbody>\n",
       "</table>\n",
       "</div>"
      ],
      "text/plain": [
       "   passolig  Count\n",
       "1         1   1620\n",
       "0         0   1564"
      ]
     },
     "metadata": {},
     "output_type": "display_data"
    },
    {
     "data": {
      "text/html": [
       "<div>\n",
       "<style scoped>\n",
       "    .dataframe tbody tr th:only-of-type {\n",
       "        vertical-align: middle;\n",
       "    }\n",
       "\n",
       "    .dataframe tbody tr th {\n",
       "        vertical-align: top;\n",
       "    }\n",
       "\n",
       "    .dataframe thead th {\n",
       "        text-align: right;\n",
       "    }\n",
       "</style>\n",
       "<table border=\"1\" class=\"dataframe\">\n",
       "  <thead>\n",
       "    <tr style=\"text-align: right;\">\n",
       "      <th></th>\n",
       "      <th>passolig kart</th>\n",
       "      <th>Count</th>\n",
       "    </tr>\n",
       "  </thead>\n",
       "  <tbody>\n",
       "    <tr>\n",
       "      <th>0</th>\n",
       "      <td>0</td>\n",
       "      <td>2306</td>\n",
       "    </tr>\n",
       "    <tr>\n",
       "      <th>1</th>\n",
       "      <td>1</td>\n",
       "      <td>878</td>\n",
       "    </tr>\n",
       "  </tbody>\n",
       "</table>\n",
       "</div>"
      ],
      "text/plain": [
       "   passolig kart  Count\n",
       "0              0   2306\n",
       "1              1    878"
      ]
     },
     "metadata": {},
     "output_type": "display_data"
    },
    {
     "data": {
      "text/html": [
       "<div>\n",
       "<style scoped>\n",
       "    .dataframe tbody tr th:only-of-type {\n",
       "        vertical-align: middle;\n",
       "    }\n",
       "\n",
       "    .dataframe tbody tr th {\n",
       "        vertical-align: top;\n",
       "    }\n",
       "\n",
       "    .dataframe thead th {\n",
       "        text-align: right;\n",
       "    }\n",
       "</style>\n",
       "<table border=\"1\" class=\"dataframe\">\n",
       "  <thead>\n",
       "    <tr style=\"text-align: right;\">\n",
       "      <th></th>\n",
       "      <th>diger</th>\n",
       "      <th>Count</th>\n",
       "    </tr>\n",
       "  </thead>\n",
       "  <tbody>\n",
       "    <tr>\n",
       "      <th>0</th>\n",
       "      <td>0</td>\n",
       "      <td>2621</td>\n",
       "    </tr>\n",
       "    <tr>\n",
       "      <th>1</th>\n",
       "      <td>1</td>\n",
       "      <td>563</td>\n",
       "    </tr>\n",
       "  </tbody>\n",
       "</table>\n",
       "</div>"
      ],
      "text/plain": [
       "   diger  Count\n",
       "0      0   2621\n",
       "1      1    563"
      ]
     },
     "metadata": {},
     "output_type": "display_data"
    },
    {
     "data": {
      "text/html": [
       "<div>\n",
       "<style scoped>\n",
       "    .dataframe tbody tr th:only-of-type {\n",
       "        vertical-align: middle;\n",
       "    }\n",
       "\n",
       "    .dataframe tbody tr th {\n",
       "        vertical-align: top;\n",
       "    }\n",
       "\n",
       "    .dataframe thead th {\n",
       "        text-align: right;\n",
       "    }\n",
       "</style>\n",
       "<table border=\"1\" class=\"dataframe\">\n",
       "  <thead>\n",
       "    <tr style=\"text-align: right;\">\n",
       "      <th></th>\n",
       "      <th>aksiyon</th>\n",
       "      <th>Count</th>\n",
       "    </tr>\n",
       "  </thead>\n",
       "  <tbody>\n",
       "    <tr>\n",
       "      <th>1</th>\n",
       "      <td>1</td>\n",
       "      <td>2566</td>\n",
       "    </tr>\n",
       "    <tr>\n",
       "      <th>0</th>\n",
       "      <td>0</td>\n",
       "      <td>618</td>\n",
       "    </tr>\n",
       "  </tbody>\n",
       "</table>\n",
       "</div>"
      ],
      "text/plain": [
       "   aksiyon  Count\n",
       "1        1   2566\n",
       "0        0    618"
      ]
     },
     "metadata": {},
     "output_type": "display_data"
    }
   ],
   "source": [
    "for column in df.columns:\n",
    "    if column not in ['text', 'entity']:\n",
    "        # Sütundaki eşsiz değerlerin frekanslarını hesapla\n",
    "        grouped_df = df.groupby(column).size().reset_index(name='Count')\n",
    "        # Sonuçları sıralayıp yazdır\n",
    "        sorted_grouped_df = grouped_df.sort_values(by='Count', ascending=False)\n",
    "        \n",
    "        # Her sütun için ayrı bir hücrede göster\n",
    "        display(sorted_grouped_df)\n"
   ]
  },
  {
   "cell_type": "markdown",
   "metadata": {},
   "source": [
    "# Entity List Data Processing\n"
   ]
  },
  {
   "cell_type": "code",
   "execution_count": 67,
   "metadata": {},
   "outputs": [],
   "source": [
    "df['entity'] = df['entity'].str.strip()\n",
    "\n",
    "# Boşlukları tek bir boşluğa indirmek için replace fonksiyonunu kullanın\n",
    "df['entity'] = df['entity'].str.replace('\\s+', ' ', regex=True)"
   ]
  },
  {
   "cell_type": "code",
   "execution_count": 68,
   "metadata": {},
   "outputs": [
    {
     "data": {
      "text/html": [
       "<div>\n",
       "<style scoped>\n",
       "    .dataframe tbody tr th:only-of-type {\n",
       "        vertical-align: middle;\n",
       "    }\n",
       "\n",
       "    .dataframe tbody tr th {\n",
       "        vertical-align: top;\n",
       "    }\n",
       "\n",
       "    .dataframe thead th {\n",
       "        text-align: right;\n",
       "    }\n",
       "</style>\n",
       "<table border=\"1\" class=\"dataframe\">\n",
       "  <thead>\n",
       "    <tr style=\"text-align: right;\">\n",
       "      <th></th>\n",
       "      <th>text</th>\n",
       "      <th>entity</th>\n",
       "      <th>sentiment</th>\n",
       "      <th>konu</th>\n",
       "      <th>severity</th>\n",
       "      <th>bilet</th>\n",
       "      <th>musteri_hizmetleri</th>\n",
       "      <th>odeme</th>\n",
       "      <th>uygulama</th>\n",
       "      <th>passolig</th>\n",
       "      <th>passolig kart</th>\n",
       "      <th>diger</th>\n",
       "      <th>aksiyon</th>\n",
       "    </tr>\n",
       "  </thead>\n",
       "  <tbody>\n",
       "    <tr>\n",
       "      <th>0</th>\n",
       "      <td>passo uzerinden bir konsere guzel bir miktarda...</td>\n",
       "      <td>passo</td>\n",
       "      <td>olumsuz</td>\n",
       "      <td>cagri merkezi yetkinlik</td>\n",
       "      <td>1</td>\n",
       "      <td>0</td>\n",
       "      <td>1</td>\n",
       "      <td>0</td>\n",
       "      <td>0</td>\n",
       "      <td>0</td>\n",
       "      <td>0</td>\n",
       "      <td>1</td>\n",
       "      <td>1</td>\n",
       "    </tr>\n",
       "    <tr>\n",
       "      <th>1</th>\n",
       "      <td>passo cesme acikhava gosteri bileti bkm in gos...</td>\n",
       "      <td>passo</td>\n",
       "      <td>olumsuz</td>\n",
       "      <td>diger</td>\n",
       "      <td>1</td>\n",
       "      <td>1</td>\n",
       "      <td>0</td>\n",
       "      <td>0</td>\n",
       "      <td>0</td>\n",
       "      <td>0</td>\n",
       "      <td>0</td>\n",
       "      <td>1</td>\n",
       "      <td>1</td>\n",
       "    </tr>\n",
       "    <tr>\n",
       "      <th>2</th>\n",
       "      <td>eylul anyma etkinligi icin biletler ciktiktan ...</td>\n",
       "      <td>passo</td>\n",
       "      <td>olumsuz</td>\n",
       "      <td>cagri merkezi yetkinlik</td>\n",
       "      <td>1</td>\n",
       "      <td>1</td>\n",
       "      <td>1</td>\n",
       "      <td>0</td>\n",
       "      <td>0</td>\n",
       "      <td>0</td>\n",
       "      <td>0</td>\n",
       "      <td>0</td>\n",
       "      <td>1</td>\n",
       "    </tr>\n",
       "    <tr>\n",
       "      <th>3</th>\n",
       "      <td>passo dan aldigim eylul tan tasci konser bilet...</td>\n",
       "      <td>passo</td>\n",
       "      <td>olumsuz</td>\n",
       "      <td>cagri merkezi yetkinlik</td>\n",
       "      <td>1</td>\n",
       "      <td>1</td>\n",
       "      <td>1</td>\n",
       "      <td>0</td>\n",
       "      <td>0</td>\n",
       "      <td>0</td>\n",
       "      <td>0</td>\n",
       "      <td>0</td>\n",
       "      <td>1</td>\n",
       "    </tr>\n",
       "    <tr>\n",
       "      <th>4</th>\n",
       "      <td>passo bilet aldim email mesaj olarak bilgi gel...</td>\n",
       "      <td>passo</td>\n",
       "      <td>olumsuz</td>\n",
       "      <td>cagri merkezi yetkinlik</td>\n",
       "      <td>1</td>\n",
       "      <td>0</td>\n",
       "      <td>1</td>\n",
       "      <td>0</td>\n",
       "      <td>0</td>\n",
       "      <td>0</td>\n",
       "      <td>0</td>\n",
       "      <td>0</td>\n",
       "      <td>1</td>\n",
       "    </tr>\n",
       "    <tr>\n",
       "      <th>...</th>\n",
       "      <td>...</td>\n",
       "      <td>...</td>\n",
       "      <td>...</td>\n",
       "      <td>...</td>\n",
       "      <td>...</td>\n",
       "      <td>...</td>\n",
       "      <td>...</td>\n",
       "      <td>...</td>\n",
       "      <td>...</td>\n",
       "      <td>...</td>\n",
       "      <td>...</td>\n",
       "      <td>...</td>\n",
       "      <td>...</td>\n",
       "    </tr>\n",
       "    <tr>\n",
       "      <th>3179</th>\n",
       "      <td>musteri hizmetleri islemlerim passo sayesinde ...</td>\n",
       "      <td>passo</td>\n",
       "      <td>olumlu</td>\n",
       "      <td>cagri merkezi yetkinlik</td>\n",
       "      <td>0</td>\n",
       "      <td>0</td>\n",
       "      <td>1</td>\n",
       "      <td>0</td>\n",
       "      <td>0</td>\n",
       "      <td>0</td>\n",
       "      <td>0</td>\n",
       "      <td>0</td>\n",
       "      <td>0</td>\n",
       "    </tr>\n",
       "    <tr>\n",
       "      <th>3180</th>\n",
       "      <td>passolig kartimla uygulama islemi inanilmaz de...</td>\n",
       "      <td>passo; passolig; passolig kart</td>\n",
       "      <td>olumlu</td>\n",
       "      <td>uygulama</td>\n",
       "      <td>0</td>\n",
       "      <td>0</td>\n",
       "      <td>0</td>\n",
       "      <td>0</td>\n",
       "      <td>1</td>\n",
       "      <td>1</td>\n",
       "      <td>1</td>\n",
       "      <td>0</td>\n",
       "      <td>0</td>\n",
       "    </tr>\n",
       "    <tr>\n",
       "      <th>3181</th>\n",
       "      <td>uygulama islemlerim sirasinda musteri hizmetle...</td>\n",
       "      <td>passolig</td>\n",
       "      <td>notr</td>\n",
       "      <td>uygulama</td>\n",
       "      <td>0</td>\n",
       "      <td>0</td>\n",
       "      <td>1</td>\n",
       "      <td>0</td>\n",
       "      <td>1</td>\n",
       "      <td>0</td>\n",
       "      <td>0</td>\n",
       "      <td>0</td>\n",
       "      <td>0</td>\n",
       "    </tr>\n",
       "    <tr>\n",
       "      <th>3182</th>\n",
       "      <td>passolig kartimla sorunsuzca ilgili passolig k...</td>\n",
       "      <td>passo; passolig; passolig kart</td>\n",
       "      <td>notr</td>\n",
       "      <td>diger</td>\n",
       "      <td>0</td>\n",
       "      <td>0</td>\n",
       "      <td>0</td>\n",
       "      <td>0</td>\n",
       "      <td>0</td>\n",
       "      <td>1</td>\n",
       "      <td>1</td>\n",
       "      <td>0</td>\n",
       "      <td>0</td>\n",
       "    </tr>\n",
       "    <tr>\n",
       "      <th>3183</th>\n",
       "      <td>passo nun odeme islemleri hizli sorunsuzdu kad...</td>\n",
       "      <td>passo</td>\n",
       "      <td>notr</td>\n",
       "      <td>odeme</td>\n",
       "      <td>0</td>\n",
       "      <td>0</td>\n",
       "      <td>0</td>\n",
       "      <td>1</td>\n",
       "      <td>0</td>\n",
       "      <td>1</td>\n",
       "      <td>0</td>\n",
       "      <td>0</td>\n",
       "      <td>0</td>\n",
       "    </tr>\n",
       "  </tbody>\n",
       "</table>\n",
       "<p>3184 rows × 13 columns</p>\n",
       "</div>"
      ],
      "text/plain": [
       "                                                   text  \\\n",
       "0     passo uzerinden bir konsere guzel bir miktarda...   \n",
       "1     passo cesme acikhava gosteri bileti bkm in gos...   \n",
       "2     eylul anyma etkinligi icin biletler ciktiktan ...   \n",
       "3     passo dan aldigim eylul tan tasci konser bilet...   \n",
       "4     passo bilet aldim email mesaj olarak bilgi gel...   \n",
       "...                                                 ...   \n",
       "3179  musteri hizmetleri islemlerim passo sayesinde ...   \n",
       "3180  passolig kartimla uygulama islemi inanilmaz de...   \n",
       "3181  uygulama islemlerim sirasinda musteri hizmetle...   \n",
       "3182  passolig kartimla sorunsuzca ilgili passolig k...   \n",
       "3183  passo nun odeme islemleri hizli sorunsuzdu kad...   \n",
       "\n",
       "                              entity sentiment                     konu  \\\n",
       "0                              passo   olumsuz  cagri merkezi yetkinlik   \n",
       "1                              passo   olumsuz                    diger   \n",
       "2                              passo   olumsuz  cagri merkezi yetkinlik   \n",
       "3                              passo   olumsuz  cagri merkezi yetkinlik   \n",
       "4                              passo   olumsuz  cagri merkezi yetkinlik   \n",
       "...                              ...       ...                      ...   \n",
       "3179                           passo    olumlu  cagri merkezi yetkinlik   \n",
       "3180  passo; passolig; passolig kart    olumlu                 uygulama   \n",
       "3181                        passolig      notr                 uygulama   \n",
       "3182  passo; passolig; passolig kart      notr                    diger   \n",
       "3183                           passo      notr                    odeme   \n",
       "\n",
       "      severity  bilet  musteri_hizmetleri  odeme  uygulama  passolig  \\\n",
       "0            1      0                   1      0         0         0   \n",
       "1            1      1                   0      0         0         0   \n",
       "2            1      1                   1      0         0         0   \n",
       "3            1      1                   1      0         0         0   \n",
       "4            1      0                   1      0         0         0   \n",
       "...        ...    ...                 ...    ...       ...       ...   \n",
       "3179         0      0                   1      0         0         0   \n",
       "3180         0      0                   0      0         1         1   \n",
       "3181         0      0                   1      0         1         0   \n",
       "3182         0      0                   0      0         0         1   \n",
       "3183         0      0                   0      1         0         1   \n",
       "\n",
       "      passolig kart  diger  aksiyon  \n",
       "0                 0      1        1  \n",
       "1                 0      1        1  \n",
       "2                 0      0        1  \n",
       "3                 0      0        1  \n",
       "4                 0      0        1  \n",
       "...             ...    ...      ...  \n",
       "3179              0      0        0  \n",
       "3180              1      0        0  \n",
       "3181              0      0        0  \n",
       "3182              1      0        0  \n",
       "3183              0      0        0  \n",
       "\n",
       "[3184 rows x 13 columns]"
      ]
     },
     "execution_count": 68,
     "metadata": {},
     "output_type": "execute_result"
    }
   ],
   "source": [
    "df['entity'] = df['entity'].str.lower()\n",
    "df"
   ]
  },
  {
   "cell_type": "code",
   "execution_count": 69,
   "metadata": {},
   "outputs": [
    {
     "name": "stdout",
     "output_type": "stream",
     "text": [
      "          entity\n",
      "0          passo\n",
      "1  passolig kart\n",
      "2       passolig\n"
     ]
    }
   ],
   "source": [
    "df['entity_list_split'] = df['entity'].str.split(\";\")\n",
    "\n",
    "# Tüm entity'leri bir listeye toplama ve boşlukları temizleme\n",
    "all_entities = [entity.strip() for sublist in df['entity_list_split'].tolist() for entity in sublist]\n",
    "\n",
    "# Benzersiz entity'leri set ile ayırma\n",
    "unique_entities = set(all_entities)\n",
    "\n",
    "# Benzersiz entity'leri bir DataFrame'e dönüştürme\n",
    "unique_entities_df = pd.DataFrame(unique_entities, columns=['entity'])\n",
    "\n",
    "print(unique_entities_df)"
   ]
  },
  {
   "cell_type": "code",
   "execution_count": 79,
   "metadata": {},
   "outputs": [
    {
     "data": {
      "application/vnd.plotly.v1+json": {
       "config": {
        "plotlyServerURL": "https://plot.ly"
       },
       "data": [
        {
         "alignmentgroup": "True",
         "hovertemplate": "Entity=%{x}<br>Count=%{marker.color}<extra></extra>",
         "legendgroup": "",
         "marker": {
          "color": [
           1829,
           1232,
           804
          ],
          "coloraxis": "coloraxis",
          "pattern": {
           "shape": ""
          }
         },
         "name": "",
         "offsetgroup": "",
         "orientation": "v",
         "showlegend": false,
         "text": [
          1829,
          1232,
          804
         ],
         "textposition": "outside",
         "texttemplate": "%{text:.2s}",
         "type": "bar",
         "x": [
          "passo",
          "passolig",
          "passolig kart"
         ],
         "xaxis": "x",
         "y": [
          1829,
          1232,
          804
         ],
         "yaxis": "y"
        }
       ],
       "layout": {
        "barmode": "relative",
        "coloraxis": {
         "colorbar": {
          "title": {
           "text": "Count"
          }
         },
         "colorscale": [
          [
           0,
           "#440154"
          ],
          [
           0.1111111111111111,
           "#482878"
          ],
          [
           0.2222222222222222,
           "#3e4989"
          ],
          [
           0.3333333333333333,
           "#31688e"
          ],
          [
           0.4444444444444444,
           "#26828e"
          ],
          [
           0.5555555555555556,
           "#1f9e89"
          ],
          [
           0.6666666666666666,
           "#35b779"
          ],
          [
           0.7777777777777778,
           "#6ece58"
          ],
          [
           0.8888888888888888,
           "#b5de2b"
          ],
          [
           1,
           "#fde725"
          ]
         ]
        },
        "height": 600,
        "legend": {
         "tracegroupgap": 0
        },
        "template": {
         "data": {
          "bar": [
           {
            "error_x": {
             "color": "#2a3f5f"
            },
            "error_y": {
             "color": "#2a3f5f"
            },
            "marker": {
             "line": {
              "color": "white",
              "width": 0.5
             },
             "pattern": {
              "fillmode": "overlay",
              "size": 10,
              "solidity": 0.2
             }
            },
            "type": "bar"
           }
          ],
          "barpolar": [
           {
            "marker": {
             "line": {
              "color": "white",
              "width": 0.5
             },
             "pattern": {
              "fillmode": "overlay",
              "size": 10,
              "solidity": 0.2
             }
            },
            "type": "barpolar"
           }
          ],
          "carpet": [
           {
            "aaxis": {
             "endlinecolor": "#2a3f5f",
             "gridcolor": "#C8D4E3",
             "linecolor": "#C8D4E3",
             "minorgridcolor": "#C8D4E3",
             "startlinecolor": "#2a3f5f"
            },
            "baxis": {
             "endlinecolor": "#2a3f5f",
             "gridcolor": "#C8D4E3",
             "linecolor": "#C8D4E3",
             "minorgridcolor": "#C8D4E3",
             "startlinecolor": "#2a3f5f"
            },
            "type": "carpet"
           }
          ],
          "choropleth": [
           {
            "colorbar": {
             "outlinewidth": 0,
             "ticks": ""
            },
            "type": "choropleth"
           }
          ],
          "contour": [
           {
            "colorbar": {
             "outlinewidth": 0,
             "ticks": ""
            },
            "colorscale": [
             [
              0,
              "#0d0887"
             ],
             [
              0.1111111111111111,
              "#46039f"
             ],
             [
              0.2222222222222222,
              "#7201a8"
             ],
             [
              0.3333333333333333,
              "#9c179e"
             ],
             [
              0.4444444444444444,
              "#bd3786"
             ],
             [
              0.5555555555555556,
              "#d8576b"
             ],
             [
              0.6666666666666666,
              "#ed7953"
             ],
             [
              0.7777777777777778,
              "#fb9f3a"
             ],
             [
              0.8888888888888888,
              "#fdca26"
             ],
             [
              1,
              "#f0f921"
             ]
            ],
            "type": "contour"
           }
          ],
          "contourcarpet": [
           {
            "colorbar": {
             "outlinewidth": 0,
             "ticks": ""
            },
            "type": "contourcarpet"
           }
          ],
          "heatmap": [
           {
            "colorbar": {
             "outlinewidth": 0,
             "ticks": ""
            },
            "colorscale": [
             [
              0,
              "#0d0887"
             ],
             [
              0.1111111111111111,
              "#46039f"
             ],
             [
              0.2222222222222222,
              "#7201a8"
             ],
             [
              0.3333333333333333,
              "#9c179e"
             ],
             [
              0.4444444444444444,
              "#bd3786"
             ],
             [
              0.5555555555555556,
              "#d8576b"
             ],
             [
              0.6666666666666666,
              "#ed7953"
             ],
             [
              0.7777777777777778,
              "#fb9f3a"
             ],
             [
              0.8888888888888888,
              "#fdca26"
             ],
             [
              1,
              "#f0f921"
             ]
            ],
            "type": "heatmap"
           }
          ],
          "heatmapgl": [
           {
            "colorbar": {
             "outlinewidth": 0,
             "ticks": ""
            },
            "colorscale": [
             [
              0,
              "#0d0887"
             ],
             [
              0.1111111111111111,
              "#46039f"
             ],
             [
              0.2222222222222222,
              "#7201a8"
             ],
             [
              0.3333333333333333,
              "#9c179e"
             ],
             [
              0.4444444444444444,
              "#bd3786"
             ],
             [
              0.5555555555555556,
              "#d8576b"
             ],
             [
              0.6666666666666666,
              "#ed7953"
             ],
             [
              0.7777777777777778,
              "#fb9f3a"
             ],
             [
              0.8888888888888888,
              "#fdca26"
             ],
             [
              1,
              "#f0f921"
             ]
            ],
            "type": "heatmapgl"
           }
          ],
          "histogram": [
           {
            "marker": {
             "pattern": {
              "fillmode": "overlay",
              "size": 10,
              "solidity": 0.2
             }
            },
            "type": "histogram"
           }
          ],
          "histogram2d": [
           {
            "colorbar": {
             "outlinewidth": 0,
             "ticks": ""
            },
            "colorscale": [
             [
              0,
              "#0d0887"
             ],
             [
              0.1111111111111111,
              "#46039f"
             ],
             [
              0.2222222222222222,
              "#7201a8"
             ],
             [
              0.3333333333333333,
              "#9c179e"
             ],
             [
              0.4444444444444444,
              "#bd3786"
             ],
             [
              0.5555555555555556,
              "#d8576b"
             ],
             [
              0.6666666666666666,
              "#ed7953"
             ],
             [
              0.7777777777777778,
              "#fb9f3a"
             ],
             [
              0.8888888888888888,
              "#fdca26"
             ],
             [
              1,
              "#f0f921"
             ]
            ],
            "type": "histogram2d"
           }
          ],
          "histogram2dcontour": [
           {
            "colorbar": {
             "outlinewidth": 0,
             "ticks": ""
            },
            "colorscale": [
             [
              0,
              "#0d0887"
             ],
             [
              0.1111111111111111,
              "#46039f"
             ],
             [
              0.2222222222222222,
              "#7201a8"
             ],
             [
              0.3333333333333333,
              "#9c179e"
             ],
             [
              0.4444444444444444,
              "#bd3786"
             ],
             [
              0.5555555555555556,
              "#d8576b"
             ],
             [
              0.6666666666666666,
              "#ed7953"
             ],
             [
              0.7777777777777778,
              "#fb9f3a"
             ],
             [
              0.8888888888888888,
              "#fdca26"
             ],
             [
              1,
              "#f0f921"
             ]
            ],
            "type": "histogram2dcontour"
           }
          ],
          "mesh3d": [
           {
            "colorbar": {
             "outlinewidth": 0,
             "ticks": ""
            },
            "type": "mesh3d"
           }
          ],
          "parcoords": [
           {
            "line": {
             "colorbar": {
              "outlinewidth": 0,
              "ticks": ""
             }
            },
            "type": "parcoords"
           }
          ],
          "pie": [
           {
            "automargin": true,
            "type": "pie"
           }
          ],
          "scatter": [
           {
            "fillpattern": {
             "fillmode": "overlay",
             "size": 10,
             "solidity": 0.2
            },
            "type": "scatter"
           }
          ],
          "scatter3d": [
           {
            "line": {
             "colorbar": {
              "outlinewidth": 0,
              "ticks": ""
             }
            },
            "marker": {
             "colorbar": {
              "outlinewidth": 0,
              "ticks": ""
             }
            },
            "type": "scatter3d"
           }
          ],
          "scattercarpet": [
           {
            "marker": {
             "colorbar": {
              "outlinewidth": 0,
              "ticks": ""
             }
            },
            "type": "scattercarpet"
           }
          ],
          "scattergeo": [
           {
            "marker": {
             "colorbar": {
              "outlinewidth": 0,
              "ticks": ""
             }
            },
            "type": "scattergeo"
           }
          ],
          "scattergl": [
           {
            "marker": {
             "colorbar": {
              "outlinewidth": 0,
              "ticks": ""
             }
            },
            "type": "scattergl"
           }
          ],
          "scattermapbox": [
           {
            "marker": {
             "colorbar": {
              "outlinewidth": 0,
              "ticks": ""
             }
            },
            "type": "scattermapbox"
           }
          ],
          "scatterpolar": [
           {
            "marker": {
             "colorbar": {
              "outlinewidth": 0,
              "ticks": ""
             }
            },
            "type": "scatterpolar"
           }
          ],
          "scatterpolargl": [
           {
            "marker": {
             "colorbar": {
              "outlinewidth": 0,
              "ticks": ""
             }
            },
            "type": "scatterpolargl"
           }
          ],
          "scatterternary": [
           {
            "marker": {
             "colorbar": {
              "outlinewidth": 0,
              "ticks": ""
             }
            },
            "type": "scatterternary"
           }
          ],
          "surface": [
           {
            "colorbar": {
             "outlinewidth": 0,
             "ticks": ""
            },
            "colorscale": [
             [
              0,
              "#0d0887"
             ],
             [
              0.1111111111111111,
              "#46039f"
             ],
             [
              0.2222222222222222,
              "#7201a8"
             ],
             [
              0.3333333333333333,
              "#9c179e"
             ],
             [
              0.4444444444444444,
              "#bd3786"
             ],
             [
              0.5555555555555556,
              "#d8576b"
             ],
             [
              0.6666666666666666,
              "#ed7953"
             ],
             [
              0.7777777777777778,
              "#fb9f3a"
             ],
             [
              0.8888888888888888,
              "#fdca26"
             ],
             [
              1,
              "#f0f921"
             ]
            ],
            "type": "surface"
           }
          ],
          "table": [
           {
            "cells": {
             "fill": {
              "color": "#EBF0F8"
             },
             "line": {
              "color": "white"
             }
            },
            "header": {
             "fill": {
              "color": "#C8D4E3"
             },
             "line": {
              "color": "white"
             }
            },
            "type": "table"
           }
          ]
         },
         "layout": {
          "annotationdefaults": {
           "arrowcolor": "#2a3f5f",
           "arrowhead": 0,
           "arrowwidth": 1
          },
          "autotypenumbers": "strict",
          "coloraxis": {
           "colorbar": {
            "outlinewidth": 0,
            "ticks": ""
           }
          },
          "colorscale": {
           "diverging": [
            [
             0,
             "#8e0152"
            ],
            [
             0.1,
             "#c51b7d"
            ],
            [
             0.2,
             "#de77ae"
            ],
            [
             0.3,
             "#f1b6da"
            ],
            [
             0.4,
             "#fde0ef"
            ],
            [
             0.5,
             "#f7f7f7"
            ],
            [
             0.6,
             "#e6f5d0"
            ],
            [
             0.7,
             "#b8e186"
            ],
            [
             0.8,
             "#7fbc41"
            ],
            [
             0.9,
             "#4d9221"
            ],
            [
             1,
             "#276419"
            ]
           ],
           "sequential": [
            [
             0,
             "#0d0887"
            ],
            [
             0.1111111111111111,
             "#46039f"
            ],
            [
             0.2222222222222222,
             "#7201a8"
            ],
            [
             0.3333333333333333,
             "#9c179e"
            ],
            [
             0.4444444444444444,
             "#bd3786"
            ],
            [
             0.5555555555555556,
             "#d8576b"
            ],
            [
             0.6666666666666666,
             "#ed7953"
            ],
            [
             0.7777777777777778,
             "#fb9f3a"
            ],
            [
             0.8888888888888888,
             "#fdca26"
            ],
            [
             1,
             "#f0f921"
            ]
           ],
           "sequentialminus": [
            [
             0,
             "#0d0887"
            ],
            [
             0.1111111111111111,
             "#46039f"
            ],
            [
             0.2222222222222222,
             "#7201a8"
            ],
            [
             0.3333333333333333,
             "#9c179e"
            ],
            [
             0.4444444444444444,
             "#bd3786"
            ],
            [
             0.5555555555555556,
             "#d8576b"
            ],
            [
             0.6666666666666666,
             "#ed7953"
            ],
            [
             0.7777777777777778,
             "#fb9f3a"
            ],
            [
             0.8888888888888888,
             "#fdca26"
            ],
            [
             1,
             "#f0f921"
            ]
           ]
          },
          "colorway": [
           "#636efa",
           "#EF553B",
           "#00cc96",
           "#ab63fa",
           "#FFA15A",
           "#19d3f3",
           "#FF6692",
           "#B6E880",
           "#FF97FF",
           "#FECB52"
          ],
          "font": {
           "color": "#2a3f5f"
          },
          "geo": {
           "bgcolor": "white",
           "lakecolor": "white",
           "landcolor": "white",
           "showlakes": true,
           "showland": true,
           "subunitcolor": "#C8D4E3"
          },
          "hoverlabel": {
           "align": "left"
          },
          "hovermode": "closest",
          "mapbox": {
           "style": "light"
          },
          "paper_bgcolor": "white",
          "plot_bgcolor": "white",
          "polar": {
           "angularaxis": {
            "gridcolor": "#EBF0F8",
            "linecolor": "#EBF0F8",
            "ticks": ""
           },
           "bgcolor": "white",
           "radialaxis": {
            "gridcolor": "#EBF0F8",
            "linecolor": "#EBF0F8",
            "ticks": ""
           }
          },
          "scene": {
           "xaxis": {
            "backgroundcolor": "white",
            "gridcolor": "#DFE8F3",
            "gridwidth": 2,
            "linecolor": "#EBF0F8",
            "showbackground": true,
            "ticks": "",
            "zerolinecolor": "#EBF0F8"
           },
           "yaxis": {
            "backgroundcolor": "white",
            "gridcolor": "#DFE8F3",
            "gridwidth": 2,
            "linecolor": "#EBF0F8",
            "showbackground": true,
            "ticks": "",
            "zerolinecolor": "#EBF0F8"
           },
           "zaxis": {
            "backgroundcolor": "white",
            "gridcolor": "#DFE8F3",
            "gridwidth": 2,
            "linecolor": "#EBF0F8",
            "showbackground": true,
            "ticks": "",
            "zerolinecolor": "#EBF0F8"
           }
          },
          "shapedefaults": {
           "line": {
            "color": "#2a3f5f"
           }
          },
          "ternary": {
           "aaxis": {
            "gridcolor": "#DFE8F3",
            "linecolor": "#A2B1C6",
            "ticks": ""
           },
           "baxis": {
            "gridcolor": "#DFE8F3",
            "linecolor": "#A2B1C6",
            "ticks": ""
           },
           "bgcolor": "white",
           "caxis": {
            "gridcolor": "#DFE8F3",
            "linecolor": "#A2B1C6",
            "ticks": ""
           }
          },
          "title": {
           "x": 0.05
          },
          "xaxis": {
           "automargin": true,
           "gridcolor": "#EBF0F8",
           "linecolor": "#EBF0F8",
           "ticks": "",
           "title": {
            "standoff": 15
           },
           "zerolinecolor": "#EBF0F8",
           "zerolinewidth": 2
          },
          "yaxis": {
           "automargin": true,
           "gridcolor": "#EBF0F8",
           "linecolor": "#EBF0F8",
           "ticks": "",
           "title": {
            "standoff": 15
           },
           "zerolinecolor": "#EBF0F8",
           "zerolinewidth": 2
          }
         }
        },
        "title": {
         "text": "Most Frequent Entities"
        },
        "width": 1064,
        "xaxis": {
         "anchor": "y",
         "domain": [
          0,
          1
         ],
         "tickangle": 45,
         "title": {
          "text": "Entity"
         }
        },
        "yaxis": {
         "anchor": "x",
         "automargin": true,
         "domain": [
          0,
          1
         ],
         "title": {
          "text": "Count"
         }
        }
       }
      }
     },
     "metadata": {},
     "output_type": "display_data"
    }
   ],
   "source": [
    "\n",
    "entity_counts = pd.Series(all_entities).value_counts()\n",
    "top_entities_df = entity_counts.reset_index()\n",
    "top_entities_df.columns = ['entity', 'count']\n",
    "\n",
    "# Bar grafiği oluşturma\n",
    "fig = px.bar(\n",
    "    top_entities_df,\n",
    "    x='entity',\n",
    "    y='count',\n",
    "    title='Most Frequent Entities',\n",
    "    labels={'entity': 'Entity', 'count': 'Count'},\n",
    "    color='count',  # Renkleri count'a göre ayarla\n",
    "    color_continuous_scale='Viridis',  # Renk paleti\n",
    "    text='count',  # Barların üzerine değerleri yazdır\n",
    "    template='plotly_white',  # Grafiğin arka planı\n",
    "    width=1064,  # Grafik genişliği\n",
    "    height=600   # Grafik yüksekliği\n",
    ")\n",
    "\n",
    "# Barların üzerindeki metinleri hizala\n",
    "fig.update_traces(texttemplate='%{text:.2s}', textposition='outside')\n",
    "\n",
    "# X eksenindeki etiketleri döndür ve Y eksenini otomatik ayarla\n",
    "fig.update_xaxes(tickangle=45)\n",
    "fig.update_yaxes(automargin=True)\n",
    "\n",
    "# Grafiği göster\n",
    "fig.show()\n"
   ]
  },
  {
   "cell_type": "code",
   "execution_count": 82,
   "metadata": {},
   "outputs": [
    {
     "data": {
      "text/html": [
       "<div>\n",
       "<style scoped>\n",
       "    .dataframe tbody tr th:only-of-type {\n",
       "        vertical-align: middle;\n",
       "    }\n",
       "\n",
       "    .dataframe tbody tr th {\n",
       "        vertical-align: top;\n",
       "    }\n",
       "\n",
       "    .dataframe thead th {\n",
       "        text-align: right;\n",
       "    }\n",
       "</style>\n",
       "<table border=\"1\" class=\"dataframe\">\n",
       "  <thead>\n",
       "    <tr style=\"text-align: right;\">\n",
       "      <th></th>\n",
       "      <th>text</th>\n",
       "      <th>entity</th>\n",
       "      <th>sentiment</th>\n",
       "      <th>konu</th>\n",
       "      <th>severity</th>\n",
       "      <th>bilet</th>\n",
       "      <th>musteri_hizmetleri</th>\n",
       "      <th>odeme</th>\n",
       "      <th>uygulama</th>\n",
       "      <th>passolig</th>\n",
       "      <th>passolig kart</th>\n",
       "      <th>diger</th>\n",
       "      <th>aksiyon</th>\n",
       "    </tr>\n",
       "  </thead>\n",
       "  <tbody>\n",
       "    <tr>\n",
       "      <th>0</th>\n",
       "      <td>passo uzerinden bir konsere guzel bir miktarda...</td>\n",
       "      <td>passo</td>\n",
       "      <td>olumsuz</td>\n",
       "      <td>cagri merkezi yetkinlik</td>\n",
       "      <td>1</td>\n",
       "      <td>0</td>\n",
       "      <td>1</td>\n",
       "      <td>0</td>\n",
       "      <td>0</td>\n",
       "      <td>0</td>\n",
       "      <td>0</td>\n",
       "      <td>1</td>\n",
       "      <td>1</td>\n",
       "    </tr>\n",
       "    <tr>\n",
       "      <th>1</th>\n",
       "      <td>passo cesme acikhava gosteri bileti bkm in gos...</td>\n",
       "      <td>passo</td>\n",
       "      <td>olumsuz</td>\n",
       "      <td>diger</td>\n",
       "      <td>1</td>\n",
       "      <td>1</td>\n",
       "      <td>0</td>\n",
       "      <td>0</td>\n",
       "      <td>0</td>\n",
       "      <td>0</td>\n",
       "      <td>0</td>\n",
       "      <td>1</td>\n",
       "      <td>1</td>\n",
       "    </tr>\n",
       "    <tr>\n",
       "      <th>2</th>\n",
       "      <td>eylul anyma etkinligi icin biletler ciktiktan ...</td>\n",
       "      <td>passo</td>\n",
       "      <td>olumsuz</td>\n",
       "      <td>cagri merkezi yetkinlik</td>\n",
       "      <td>1</td>\n",
       "      <td>1</td>\n",
       "      <td>1</td>\n",
       "      <td>0</td>\n",
       "      <td>0</td>\n",
       "      <td>0</td>\n",
       "      <td>0</td>\n",
       "      <td>0</td>\n",
       "      <td>1</td>\n",
       "    </tr>\n",
       "    <tr>\n",
       "      <th>3</th>\n",
       "      <td>passo dan aldigim eylul tan tasci konser bilet...</td>\n",
       "      <td>passo</td>\n",
       "      <td>olumsuz</td>\n",
       "      <td>cagri merkezi yetkinlik</td>\n",
       "      <td>1</td>\n",
       "      <td>1</td>\n",
       "      <td>1</td>\n",
       "      <td>0</td>\n",
       "      <td>0</td>\n",
       "      <td>0</td>\n",
       "      <td>0</td>\n",
       "      <td>0</td>\n",
       "      <td>1</td>\n",
       "    </tr>\n",
       "    <tr>\n",
       "      <th>4</th>\n",
       "      <td>passo bilet aldim email mesaj olarak bilgi gel...</td>\n",
       "      <td>passo</td>\n",
       "      <td>olumsuz</td>\n",
       "      <td>cagri merkezi yetkinlik</td>\n",
       "      <td>1</td>\n",
       "      <td>0</td>\n",
       "      <td>1</td>\n",
       "      <td>0</td>\n",
       "      <td>0</td>\n",
       "      <td>0</td>\n",
       "      <td>0</td>\n",
       "      <td>0</td>\n",
       "      <td>1</td>\n",
       "    </tr>\n",
       "    <tr>\n",
       "      <th>...</th>\n",
       "      <td>...</td>\n",
       "      <td>...</td>\n",
       "      <td>...</td>\n",
       "      <td>...</td>\n",
       "      <td>...</td>\n",
       "      <td>...</td>\n",
       "      <td>...</td>\n",
       "      <td>...</td>\n",
       "      <td>...</td>\n",
       "      <td>...</td>\n",
       "      <td>...</td>\n",
       "      <td>...</td>\n",
       "      <td>...</td>\n",
       "    </tr>\n",
       "    <tr>\n",
       "      <th>3179</th>\n",
       "      <td>musteri hizmetleri islemlerim passo sayesinde ...</td>\n",
       "      <td>passo</td>\n",
       "      <td>olumlu</td>\n",
       "      <td>cagri merkezi yetkinlik</td>\n",
       "      <td>0</td>\n",
       "      <td>0</td>\n",
       "      <td>1</td>\n",
       "      <td>0</td>\n",
       "      <td>0</td>\n",
       "      <td>0</td>\n",
       "      <td>0</td>\n",
       "      <td>0</td>\n",
       "      <td>0</td>\n",
       "    </tr>\n",
       "    <tr>\n",
       "      <th>3180</th>\n",
       "      <td>passolig kartimla uygulama islemi inanilmaz de...</td>\n",
       "      <td>passo; passolig; passolig kart</td>\n",
       "      <td>olumlu</td>\n",
       "      <td>uygulama</td>\n",
       "      <td>0</td>\n",
       "      <td>0</td>\n",
       "      <td>0</td>\n",
       "      <td>0</td>\n",
       "      <td>1</td>\n",
       "      <td>1</td>\n",
       "      <td>1</td>\n",
       "      <td>0</td>\n",
       "      <td>0</td>\n",
       "    </tr>\n",
       "    <tr>\n",
       "      <th>3181</th>\n",
       "      <td>uygulama islemlerim sirasinda musteri hizmetle...</td>\n",
       "      <td>passolig</td>\n",
       "      <td>notr</td>\n",
       "      <td>uygulama</td>\n",
       "      <td>0</td>\n",
       "      <td>0</td>\n",
       "      <td>1</td>\n",
       "      <td>0</td>\n",
       "      <td>1</td>\n",
       "      <td>0</td>\n",
       "      <td>0</td>\n",
       "      <td>0</td>\n",
       "      <td>0</td>\n",
       "    </tr>\n",
       "    <tr>\n",
       "      <th>3182</th>\n",
       "      <td>passolig kartimla sorunsuzca ilgili passolig k...</td>\n",
       "      <td>passo; passolig; passolig kart</td>\n",
       "      <td>notr</td>\n",
       "      <td>diger</td>\n",
       "      <td>0</td>\n",
       "      <td>0</td>\n",
       "      <td>0</td>\n",
       "      <td>0</td>\n",
       "      <td>0</td>\n",
       "      <td>1</td>\n",
       "      <td>1</td>\n",
       "      <td>0</td>\n",
       "      <td>0</td>\n",
       "    </tr>\n",
       "    <tr>\n",
       "      <th>3183</th>\n",
       "      <td>passo nun odeme islemleri hizli sorunsuzdu kad...</td>\n",
       "      <td>passo</td>\n",
       "      <td>notr</td>\n",
       "      <td>odeme</td>\n",
       "      <td>0</td>\n",
       "      <td>0</td>\n",
       "      <td>0</td>\n",
       "      <td>1</td>\n",
       "      <td>0</td>\n",
       "      <td>1</td>\n",
       "      <td>0</td>\n",
       "      <td>0</td>\n",
       "      <td>0</td>\n",
       "    </tr>\n",
       "  </tbody>\n",
       "</table>\n",
       "<p>3184 rows × 13 columns</p>\n",
       "</div>"
      ],
      "text/plain": [
       "                                                   text  \\\n",
       "0     passo uzerinden bir konsere guzel bir miktarda...   \n",
       "1     passo cesme acikhava gosteri bileti bkm in gos...   \n",
       "2     eylul anyma etkinligi icin biletler ciktiktan ...   \n",
       "3     passo dan aldigim eylul tan tasci konser bilet...   \n",
       "4     passo bilet aldim email mesaj olarak bilgi gel...   \n",
       "...                                                 ...   \n",
       "3179  musteri hizmetleri islemlerim passo sayesinde ...   \n",
       "3180  passolig kartimla uygulama islemi inanilmaz de...   \n",
       "3181  uygulama islemlerim sirasinda musteri hizmetle...   \n",
       "3182  passolig kartimla sorunsuzca ilgili passolig k...   \n",
       "3183  passo nun odeme islemleri hizli sorunsuzdu kad...   \n",
       "\n",
       "                              entity sentiment                     konu  \\\n",
       "0                              passo   olumsuz  cagri merkezi yetkinlik   \n",
       "1                              passo   olumsuz                    diger   \n",
       "2                              passo   olumsuz  cagri merkezi yetkinlik   \n",
       "3                              passo   olumsuz  cagri merkezi yetkinlik   \n",
       "4                              passo   olumsuz  cagri merkezi yetkinlik   \n",
       "...                              ...       ...                      ...   \n",
       "3179                           passo    olumlu  cagri merkezi yetkinlik   \n",
       "3180  passo; passolig; passolig kart    olumlu                 uygulama   \n",
       "3181                        passolig      notr                 uygulama   \n",
       "3182  passo; passolig; passolig kart      notr                    diger   \n",
       "3183                           passo      notr                    odeme   \n",
       "\n",
       "      severity  bilet  musteri_hizmetleri  odeme  uygulama  passolig  \\\n",
       "0            1      0                   1      0         0         0   \n",
       "1            1      1                   0      0         0         0   \n",
       "2            1      1                   1      0         0         0   \n",
       "3            1      1                   1      0         0         0   \n",
       "4            1      0                   1      0         0         0   \n",
       "...        ...    ...                 ...    ...       ...       ...   \n",
       "3179         0      0                   1      0         0         0   \n",
       "3180         0      0                   0      0         1         1   \n",
       "3181         0      0                   1      0         1         0   \n",
       "3182         0      0                   0      0         0         1   \n",
       "3183         0      0                   0      1         0         1   \n",
       "\n",
       "      passolig kart  diger  aksiyon  \n",
       "0                 0      1        1  \n",
       "1                 0      1        1  \n",
       "2                 0      0        1  \n",
       "3                 0      0        1  \n",
       "4                 0      0        1  \n",
       "...             ...    ...      ...  \n",
       "3179              0      0        0  \n",
       "3180              1      0        0  \n",
       "3181              0      0        0  \n",
       "3182              1      0        0  \n",
       "3183              0      0        0  \n",
       "\n",
       "[3184 rows x 13 columns]"
      ]
     },
     "execution_count": 82,
     "metadata": {},
     "output_type": "execute_result"
    }
   ],
   "source": [
    "df.drop(axis = 1, columns='entity_list_split', inplace = True)\n",
    "df"
   ]
  },
  {
   "cell_type": "code",
   "execution_count": null,
   "metadata": {},
   "outputs": [],
   "source": [
    "from itertools import combinations\n",
    "\n",
    "# Tekil sütunlar için label atamaları\n",
    "single_column_labels = {\n",
    "    'bilet': 1,\n",
    "    'musteri_hizmetleri': 2,\n",
    "    'odeme': 3,\n",
    "    'uygulama': 4,\n",
    "    'passolig': 5,\n",
    "    'passolig kart': 6,\n",
    "    'diger': 7\n",
    "}\n",
    "\n",
    "# İkili sütun kombinasyonları için label atamaları\n",
    "pair_column_labels = {\n",
    "    ('bilet', 'musteri_hizmetleri'): 8,\n",
    "    ('bilet', 'odeme'): 9,\n",
    "    ('bilet', 'uygulama'): 10,\n",
    "    ('bilet', 'passolig'): 11,\n",
    "    ('bilet', 'passolig kart'): 12,\n",
    "    ('bilet', 'diger'): 13,\n",
    "    ('musteri_hizmetleri', 'odeme'): 14,\n",
    "    ('musteri_hizmetleri', 'uygulama'): 15,\n",
    "    ('musteri_hizmetleri', 'passolig'): 16,\n",
    "    ('musteri_hizmetleri', 'passolig kart'): 17,\n",
    "    ('musteri_hizmetleri', 'diger'): 18,\n",
    "    ('odeme', 'uygulama'): 19,\n",
    "    ('odeme', 'passolig'): 20,\n",
    "    ('odeme', 'passolig kart'): 21,\n",
    "    ('odeme', 'diger'): 22,\n",
    "    ('uygulama', 'passolig'): 23,\n",
    "    ('uygulama', 'passolig kart'): 24,\n",
    "    ('uygulama', 'diger'): 25,\n",
    "    ('passolig', 'passolig kart'): 26,\n",
    "    ('passolig', 'diger'): 27,\n",
    "    ('passolig kart', 'diger'): 28\n",
    "}\n",
    "\n",
    "# Üçlü sütun kombinasyonları için label atamaları\n",
    "trio_column_labels = {\n",
    "    ('bilet', 'musteri_hizmetleri', 'odeme'): 29,\n",
    "    ('bilet', 'musteri_hizmetleri', 'uygulama'): 30,\n",
    "    ('bilet', 'musteri_hizmetleri', 'passolig'): 31,\n",
    "    ('bilet', 'musteri_hizmetleri', 'passolig kart'): 32,\n",
    "    ('bilet', 'musteri_hizmetleri', 'diger'): 33,\n",
    "    ('bilet', 'odeme', 'uygulama'): 34,\n",
    "    ('bilet', 'odeme', 'passolig'): 35,\n",
    "    ('bilet', 'odeme', 'passolig kart'): 36,\n",
    "    ('bilet', 'odeme', 'diger'): 37,\n",
    "    ('bilet', 'uygulama', 'passolig'): 38,\n",
    "    ('bilet', 'uygulama', 'passolig kart'): 39,\n",
    "    ('bilet', 'uygulama', 'diger'): 40,\n",
    "    ('bilet', 'passolig', 'passolig kart'): 41,\n",
    "    ('bilet', 'passolig', 'diger'): 42,\n",
    "    ('bilet', 'passolig kart', 'diger'): 43,\n",
    "    ('musteri_hizmetleri', 'odeme', 'uygulama'): 44,\n",
    "    ('musteri_hizmetleri', 'odeme', 'passolig'): 45,\n",
    "    ('musteri_hizmetleri', 'odeme', 'passolig kart'): 46,\n",
    "    ('musteri_hizmetleri', 'odeme', 'diger'): 47,\n",
    "    ('musteri_hizmetleri', 'uygulama', 'passolig'): 48,\n",
    "    ('musteri_hizmetleri', 'uygulama', 'passolig kart'): 49,\n",
    "    ('musteri_hizmetleri', 'uygulama', 'diger'): 50,\n",
    "    ('musteri_hizmetleri', 'passolig', 'passolig kart'): 51,\n",
    "    ('musteri_hizmetleri', 'passolig', 'diger'): 52,\n",
    "    ('musteri_hizmetleri', 'passolig kart', 'diger'): 53,\n",
    "    ('odeme', 'uygulama', 'passolig'): 54,\n",
    "    ('odeme', 'uygulama', 'passolig kart'): 55,\n",
    "    ('odeme', 'uygulama', 'diger'): 56,\n",
    "    ('odeme', 'passolig', 'passolig kart'): 57,\n",
    "    ('odeme', 'passolig', 'diger'): 58,\n",
    "    ('odeme', 'passolig kart', 'diger'): 59,\n",
    "    ('uygulama', 'passolig', 'passolig kart'): 60,\n",
    "    ('uygulama', 'passolig', 'diger'): 61,\n",
    "    ('uygulama', 'passolig kart', 'diger'): 62,\n",
    "    ('passolig', 'passolig kart', 'diger'): 63\n",
    "}\n",
    "\n",
    "# Dörtlü sütun kombinasyonları için label atamaları\n",
    "four_column_labels = {\n",
    "    ('bilet', 'musteri_hizmetleri', 'odeme', 'uygulama'): 64,\n",
    "    ('bilet', 'musteri_hizmetleri', 'odeme', 'passolig'): 65,\n",
    "    ('bilet', 'musteri_hizmetleri', 'odeme', 'passolig kart'): 66,\n",
    "    ('bilet', 'musteri_hizmetleri', 'odeme', 'diger'): 67,\n",
    "    ('bilet', 'musteri_hizmetleri', 'uygulama', 'passolig'): 68,\n",
    "    ('bilet', 'musteri_hizmetleri', 'uygulama', 'passolig kart'): 69,\n",
    "    ('bilet', 'musteri_hizmetleri', 'uygulama', 'diger'): 70,\n",
    "    ('bilet', 'musteri_hizmetleri', 'passolig', 'passolig kart'): 71,\n",
    "    ('bilet', 'musteri_hizmetleri', 'passolig', 'diger'): 72,\n",
    "    ('bilet', 'musteri_hizmetleri', 'passolig kart', 'diger'): 73,\n",
    "    ('bilet', 'odeme', 'uygulama', 'passolig'): 74,\n",
    "    ('bilet', 'odeme', 'uygulama', 'passolig kart'): 75,\n",
    "    ('bilet', 'odeme', 'uygulama', 'diger'): 76,\n",
    "    ('bilet', 'odeme', 'passolig', 'passolig kart'): 77,\n",
    "    ('bilet', 'odeme', 'passolig', 'diger'): 78,\n",
    "    ('bilet', 'odeme', 'passolig kart', 'diger'): 79,\n",
    "    ('bilet', 'uygulama', 'passolig', 'passolig kart'): 80,\n",
    "    ('bilet', 'uygulama', 'passolig', 'diger'): 81,\n",
    "    ('bilet', 'uygulama', 'passolig kart', 'diger'): 82,\n",
    "    ('bilet', 'passolig', 'passolig kart', 'diger'): 83,\n",
    "    ('musteri_hizmetleri', 'odeme', 'uygulama', 'passolig'): 84,\n",
    "    ('musteri_hizmetleri', 'odeme', 'uygulama', 'passolig kart'): 85,\n",
    "    ('musteri_hizmetleri', 'odeme', 'uygulama', 'diger'): 86,\n",
    "    ('musteri_hizmetleri', 'odeme', 'passolig', 'passolig kart'): 87,\n",
    "    ('musteri_hizmetleri', 'odeme', 'passolig', 'diger'): 88,\n",
    "    ('musteri_hizmetleri', 'odeme', 'passolig kart', 'diger'): 89,\n",
    "    ('musteri_hizmetleri', 'uygulama', 'passolig', 'passolig kart'): 90,\n",
    "    ('musteri_hizmetleri', 'uygulama', 'passolig', 'diger'): 91,\n",
    "    ('musteri_hizmetleri', 'uygulama', 'passolig kart', 'diger'): 92,\n",
    "    ('musteri_hizmetleri', 'passolig', 'passolig kart', 'diger'): 93,\n",
    "    ('odeme', 'uygulama', 'passolig', 'passolig kart'): 94,\n",
    "    ('odeme', 'uygulama', 'passolig', 'diger'): 95,\n",
    "    ('odeme', 'uygulama', 'passolig kart', 'diger'): 96,\n",
    "    ('odeme', 'passolig', 'passolig kart', 'diger'): 97,\n",
    "    ('uygulama', 'passolig', 'passolig kart', 'diger'): 98\n",
    "}\n",
    "\n",
    "# Beşli sütun kombinasyonları için label atamaları\n",
    "five_column_labels = {\n",
    "    ('bilet', 'musteri_hizmetleri', 'odeme', 'uygulama', 'passolig'): 99,\n",
    "    ('bilet', 'musteri_hizmetleri', 'odeme', 'uygulama', 'passolig kart'): 100,\n",
    "    ('bilet', 'musteri_hizmetleri', 'odeme', 'uygulama', 'diger'): 101,\n",
    "    ('bilet', 'musteri_hizmetleri', 'odeme', 'passolig', 'passolig kart'): 102,\n",
    "    ('bilet', 'musteri_hizmetleri', 'odeme', 'passolig', 'diger'): 103,\n",
    "    ('bilet', 'musteri_hizmetleri', 'odeme', 'passolig kart', 'diger'): 104,\n",
    "    ('bilet', 'musteri_hizmetleri', 'uygulama', 'passolig', 'passolig kart'): 105,\n",
    "    ('bilet', 'musteri_hizmetleri', 'uygulama', 'passolig', 'diger'): 106,\n",
    "    ('bilet', 'musteri_hizmetleri', 'uygulama', 'passolig kart', 'diger'): 107,\n",
    "    ('bilet', 'musteri_hizmetleri', 'passolig', 'passolig kart', 'diger'): 108,\n",
    "    ('bilet', 'odeme', 'uygulama', 'passolig', 'passolig kart'): 109,\n",
    "    ('bilet', 'odeme', 'uygulama', 'passolig', 'diger'): 110,\n",
    "    ('bilet', 'odeme', 'uygulama', 'passolig kart', 'diger'): 111,\n",
    "    ('bilet', 'odeme', 'passolig', 'passolig kart', 'diger'): 112,\n",
    "    ('bilet', 'uygulama', 'passolig', 'passolig kart', 'diger'): 113,\n",
    "    ('musteri_hizmetleri', 'odeme', 'uygulama', 'passolig', 'passolig kart'): 114,\n",
    "    ('musteri_hizmetleri', 'odeme', 'uygulama', 'passolig', 'diger'): 115,\n",
    "    ('musteri_hizmetleri', 'odeme', 'uygulama', 'passolig kart', 'diger'): 116,\n",
    "    ('musteri_hizmetleri', 'odeme', 'passolig', 'passolig kart', 'diger'): 117,\n",
    "    ('musteri_hizmetleri', 'uygulama', 'passolig', 'passolig kart', 'diger'): 118,\n",
    "    ('odeme', 'uygulama', 'passolig', 'passolig kart', 'diger'): 119\n",
    "}\n",
    "\n",
    "# Altılı sütun kombinasyonları için label atamaları\n",
    "six_column_labels = {\n",
    "    ('bilet', 'musteri_hizmetleri', 'odeme', 'uygulama', 'passolig', 'passolig kart'): 120,\n",
    "    ('bilet', 'musteri_hizmetleri', 'odeme', 'uygulama', 'passolig', 'diger'): 121,\n",
    "    ('bilet', 'musteri_hizmetleri', 'odeme', 'uygulama', 'passolig kart', 'diger'): 122,\n",
    "    ('bilet', 'musteri_hizmetleri', 'odeme', 'passolig', 'passolig kart', 'diger'): 123,\n",
    "    ('bilet', 'musteri_hizmetleri', 'uygulama', 'passolig', 'passolig kart', 'diger'): 124,\n",
    "    ('bilet', 'odeme', 'uygulama', 'passolig', 'passolig kart', 'diger'): 125,\n",
    "    ('musteri_hizmetleri', 'odeme', 'uygulama', 'passolig', 'passolig kart', 'diger'): 126\n",
    "}\n",
    "\n",
    "def classify(row):\n",
    "    active_columns = [col for col in columns if row[col] == 1]\n",
    "    \n",
    "    # Tekil sütunlar için label atama\n",
    "    if len(active_columns) == 1:\n",
    "        return single_column_labels.get(active_columns[0], -1)\n",
    "    \n",
    "    # İkili sütun kombinasyonları için label atama\n",
    "    elif len(active_columns) == 2:\n",
    "        combination = tuple(sorted(active_columns))\n",
    "        return pair_column_labels.get(combination, -1)\n",
    "    \n",
    "    # Üçlü sütun kombinasyonları için label atama\n",
    "    elif len(active_columns) == 3:\n",
    "        combination = tuple(sorted(active_columns))\n",
    "        return trio_column_labels.get(combination, -1)\n",
    "    \n",
    "    # Dörtlü sütun kombinasyonları için label atama\n",
    "    elif len(active_columns) == 4:\n",
    "        combination = tuple(sorted(active_columns))\n",
    "        return four_column_labels.get(combination, -1)\n",
    "    \n",
    "    # Beşli sütun kombinasyonları için label atama\n",
    "    elif len(active_columns) == 5:\n",
    "        combination = tuple(sorted(active_columns))\n",
    "        return five_column_labels.get(combination, -1)\n",
    "    \n",
    "    # Altılı sütun kombinasyonları için label atama\n",
    "    elif len(active_columns) == 6:\n",
    "        combination = tuple(sorted(active_columns))\n",
    "        return six_column_labels.get(combination, -1)\n",
    "    \n",
    "    # Diğer durumlarda -1 döner\n",
    "    return -1\n",
    "\n",
    "# Sütunlar\n",
    "columns = ['bilet', 'musteri_hizmetleri', 'odeme', 'uygulama', 'passolig', 'passolig kart', 'diger']\n",
    "\n",
    "# DataFrame'e 'label' sütunu ekleyin\n",
    "df['label'] = df.apply(classify, axis=1)\n"
   ]
  }
 ],
 "metadata": {
  "kernelspec": {
   "display_name": "Python 3",
   "language": "python",
   "name": "python3"
  },
  "language_info": {
   "codemirror_mode": {
    "name": "ipython",
    "version": 3
   },
   "file_extension": ".py",
   "mimetype": "text/x-python",
   "name": "python",
   "nbconvert_exporter": "python",
   "pygments_lexer": "ipython3",
   "version": "3.9.0"
  }
 },
 "nbformat": 4,
 "nbformat_minor": 2
}
