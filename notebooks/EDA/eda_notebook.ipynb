{
 "cells": [
  {
   "cell_type": "markdown",
   "metadata": {},
   "source": [
    "# Exploratory Data Analysis (EDA)\n",
    "\n",
    "The dataset would be review after manually data labelling."
   ]
  },
  {
   "cell_type": "markdown",
   "metadata": {},
   "source": [
    "## Data Analysis and Cleaning"
   ]
  },
  {
   "cell_type": "markdown",
   "metadata": {},
   "source": [
    "The libraries are needed to be imported. "
   ]
  },
  {
   "cell_type": "code",
   "execution_count": 60,
   "metadata": {},
   "outputs": [],
   "source": [
    "import numpy as np \n",
    "import pandas as pd\n",
    "import seaborn as sns \n",
    "import matplotlib.pyplot as plt \n",
    "import plotly.express as px\n",
    "from collections import Counter \n",
    "\n"
   ]
  },
  {
   "cell_type": "code",
   "execution_count": 61,
   "metadata": {},
   "outputs": [
    {
     "data": {
      "text/html": [
       "<div>\n",
       "<style scoped>\n",
       "    .dataframe tbody tr th:only-of-type {\n",
       "        vertical-align: middle;\n",
       "    }\n",
       "\n",
       "    .dataframe tbody tr th {\n",
       "        vertical-align: top;\n",
       "    }\n",
       "\n",
       "    .dataframe thead th {\n",
       "        text-align: right;\n",
       "    }\n",
       "</style>\n",
       "<table border=\"1\" class=\"dataframe\">\n",
       "  <thead>\n",
       "    <tr style=\"text-align: right;\">\n",
       "      <th></th>\n",
       "      <th>text</th>\n",
       "      <th>entity</th>\n",
       "      <th>sentiment</th>\n",
       "      <th>konu</th>\n",
       "      <th>severity</th>\n",
       "      <th>bilet</th>\n",
       "      <th>musteri_hizmetleri</th>\n",
       "      <th>odeme</th>\n",
       "      <th>uygulama</th>\n",
       "      <th>passolig</th>\n",
       "      <th>passolig kart</th>\n",
       "      <th>diger</th>\n",
       "      <th>aksiyon</th>\n",
       "    </tr>\n",
       "  </thead>\n",
       "  <tbody>\n",
       "    <tr>\n",
       "      <th>0</th>\n",
       "      <td>passo uzerinden bir konsere guzel bir miktarda...</td>\n",
       "      <td>Passo</td>\n",
       "      <td>olumsuz</td>\n",
       "      <td>cagri merkezi yetkinlik</td>\n",
       "      <td>1</td>\n",
       "      <td>0</td>\n",
       "      <td>1</td>\n",
       "      <td>0</td>\n",
       "      <td>0</td>\n",
       "      <td>0</td>\n",
       "      <td>0</td>\n",
       "      <td>1</td>\n",
       "      <td>1</td>\n",
       "    </tr>\n",
       "    <tr>\n",
       "      <th>1</th>\n",
       "      <td>passo cesme acikhava gosteri bileti bkm in gos...</td>\n",
       "      <td>Passo</td>\n",
       "      <td>olumsuz</td>\n",
       "      <td>diger</td>\n",
       "      <td>1</td>\n",
       "      <td>1</td>\n",
       "      <td>0</td>\n",
       "      <td>0</td>\n",
       "      <td>0</td>\n",
       "      <td>0</td>\n",
       "      <td>0</td>\n",
       "      <td>1</td>\n",
       "      <td>1</td>\n",
       "    </tr>\n",
       "    <tr>\n",
       "      <th>2</th>\n",
       "      <td>eylul anyma etkinligi icin biletler ciktiktan ...</td>\n",
       "      <td>Passo</td>\n",
       "      <td>olumsuz</td>\n",
       "      <td>cagri merkezi yetkinlik</td>\n",
       "      <td>1</td>\n",
       "      <td>1</td>\n",
       "      <td>1</td>\n",
       "      <td>0</td>\n",
       "      <td>0</td>\n",
       "      <td>0</td>\n",
       "      <td>0</td>\n",
       "      <td>0</td>\n",
       "      <td>1</td>\n",
       "    </tr>\n",
       "    <tr>\n",
       "      <th>3</th>\n",
       "      <td>passo dan aldigim eylul tan tasci konser bilet...</td>\n",
       "      <td>Passo</td>\n",
       "      <td>olumsuz</td>\n",
       "      <td>cagri merkezi yetkinlik</td>\n",
       "      <td>1</td>\n",
       "      <td>1</td>\n",
       "      <td>1</td>\n",
       "      <td>0</td>\n",
       "      <td>0</td>\n",
       "      <td>0</td>\n",
       "      <td>0</td>\n",
       "      <td>0</td>\n",
       "      <td>1</td>\n",
       "    </tr>\n",
       "    <tr>\n",
       "      <th>4</th>\n",
       "      <td>passo bilet aldim email mesaj olarak bilgi gel...</td>\n",
       "      <td>Passo</td>\n",
       "      <td>olumsuz</td>\n",
       "      <td>cagri merkezi yetkinlik</td>\n",
       "      <td>1</td>\n",
       "      <td>0</td>\n",
       "      <td>1</td>\n",
       "      <td>0</td>\n",
       "      <td>0</td>\n",
       "      <td>0</td>\n",
       "      <td>0</td>\n",
       "      <td>0</td>\n",
       "      <td>1</td>\n",
       "    </tr>\n",
       "    <tr>\n",
       "      <th>...</th>\n",
       "      <td>...</td>\n",
       "      <td>...</td>\n",
       "      <td>...</td>\n",
       "      <td>...</td>\n",
       "      <td>...</td>\n",
       "      <td>...</td>\n",
       "      <td>...</td>\n",
       "      <td>...</td>\n",
       "      <td>...</td>\n",
       "      <td>...</td>\n",
       "      <td>...</td>\n",
       "      <td>...</td>\n",
       "      <td>...</td>\n",
       "    </tr>\n",
       "    <tr>\n",
       "      <th>3179</th>\n",
       "      <td>musteri hizmetleri islemlerim passo sayesinde ...</td>\n",
       "      <td>Passo</td>\n",
       "      <td>olumlu</td>\n",
       "      <td>cagri merkezi yetkinlik</td>\n",
       "      <td>0</td>\n",
       "      <td>0</td>\n",
       "      <td>1</td>\n",
       "      <td>0</td>\n",
       "      <td>0</td>\n",
       "      <td>0</td>\n",
       "      <td>0</td>\n",
       "      <td>0</td>\n",
       "      <td>0</td>\n",
       "    </tr>\n",
       "    <tr>\n",
       "      <th>3180</th>\n",
       "      <td>passolig kartimla uygulama islemi inanilmaz de...</td>\n",
       "      <td>Passo; Passolig; Passolig Kart</td>\n",
       "      <td>olumlu</td>\n",
       "      <td>uygulama</td>\n",
       "      <td>0</td>\n",
       "      <td>0</td>\n",
       "      <td>0</td>\n",
       "      <td>0</td>\n",
       "      <td>1</td>\n",
       "      <td>1</td>\n",
       "      <td>1</td>\n",
       "      <td>0</td>\n",
       "      <td>0</td>\n",
       "    </tr>\n",
       "    <tr>\n",
       "      <th>3181</th>\n",
       "      <td>uygulama islemlerim sirasinda musteri hizmetle...</td>\n",
       "      <td>Passolig</td>\n",
       "      <td>notr</td>\n",
       "      <td>uygulama</td>\n",
       "      <td>0</td>\n",
       "      <td>0</td>\n",
       "      <td>1</td>\n",
       "      <td>0</td>\n",
       "      <td>1</td>\n",
       "      <td>0</td>\n",
       "      <td>0</td>\n",
       "      <td>0</td>\n",
       "      <td>0</td>\n",
       "    </tr>\n",
       "    <tr>\n",
       "      <th>3182</th>\n",
       "      <td>passolig kartimla sorunsuzca ilgili passolig k...</td>\n",
       "      <td>Passo; Passolig; Passolig Kart</td>\n",
       "      <td>notr</td>\n",
       "      <td>diger</td>\n",
       "      <td>0</td>\n",
       "      <td>0</td>\n",
       "      <td>0</td>\n",
       "      <td>0</td>\n",
       "      <td>0</td>\n",
       "      <td>1</td>\n",
       "      <td>1</td>\n",
       "      <td>0</td>\n",
       "      <td>0</td>\n",
       "    </tr>\n",
       "    <tr>\n",
       "      <th>3183</th>\n",
       "      <td>passo nun odeme islemleri hizli sorunsuzdu kad...</td>\n",
       "      <td>Passo</td>\n",
       "      <td>notr</td>\n",
       "      <td>odeme</td>\n",
       "      <td>0</td>\n",
       "      <td>0</td>\n",
       "      <td>0</td>\n",
       "      <td>1</td>\n",
       "      <td>0</td>\n",
       "      <td>1</td>\n",
       "      <td>0</td>\n",
       "      <td>0</td>\n",
       "      <td>0</td>\n",
       "    </tr>\n",
       "  </tbody>\n",
       "</table>\n",
       "<p>3184 rows × 13 columns</p>\n",
       "</div>"
      ],
      "text/plain": [
       "                                                   text  \\\n",
       "0     passo uzerinden bir konsere guzel bir miktarda...   \n",
       "1     passo cesme acikhava gosteri bileti bkm in gos...   \n",
       "2     eylul anyma etkinligi icin biletler ciktiktan ...   \n",
       "3     passo dan aldigim eylul tan tasci konser bilet...   \n",
       "4     passo bilet aldim email mesaj olarak bilgi gel...   \n",
       "...                                                 ...   \n",
       "3179  musteri hizmetleri islemlerim passo sayesinde ...   \n",
       "3180  passolig kartimla uygulama islemi inanilmaz de...   \n",
       "3181  uygulama islemlerim sirasinda musteri hizmetle...   \n",
       "3182  passolig kartimla sorunsuzca ilgili passolig k...   \n",
       "3183  passo nun odeme islemleri hizli sorunsuzdu kad...   \n",
       "\n",
       "                              entity sentiment                     konu  \\\n",
       "0                              Passo   olumsuz  cagri merkezi yetkinlik   \n",
       "1                              Passo   olumsuz                    diger   \n",
       "2                              Passo   olumsuz  cagri merkezi yetkinlik   \n",
       "3                              Passo   olumsuz  cagri merkezi yetkinlik   \n",
       "4                              Passo   olumsuz  cagri merkezi yetkinlik   \n",
       "...                              ...       ...                      ...   \n",
       "3179                           Passo    olumlu  cagri merkezi yetkinlik   \n",
       "3180  Passo; Passolig; Passolig Kart    olumlu                 uygulama   \n",
       "3181                        Passolig      notr                 uygulama   \n",
       "3182  Passo; Passolig; Passolig Kart      notr                    diger   \n",
       "3183                           Passo      notr                    odeme   \n",
       "\n",
       "      severity  bilet  musteri_hizmetleri  odeme  uygulama  passolig  \\\n",
       "0            1      0                   1      0         0         0   \n",
       "1            1      1                   0      0         0         0   \n",
       "2            1      1                   1      0         0         0   \n",
       "3            1      1                   1      0         0         0   \n",
       "4            1      0                   1      0         0         0   \n",
       "...        ...    ...                 ...    ...       ...       ...   \n",
       "3179         0      0                   1      0         0         0   \n",
       "3180         0      0                   0      0         1         1   \n",
       "3181         0      0                   1      0         1         0   \n",
       "3182         0      0                   0      0         0         1   \n",
       "3183         0      0                   0      1         0         1   \n",
       "\n",
       "      passolig kart  diger  aksiyon  \n",
       "0                 0      1        1  \n",
       "1                 0      1        1  \n",
       "2                 0      0        1  \n",
       "3                 0      0        1  \n",
       "4                 0      0        1  \n",
       "...             ...    ...      ...  \n",
       "3179              0      0        0  \n",
       "3180              1      0        0  \n",
       "3181              0      0        0  \n",
       "3182              1      0        0  \n",
       "3183              0      0        0  \n",
       "\n",
       "[3184 rows x 13 columns]"
      ]
     },
     "execution_count": 61,
     "metadata": {},
     "output_type": "execute_result"
    }
   ],
   "source": [
    "df = pd.read_excel('../../data/processed/labelled_processed_data.xlsx')\n",
    "df\n"
   ]
  },
  {
   "cell_type": "code",
   "execution_count": 62,
   "metadata": {},
   "outputs": [
    {
     "name": "stdout",
     "output_type": "stream",
     "text": [
      "<class 'pandas.core.frame.DataFrame'>\n",
      "RangeIndex: 3184 entries, 0 to 3183\n",
      "Data columns (total 13 columns):\n",
      " #   Column              Non-Null Count  Dtype \n",
      "---  ------              --------------  ----- \n",
      " 0   text                3184 non-null   object\n",
      " 1   entity              3184 non-null   object\n",
      " 2   sentiment           3184 non-null   object\n",
      " 3   konu                3184 non-null   object\n",
      " 4   severity            3184 non-null   int64 \n",
      " 5   bilet               3184 non-null   int64 \n",
      " 6   musteri_hizmetleri  3184 non-null   int64 \n",
      " 7   odeme               3184 non-null   int64 \n",
      " 8   uygulama            3184 non-null   int64 \n",
      " 9   passolig            3184 non-null   int64 \n",
      " 10  passolig kart       3184 non-null   int64 \n",
      " 11  diger               3184 non-null   int64 \n",
      " 12  aksiyon             3184 non-null   int64 \n",
      "dtypes: int64(9), object(4)\n",
      "memory usage: 323.5+ KB\n"
     ]
    }
   ],
   "source": [
    "df.info()"
   ]
  },
  {
   "cell_type": "code",
   "execution_count": 63,
   "metadata": {},
   "outputs": [
    {
     "data": {
      "text/plain": [
       "array(['Passo', 'Passo; Passolig', 'Passolig', 'Passolig; Passo',\n",
       "       'Passolig; Passolig Kart', 'Passolig Kart', 'Passolig Kart; Passo',\n",
       "       'Passo; Passolig; Passolig Kart', 'Passo; Passolig Kart',\n",
       "       'Passo; Passolig Kart; Passolig', 'Passolig Kart; Passo; Passolig',\n",
       "       'Passolig; Passo; Passolig Kart', 'Passolig Kart; Passolig; Passo',\n",
       "       'Passolig; Passolig Kart; Passo', 'Passolig Kart; Passolig',\n",
       "       'Passolig kart', 'Passolig; Passolig; Passolig Kart', 'Passolig '],\n",
       "      dtype=object)"
      ]
     },
     "execution_count": 63,
     "metadata": {},
     "output_type": "execute_result"
    }
   ],
   "source": [
    "entity = df['entity'].unique()\n",
    "entity"
   ]
  },
  {
   "cell_type": "code",
   "execution_count": 64,
   "metadata": {},
   "outputs": [
    {
     "data": {
      "text/plain": [
       "array(['olumsuz', 'notr', 'olumlu'], dtype=object)"
      ]
     },
     "execution_count": 64,
     "metadata": {},
     "output_type": "execute_result"
    }
   ],
   "source": [
    "unique_values = df['sentiment'].unique()\n",
    "unique_values"
   ]
  },
  {
   "cell_type": "code",
   "execution_count": 65,
   "metadata": {},
   "outputs": [
    {
     "data": {
      "text/plain": [
       "array([1, 2, 0], dtype=int64)"
      ]
     },
     "execution_count": 65,
     "metadata": {},
     "output_type": "execute_result"
    }
   ],
   "source": [
    "severity = df['severity'].unique()\n",
    "severity"
   ]
  },
  {
   "cell_type": "code",
   "execution_count": 66,
   "metadata": {},
   "outputs": [
    {
     "data": {
      "text/plain": [
       "array(['cagri merkezi yetkinlik', 'diger', 'genel', 'odeme', 'uygulama',\n",
       "       'iptal', 'degisiklik', 'uyelik', 'iade', 'transfer', 'fatura'],\n",
       "      dtype=object)"
      ]
     },
     "execution_count": 66,
     "metadata": {},
     "output_type": "execute_result"
    }
   ],
   "source": [
    "reason = df['konu'].unique()\n",
    "reason"
   ]
  },
  {
   "cell_type": "code",
   "execution_count": 67,
   "metadata": {},
   "outputs": [
    {
     "data": {
      "text/plain": [
       "array([0, 1], dtype=int64)"
      ]
     },
     "execution_count": 67,
     "metadata": {},
     "output_type": "execute_result"
    }
   ],
   "source": [
    "bilet = df['bilet'].unique()\n",
    "bilet"
   ]
  },
  {
   "cell_type": "code",
   "execution_count": 68,
   "metadata": {},
   "outputs": [
    {
     "data": {
      "text/plain": [
       "array([1, 0], dtype=int64)"
      ]
     },
     "execution_count": 68,
     "metadata": {},
     "output_type": "execute_result"
    }
   ],
   "source": [
    "musteri_hizmetleri = df['musteri_hizmetleri'].unique()\n",
    "musteri_hizmetleri"
   ]
  },
  {
   "cell_type": "code",
   "execution_count": 69,
   "metadata": {},
   "outputs": [
    {
     "data": {
      "text/plain": [
       "array([0, 1], dtype=int64)"
      ]
     },
     "execution_count": 69,
     "metadata": {},
     "output_type": "execute_result"
    }
   ],
   "source": [
    "odeme = df['odeme'].unique()\n",
    "odeme"
   ]
  },
  {
   "cell_type": "code",
   "execution_count": 70,
   "metadata": {},
   "outputs": [
    {
     "data": {
      "text/plain": [
       "array([0, 1], dtype=int64)"
      ]
     },
     "execution_count": 70,
     "metadata": {},
     "output_type": "execute_result"
    }
   ],
   "source": [
    "uygulama = df['uygulama'].unique()\n",
    "uygulama"
   ]
  },
  {
   "cell_type": "code",
   "execution_count": 71,
   "metadata": {},
   "outputs": [
    {
     "data": {
      "text/plain": [
       "array([0, 1], dtype=int64)"
      ]
     },
     "execution_count": 71,
     "metadata": {},
     "output_type": "execute_result"
    }
   ],
   "source": [
    "passolig = df['passolig'].unique()\n",
    "passolig"
   ]
  },
  {
   "cell_type": "code",
   "execution_count": 72,
   "metadata": {},
   "outputs": [
    {
     "data": {
      "text/plain": [
       "array([0, 1], dtype=int64)"
      ]
     },
     "execution_count": 72,
     "metadata": {},
     "output_type": "execute_result"
    }
   ],
   "source": [
    "passolig_kart = df['passolig kart'].unique()\n",
    "passolig_kart"
   ]
  },
  {
   "cell_type": "code",
   "execution_count": 73,
   "metadata": {},
   "outputs": [
    {
     "data": {
      "text/plain": [
       "array([1, 0], dtype=int64)"
      ]
     },
     "execution_count": 73,
     "metadata": {},
     "output_type": "execute_result"
    }
   ],
   "source": [
    "diger = df['diger'].unique()\n",
    "diger"
   ]
  },
  {
   "cell_type": "code",
   "execution_count": 74,
   "metadata": {},
   "outputs": [
    {
     "data": {
      "text/plain": [
       "array([1, 0], dtype=int64)"
      ]
     },
     "execution_count": 74,
     "metadata": {},
     "output_type": "execute_result"
    }
   ],
   "source": [
    "aksiyon = df['aksiyon'].unique()\n",
    "aksiyon"
   ]
  },
  {
   "cell_type": "code",
   "execution_count": 75,
   "metadata": {},
   "outputs": [
    {
     "data": {
      "text/html": [
       "<div>\n",
       "<style scoped>\n",
       "    .dataframe tbody tr th:only-of-type {\n",
       "        vertical-align: middle;\n",
       "    }\n",
       "\n",
       "    .dataframe tbody tr th {\n",
       "        vertical-align: top;\n",
       "    }\n",
       "\n",
       "    .dataframe thead th {\n",
       "        text-align: right;\n",
       "    }\n",
       "</style>\n",
       "<table border=\"1\" class=\"dataframe\">\n",
       "  <thead>\n",
       "    <tr style=\"text-align: right;\">\n",
       "      <th></th>\n",
       "      <th>sentiment</th>\n",
       "      <th>Count</th>\n",
       "    </tr>\n",
       "  </thead>\n",
       "  <tbody>\n",
       "    <tr>\n",
       "      <th>2</th>\n",
       "      <td>olumsuz</td>\n",
       "      <td>2610</td>\n",
       "    </tr>\n",
       "    <tr>\n",
       "      <th>0</th>\n",
       "      <td>notr</td>\n",
       "      <td>446</td>\n",
       "    </tr>\n",
       "    <tr>\n",
       "      <th>1</th>\n",
       "      <td>olumlu</td>\n",
       "      <td>128</td>\n",
       "    </tr>\n",
       "  </tbody>\n",
       "</table>\n",
       "</div>"
      ],
      "text/plain": [
       "  sentiment  Count\n",
       "2   olumsuz   2610\n",
       "0      notr    446\n",
       "1    olumlu    128"
      ]
     },
     "metadata": {},
     "output_type": "display_data"
    },
    {
     "data": {
      "text/html": [
       "<div>\n",
       "<style scoped>\n",
       "    .dataframe tbody tr th:only-of-type {\n",
       "        vertical-align: middle;\n",
       "    }\n",
       "\n",
       "    .dataframe tbody tr th {\n",
       "        vertical-align: top;\n",
       "    }\n",
       "\n",
       "    .dataframe thead th {\n",
       "        text-align: right;\n",
       "    }\n",
       "</style>\n",
       "<table border=\"1\" class=\"dataframe\">\n",
       "  <thead>\n",
       "    <tr style=\"text-align: right;\">\n",
       "      <th></th>\n",
       "      <th>konu</th>\n",
       "      <th>Count</th>\n",
       "    </tr>\n",
       "  </thead>\n",
       "  <tbody>\n",
       "    <tr>\n",
       "      <th>4</th>\n",
       "      <td>genel</td>\n",
       "      <td>597</td>\n",
       "    </tr>\n",
       "    <tr>\n",
       "      <th>2</th>\n",
       "      <td>diger</td>\n",
       "      <td>579</td>\n",
       "    </tr>\n",
       "    <tr>\n",
       "      <th>10</th>\n",
       "      <td>uygulama</td>\n",
       "      <td>544</td>\n",
       "    </tr>\n",
       "    <tr>\n",
       "      <th>9</th>\n",
       "      <td>uyelik</td>\n",
       "      <td>416</td>\n",
       "    </tr>\n",
       "    <tr>\n",
       "      <th>7</th>\n",
       "      <td>odeme</td>\n",
       "      <td>311</td>\n",
       "    </tr>\n",
       "    <tr>\n",
       "      <th>0</th>\n",
       "      <td>cagri merkezi yetkinlik</td>\n",
       "      <td>297</td>\n",
       "    </tr>\n",
       "    <tr>\n",
       "      <th>5</th>\n",
       "      <td>iade</td>\n",
       "      <td>224</td>\n",
       "    </tr>\n",
       "    <tr>\n",
       "      <th>6</th>\n",
       "      <td>iptal</td>\n",
       "      <td>159</td>\n",
       "    </tr>\n",
       "    <tr>\n",
       "      <th>8</th>\n",
       "      <td>transfer</td>\n",
       "      <td>45</td>\n",
       "    </tr>\n",
       "    <tr>\n",
       "      <th>1</th>\n",
       "      <td>degisiklik</td>\n",
       "      <td>11</td>\n",
       "    </tr>\n",
       "    <tr>\n",
       "      <th>3</th>\n",
       "      <td>fatura</td>\n",
       "      <td>1</td>\n",
       "    </tr>\n",
       "  </tbody>\n",
       "</table>\n",
       "</div>"
      ],
      "text/plain": [
       "                       konu  Count\n",
       "4                     genel    597\n",
       "2                     diger    579\n",
       "10                 uygulama    544\n",
       "9                    uyelik    416\n",
       "7                     odeme    311\n",
       "0   cagri merkezi yetkinlik    297\n",
       "5                      iade    224\n",
       "6                     iptal    159\n",
       "8                  transfer     45\n",
       "1                degisiklik     11\n",
       "3                    fatura      1"
      ]
     },
     "metadata": {},
     "output_type": "display_data"
    },
    {
     "data": {
      "text/html": [
       "<div>\n",
       "<style scoped>\n",
       "    .dataframe tbody tr th:only-of-type {\n",
       "        vertical-align: middle;\n",
       "    }\n",
       "\n",
       "    .dataframe tbody tr th {\n",
       "        vertical-align: top;\n",
       "    }\n",
       "\n",
       "    .dataframe thead th {\n",
       "        text-align: right;\n",
       "    }\n",
       "</style>\n",
       "<table border=\"1\" class=\"dataframe\">\n",
       "  <thead>\n",
       "    <tr style=\"text-align: right;\">\n",
       "      <th></th>\n",
       "      <th>severity</th>\n",
       "      <th>Count</th>\n",
       "    </tr>\n",
       "  </thead>\n",
       "  <tbody>\n",
       "    <tr>\n",
       "      <th>2</th>\n",
       "      <td>2</td>\n",
       "      <td>1513</td>\n",
       "    </tr>\n",
       "    <tr>\n",
       "      <th>1</th>\n",
       "      <td>1</td>\n",
       "      <td>1059</td>\n",
       "    </tr>\n",
       "    <tr>\n",
       "      <th>0</th>\n",
       "      <td>0</td>\n",
       "      <td>612</td>\n",
       "    </tr>\n",
       "  </tbody>\n",
       "</table>\n",
       "</div>"
      ],
      "text/plain": [
       "   severity  Count\n",
       "2         2   1513\n",
       "1         1   1059\n",
       "0         0    612"
      ]
     },
     "metadata": {},
     "output_type": "display_data"
    },
    {
     "data": {
      "text/html": [
       "<div>\n",
       "<style scoped>\n",
       "    .dataframe tbody tr th:only-of-type {\n",
       "        vertical-align: middle;\n",
       "    }\n",
       "\n",
       "    .dataframe tbody tr th {\n",
       "        vertical-align: top;\n",
       "    }\n",
       "\n",
       "    .dataframe thead th {\n",
       "        text-align: right;\n",
       "    }\n",
       "</style>\n",
       "<table border=\"1\" class=\"dataframe\">\n",
       "  <thead>\n",
       "    <tr style=\"text-align: right;\">\n",
       "      <th></th>\n",
       "      <th>bilet</th>\n",
       "      <th>Count</th>\n",
       "    </tr>\n",
       "  </thead>\n",
       "  <tbody>\n",
       "    <tr>\n",
       "      <th>0</th>\n",
       "      <td>0</td>\n",
       "      <td>1866</td>\n",
       "    </tr>\n",
       "    <tr>\n",
       "      <th>1</th>\n",
       "      <td>1</td>\n",
       "      <td>1318</td>\n",
       "    </tr>\n",
       "  </tbody>\n",
       "</table>\n",
       "</div>"
      ],
      "text/plain": [
       "   bilet  Count\n",
       "0      0   1866\n",
       "1      1   1318"
      ]
     },
     "metadata": {},
     "output_type": "display_data"
    },
    {
     "data": {
      "text/html": [
       "<div>\n",
       "<style scoped>\n",
       "    .dataframe tbody tr th:only-of-type {\n",
       "        vertical-align: middle;\n",
       "    }\n",
       "\n",
       "    .dataframe tbody tr th {\n",
       "        vertical-align: top;\n",
       "    }\n",
       "\n",
       "    .dataframe thead th {\n",
       "        text-align: right;\n",
       "    }\n",
       "</style>\n",
       "<table border=\"1\" class=\"dataframe\">\n",
       "  <thead>\n",
       "    <tr style=\"text-align: right;\">\n",
       "      <th></th>\n",
       "      <th>musteri_hizmetleri</th>\n",
       "      <th>Count</th>\n",
       "    </tr>\n",
       "  </thead>\n",
       "  <tbody>\n",
       "    <tr>\n",
       "      <th>0</th>\n",
       "      <td>0</td>\n",
       "      <td>2322</td>\n",
       "    </tr>\n",
       "    <tr>\n",
       "      <th>1</th>\n",
       "      <td>1</td>\n",
       "      <td>862</td>\n",
       "    </tr>\n",
       "  </tbody>\n",
       "</table>\n",
       "</div>"
      ],
      "text/plain": [
       "   musteri_hizmetleri  Count\n",
       "0                   0   2322\n",
       "1                   1    862"
      ]
     },
     "metadata": {},
     "output_type": "display_data"
    },
    {
     "data": {
      "text/html": [
       "<div>\n",
       "<style scoped>\n",
       "    .dataframe tbody tr th:only-of-type {\n",
       "        vertical-align: middle;\n",
       "    }\n",
       "\n",
       "    .dataframe tbody tr th {\n",
       "        vertical-align: top;\n",
       "    }\n",
       "\n",
       "    .dataframe thead th {\n",
       "        text-align: right;\n",
       "    }\n",
       "</style>\n",
       "<table border=\"1\" class=\"dataframe\">\n",
       "  <thead>\n",
       "    <tr style=\"text-align: right;\">\n",
       "      <th></th>\n",
       "      <th>odeme</th>\n",
       "      <th>Count</th>\n",
       "    </tr>\n",
       "  </thead>\n",
       "  <tbody>\n",
       "    <tr>\n",
       "      <th>0</th>\n",
       "      <td>0</td>\n",
       "      <td>2543</td>\n",
       "    </tr>\n",
       "    <tr>\n",
       "      <th>1</th>\n",
       "      <td>1</td>\n",
       "      <td>641</td>\n",
       "    </tr>\n",
       "  </tbody>\n",
       "</table>\n",
       "</div>"
      ],
      "text/plain": [
       "   odeme  Count\n",
       "0      0   2543\n",
       "1      1    641"
      ]
     },
     "metadata": {},
     "output_type": "display_data"
    },
    {
     "data": {
      "text/html": [
       "<div>\n",
       "<style scoped>\n",
       "    .dataframe tbody tr th:only-of-type {\n",
       "        vertical-align: middle;\n",
       "    }\n",
       "\n",
       "    .dataframe tbody tr th {\n",
       "        vertical-align: top;\n",
       "    }\n",
       "\n",
       "    .dataframe thead th {\n",
       "        text-align: right;\n",
       "    }\n",
       "</style>\n",
       "<table border=\"1\" class=\"dataframe\">\n",
       "  <thead>\n",
       "    <tr style=\"text-align: right;\">\n",
       "      <th></th>\n",
       "      <th>uygulama</th>\n",
       "      <th>Count</th>\n",
       "    </tr>\n",
       "  </thead>\n",
       "  <tbody>\n",
       "    <tr>\n",
       "      <th>0</th>\n",
       "      <td>0</td>\n",
       "      <td>1608</td>\n",
       "    </tr>\n",
       "    <tr>\n",
       "      <th>1</th>\n",
       "      <td>1</td>\n",
       "      <td>1576</td>\n",
       "    </tr>\n",
       "  </tbody>\n",
       "</table>\n",
       "</div>"
      ],
      "text/plain": [
       "   uygulama  Count\n",
       "0         0   1608\n",
       "1         1   1576"
      ]
     },
     "metadata": {},
     "output_type": "display_data"
    },
    {
     "data": {
      "text/html": [
       "<div>\n",
       "<style scoped>\n",
       "    .dataframe tbody tr th:only-of-type {\n",
       "        vertical-align: middle;\n",
       "    }\n",
       "\n",
       "    .dataframe tbody tr th {\n",
       "        vertical-align: top;\n",
       "    }\n",
       "\n",
       "    .dataframe thead th {\n",
       "        text-align: right;\n",
       "    }\n",
       "</style>\n",
       "<table border=\"1\" class=\"dataframe\">\n",
       "  <thead>\n",
       "    <tr style=\"text-align: right;\">\n",
       "      <th></th>\n",
       "      <th>passolig</th>\n",
       "      <th>Count</th>\n",
       "    </tr>\n",
       "  </thead>\n",
       "  <tbody>\n",
       "    <tr>\n",
       "      <th>1</th>\n",
       "      <td>1</td>\n",
       "      <td>1620</td>\n",
       "    </tr>\n",
       "    <tr>\n",
       "      <th>0</th>\n",
       "      <td>0</td>\n",
       "      <td>1564</td>\n",
       "    </tr>\n",
       "  </tbody>\n",
       "</table>\n",
       "</div>"
      ],
      "text/plain": [
       "   passolig  Count\n",
       "1         1   1620\n",
       "0         0   1564"
      ]
     },
     "metadata": {},
     "output_type": "display_data"
    },
    {
     "data": {
      "text/html": [
       "<div>\n",
       "<style scoped>\n",
       "    .dataframe tbody tr th:only-of-type {\n",
       "        vertical-align: middle;\n",
       "    }\n",
       "\n",
       "    .dataframe tbody tr th {\n",
       "        vertical-align: top;\n",
       "    }\n",
       "\n",
       "    .dataframe thead th {\n",
       "        text-align: right;\n",
       "    }\n",
       "</style>\n",
       "<table border=\"1\" class=\"dataframe\">\n",
       "  <thead>\n",
       "    <tr style=\"text-align: right;\">\n",
       "      <th></th>\n",
       "      <th>passolig kart</th>\n",
       "      <th>Count</th>\n",
       "    </tr>\n",
       "  </thead>\n",
       "  <tbody>\n",
       "    <tr>\n",
       "      <th>0</th>\n",
       "      <td>0</td>\n",
       "      <td>2306</td>\n",
       "    </tr>\n",
       "    <tr>\n",
       "      <th>1</th>\n",
       "      <td>1</td>\n",
       "      <td>878</td>\n",
       "    </tr>\n",
       "  </tbody>\n",
       "</table>\n",
       "</div>"
      ],
      "text/plain": [
       "   passolig kart  Count\n",
       "0              0   2306\n",
       "1              1    878"
      ]
     },
     "metadata": {},
     "output_type": "display_data"
    },
    {
     "data": {
      "text/html": [
       "<div>\n",
       "<style scoped>\n",
       "    .dataframe tbody tr th:only-of-type {\n",
       "        vertical-align: middle;\n",
       "    }\n",
       "\n",
       "    .dataframe tbody tr th {\n",
       "        vertical-align: top;\n",
       "    }\n",
       "\n",
       "    .dataframe thead th {\n",
       "        text-align: right;\n",
       "    }\n",
       "</style>\n",
       "<table border=\"1\" class=\"dataframe\">\n",
       "  <thead>\n",
       "    <tr style=\"text-align: right;\">\n",
       "      <th></th>\n",
       "      <th>diger</th>\n",
       "      <th>Count</th>\n",
       "    </tr>\n",
       "  </thead>\n",
       "  <tbody>\n",
       "    <tr>\n",
       "      <th>0</th>\n",
       "      <td>0</td>\n",
       "      <td>2621</td>\n",
       "    </tr>\n",
       "    <tr>\n",
       "      <th>1</th>\n",
       "      <td>1</td>\n",
       "      <td>563</td>\n",
       "    </tr>\n",
       "  </tbody>\n",
       "</table>\n",
       "</div>"
      ],
      "text/plain": [
       "   diger  Count\n",
       "0      0   2621\n",
       "1      1    563"
      ]
     },
     "metadata": {},
     "output_type": "display_data"
    },
    {
     "data": {
      "text/html": [
       "<div>\n",
       "<style scoped>\n",
       "    .dataframe tbody tr th:only-of-type {\n",
       "        vertical-align: middle;\n",
       "    }\n",
       "\n",
       "    .dataframe tbody tr th {\n",
       "        vertical-align: top;\n",
       "    }\n",
       "\n",
       "    .dataframe thead th {\n",
       "        text-align: right;\n",
       "    }\n",
       "</style>\n",
       "<table border=\"1\" class=\"dataframe\">\n",
       "  <thead>\n",
       "    <tr style=\"text-align: right;\">\n",
       "      <th></th>\n",
       "      <th>aksiyon</th>\n",
       "      <th>Count</th>\n",
       "    </tr>\n",
       "  </thead>\n",
       "  <tbody>\n",
       "    <tr>\n",
       "      <th>1</th>\n",
       "      <td>1</td>\n",
       "      <td>2566</td>\n",
       "    </tr>\n",
       "    <tr>\n",
       "      <th>0</th>\n",
       "      <td>0</td>\n",
       "      <td>618</td>\n",
       "    </tr>\n",
       "  </tbody>\n",
       "</table>\n",
       "</div>"
      ],
      "text/plain": [
       "   aksiyon  Count\n",
       "1        1   2566\n",
       "0        0    618"
      ]
     },
     "metadata": {},
     "output_type": "display_data"
    }
   ],
   "source": [
    "for column in df.columns:\n",
    "    if column not in ['text', 'entity']:\n",
    "        # Sütundaki eşsiz değerlerin frekanslarını hesapla\n",
    "        grouped_df = df.groupby(column).size().reset_index(name='Count')\n",
    "        # Sonuçları sıralayıp yazdır\n",
    "        sorted_grouped_df = grouped_df.sort_values(by='Count', ascending=False)\n",
    "        \n",
    "        # Her sütun için ayrı bir hücrede göster\n",
    "        display(sorted_grouped_df)\n"
   ]
  },
  {
   "cell_type": "markdown",
   "metadata": {},
   "source": [
    "## Entity List Data Processing\n"
   ]
  },
  {
   "cell_type": "code",
   "execution_count": 76,
   "metadata": {},
   "outputs": [],
   "source": [
    "df['entity'] = df['entity'].str.strip()\n",
    "\n",
    "# Boşlukları tek bir boşluğa indirmek için replace fonksiyonunu kullanın\n",
    "df['entity'] = df['entity'].str.replace('\\s+', ' ', regex=True)"
   ]
  },
  {
   "cell_type": "code",
   "execution_count": 77,
   "metadata": {},
   "outputs": [
    {
     "data": {
      "text/html": [
       "<div>\n",
       "<style scoped>\n",
       "    .dataframe tbody tr th:only-of-type {\n",
       "        vertical-align: middle;\n",
       "    }\n",
       "\n",
       "    .dataframe tbody tr th {\n",
       "        vertical-align: top;\n",
       "    }\n",
       "\n",
       "    .dataframe thead th {\n",
       "        text-align: right;\n",
       "    }\n",
       "</style>\n",
       "<table border=\"1\" class=\"dataframe\">\n",
       "  <thead>\n",
       "    <tr style=\"text-align: right;\">\n",
       "      <th></th>\n",
       "      <th>text</th>\n",
       "      <th>entity</th>\n",
       "      <th>sentiment</th>\n",
       "      <th>konu</th>\n",
       "      <th>severity</th>\n",
       "      <th>bilet</th>\n",
       "      <th>musteri_hizmetleri</th>\n",
       "      <th>odeme</th>\n",
       "      <th>uygulama</th>\n",
       "      <th>passolig</th>\n",
       "      <th>passolig kart</th>\n",
       "      <th>diger</th>\n",
       "      <th>aksiyon</th>\n",
       "    </tr>\n",
       "  </thead>\n",
       "  <tbody>\n",
       "    <tr>\n",
       "      <th>0</th>\n",
       "      <td>passo uzerinden bir konsere guzel bir miktarda...</td>\n",
       "      <td>passo</td>\n",
       "      <td>olumsuz</td>\n",
       "      <td>cagri merkezi yetkinlik</td>\n",
       "      <td>1</td>\n",
       "      <td>0</td>\n",
       "      <td>1</td>\n",
       "      <td>0</td>\n",
       "      <td>0</td>\n",
       "      <td>0</td>\n",
       "      <td>0</td>\n",
       "      <td>1</td>\n",
       "      <td>1</td>\n",
       "    </tr>\n",
       "    <tr>\n",
       "      <th>1</th>\n",
       "      <td>passo cesme acikhava gosteri bileti bkm in gos...</td>\n",
       "      <td>passo</td>\n",
       "      <td>olumsuz</td>\n",
       "      <td>diger</td>\n",
       "      <td>1</td>\n",
       "      <td>1</td>\n",
       "      <td>0</td>\n",
       "      <td>0</td>\n",
       "      <td>0</td>\n",
       "      <td>0</td>\n",
       "      <td>0</td>\n",
       "      <td>1</td>\n",
       "      <td>1</td>\n",
       "    </tr>\n",
       "    <tr>\n",
       "      <th>2</th>\n",
       "      <td>eylul anyma etkinligi icin biletler ciktiktan ...</td>\n",
       "      <td>passo</td>\n",
       "      <td>olumsuz</td>\n",
       "      <td>cagri merkezi yetkinlik</td>\n",
       "      <td>1</td>\n",
       "      <td>1</td>\n",
       "      <td>1</td>\n",
       "      <td>0</td>\n",
       "      <td>0</td>\n",
       "      <td>0</td>\n",
       "      <td>0</td>\n",
       "      <td>0</td>\n",
       "      <td>1</td>\n",
       "    </tr>\n",
       "    <tr>\n",
       "      <th>3</th>\n",
       "      <td>passo dan aldigim eylul tan tasci konser bilet...</td>\n",
       "      <td>passo</td>\n",
       "      <td>olumsuz</td>\n",
       "      <td>cagri merkezi yetkinlik</td>\n",
       "      <td>1</td>\n",
       "      <td>1</td>\n",
       "      <td>1</td>\n",
       "      <td>0</td>\n",
       "      <td>0</td>\n",
       "      <td>0</td>\n",
       "      <td>0</td>\n",
       "      <td>0</td>\n",
       "      <td>1</td>\n",
       "    </tr>\n",
       "    <tr>\n",
       "      <th>4</th>\n",
       "      <td>passo bilet aldim email mesaj olarak bilgi gel...</td>\n",
       "      <td>passo</td>\n",
       "      <td>olumsuz</td>\n",
       "      <td>cagri merkezi yetkinlik</td>\n",
       "      <td>1</td>\n",
       "      <td>0</td>\n",
       "      <td>1</td>\n",
       "      <td>0</td>\n",
       "      <td>0</td>\n",
       "      <td>0</td>\n",
       "      <td>0</td>\n",
       "      <td>0</td>\n",
       "      <td>1</td>\n",
       "    </tr>\n",
       "    <tr>\n",
       "      <th>...</th>\n",
       "      <td>...</td>\n",
       "      <td>...</td>\n",
       "      <td>...</td>\n",
       "      <td>...</td>\n",
       "      <td>...</td>\n",
       "      <td>...</td>\n",
       "      <td>...</td>\n",
       "      <td>...</td>\n",
       "      <td>...</td>\n",
       "      <td>...</td>\n",
       "      <td>...</td>\n",
       "      <td>...</td>\n",
       "      <td>...</td>\n",
       "    </tr>\n",
       "    <tr>\n",
       "      <th>3179</th>\n",
       "      <td>musteri hizmetleri islemlerim passo sayesinde ...</td>\n",
       "      <td>passo</td>\n",
       "      <td>olumlu</td>\n",
       "      <td>cagri merkezi yetkinlik</td>\n",
       "      <td>0</td>\n",
       "      <td>0</td>\n",
       "      <td>1</td>\n",
       "      <td>0</td>\n",
       "      <td>0</td>\n",
       "      <td>0</td>\n",
       "      <td>0</td>\n",
       "      <td>0</td>\n",
       "      <td>0</td>\n",
       "    </tr>\n",
       "    <tr>\n",
       "      <th>3180</th>\n",
       "      <td>passolig kartimla uygulama islemi inanilmaz de...</td>\n",
       "      <td>passo; passolig; passolig kart</td>\n",
       "      <td>olumlu</td>\n",
       "      <td>uygulama</td>\n",
       "      <td>0</td>\n",
       "      <td>0</td>\n",
       "      <td>0</td>\n",
       "      <td>0</td>\n",
       "      <td>1</td>\n",
       "      <td>1</td>\n",
       "      <td>1</td>\n",
       "      <td>0</td>\n",
       "      <td>0</td>\n",
       "    </tr>\n",
       "    <tr>\n",
       "      <th>3181</th>\n",
       "      <td>uygulama islemlerim sirasinda musteri hizmetle...</td>\n",
       "      <td>passolig</td>\n",
       "      <td>notr</td>\n",
       "      <td>uygulama</td>\n",
       "      <td>0</td>\n",
       "      <td>0</td>\n",
       "      <td>1</td>\n",
       "      <td>0</td>\n",
       "      <td>1</td>\n",
       "      <td>0</td>\n",
       "      <td>0</td>\n",
       "      <td>0</td>\n",
       "      <td>0</td>\n",
       "    </tr>\n",
       "    <tr>\n",
       "      <th>3182</th>\n",
       "      <td>passolig kartimla sorunsuzca ilgili passolig k...</td>\n",
       "      <td>passo; passolig; passolig kart</td>\n",
       "      <td>notr</td>\n",
       "      <td>diger</td>\n",
       "      <td>0</td>\n",
       "      <td>0</td>\n",
       "      <td>0</td>\n",
       "      <td>0</td>\n",
       "      <td>0</td>\n",
       "      <td>1</td>\n",
       "      <td>1</td>\n",
       "      <td>0</td>\n",
       "      <td>0</td>\n",
       "    </tr>\n",
       "    <tr>\n",
       "      <th>3183</th>\n",
       "      <td>passo nun odeme islemleri hizli sorunsuzdu kad...</td>\n",
       "      <td>passo</td>\n",
       "      <td>notr</td>\n",
       "      <td>odeme</td>\n",
       "      <td>0</td>\n",
       "      <td>0</td>\n",
       "      <td>0</td>\n",
       "      <td>1</td>\n",
       "      <td>0</td>\n",
       "      <td>1</td>\n",
       "      <td>0</td>\n",
       "      <td>0</td>\n",
       "      <td>0</td>\n",
       "    </tr>\n",
       "  </tbody>\n",
       "</table>\n",
       "<p>3184 rows × 13 columns</p>\n",
       "</div>"
      ],
      "text/plain": [
       "                                                   text  \\\n",
       "0     passo uzerinden bir konsere guzel bir miktarda...   \n",
       "1     passo cesme acikhava gosteri bileti bkm in gos...   \n",
       "2     eylul anyma etkinligi icin biletler ciktiktan ...   \n",
       "3     passo dan aldigim eylul tan tasci konser bilet...   \n",
       "4     passo bilet aldim email mesaj olarak bilgi gel...   \n",
       "...                                                 ...   \n",
       "3179  musteri hizmetleri islemlerim passo sayesinde ...   \n",
       "3180  passolig kartimla uygulama islemi inanilmaz de...   \n",
       "3181  uygulama islemlerim sirasinda musteri hizmetle...   \n",
       "3182  passolig kartimla sorunsuzca ilgili passolig k...   \n",
       "3183  passo nun odeme islemleri hizli sorunsuzdu kad...   \n",
       "\n",
       "                              entity sentiment                     konu  \\\n",
       "0                              passo   olumsuz  cagri merkezi yetkinlik   \n",
       "1                              passo   olumsuz                    diger   \n",
       "2                              passo   olumsuz  cagri merkezi yetkinlik   \n",
       "3                              passo   olumsuz  cagri merkezi yetkinlik   \n",
       "4                              passo   olumsuz  cagri merkezi yetkinlik   \n",
       "...                              ...       ...                      ...   \n",
       "3179                           passo    olumlu  cagri merkezi yetkinlik   \n",
       "3180  passo; passolig; passolig kart    olumlu                 uygulama   \n",
       "3181                        passolig      notr                 uygulama   \n",
       "3182  passo; passolig; passolig kart      notr                    diger   \n",
       "3183                           passo      notr                    odeme   \n",
       "\n",
       "      severity  bilet  musteri_hizmetleri  odeme  uygulama  passolig  \\\n",
       "0            1      0                   1      0         0         0   \n",
       "1            1      1                   0      0         0         0   \n",
       "2            1      1                   1      0         0         0   \n",
       "3            1      1                   1      0         0         0   \n",
       "4            1      0                   1      0         0         0   \n",
       "...        ...    ...                 ...    ...       ...       ...   \n",
       "3179         0      0                   1      0         0         0   \n",
       "3180         0      0                   0      0         1         1   \n",
       "3181         0      0                   1      0         1         0   \n",
       "3182         0      0                   0      0         0         1   \n",
       "3183         0      0                   0      1         0         1   \n",
       "\n",
       "      passolig kart  diger  aksiyon  \n",
       "0                 0      1        1  \n",
       "1                 0      1        1  \n",
       "2                 0      0        1  \n",
       "3                 0      0        1  \n",
       "4                 0      0        1  \n",
       "...             ...    ...      ...  \n",
       "3179              0      0        0  \n",
       "3180              1      0        0  \n",
       "3181              0      0        0  \n",
       "3182              1      0        0  \n",
       "3183              0      0        0  \n",
       "\n",
       "[3184 rows x 13 columns]"
      ]
     },
     "execution_count": 77,
     "metadata": {},
     "output_type": "execute_result"
    }
   ],
   "source": [
    "df['entity'] = df['entity'].str.lower()\n",
    "df"
   ]
  },
  {
   "cell_type": "code",
   "execution_count": 78,
   "metadata": {},
   "outputs": [
    {
     "name": "stdout",
     "output_type": "stream",
     "text": [
      "          entity\n",
      "0          passo\n",
      "1       passolig\n",
      "2  passolig kart\n"
     ]
    }
   ],
   "source": [
    "df['entity_list_split'] = df['entity'].str.split(\";\")\n",
    "\n",
    "# Tüm entity'leri bir listeye toplama ve boşlukları temizleme\n",
    "all_entities = [entity.strip() for sublist in df['entity_list_split'].tolist() for entity in sublist]\n",
    "\n",
    "# Benzersiz entity'leri set ile ayırma\n",
    "unique_entities = set(all_entities)\n",
    "\n",
    "# Benzersiz entity'leri bir DataFrame'e dönüştürme\n",
    "unique_entities_df = pd.DataFrame(unique_entities, columns=['entity'])\n",
    "\n",
    "print(unique_entities_df)"
   ]
  },
  {
   "cell_type": "code",
   "execution_count": 79,
   "metadata": {},
   "outputs": [
    {
     "data": {
      "application/vnd.plotly.v1+json": {
       "config": {
        "plotlyServerURL": "https://plot.ly"
       },
       "data": [
        {
         "alignmentgroup": "True",
         "hovertemplate": "Entity=%{x}<br>Count=%{marker.color}<extra></extra>",
         "legendgroup": "",
         "marker": {
          "color": [
           1829,
           1232,
           804
          ],
          "coloraxis": "coloraxis",
          "pattern": {
           "shape": ""
          }
         },
         "name": "",
         "offsetgroup": "",
         "orientation": "v",
         "showlegend": false,
         "text": [
          1829,
          1232,
          804
         ],
         "textposition": "outside",
         "texttemplate": "%{text:.2s}",
         "type": "bar",
         "x": [
          "passo",
          "passolig",
          "passolig kart"
         ],
         "xaxis": "x",
         "y": [
          1829,
          1232,
          804
         ],
         "yaxis": "y"
        }
       ],
       "layout": {
        "barmode": "relative",
        "coloraxis": {
         "colorbar": {
          "title": {
           "text": "Count"
          }
         },
         "colorscale": [
          [
           0,
           "#440154"
          ],
          [
           0.1111111111111111,
           "#482878"
          ],
          [
           0.2222222222222222,
           "#3e4989"
          ],
          [
           0.3333333333333333,
           "#31688e"
          ],
          [
           0.4444444444444444,
           "#26828e"
          ],
          [
           0.5555555555555556,
           "#1f9e89"
          ],
          [
           0.6666666666666666,
           "#35b779"
          ],
          [
           0.7777777777777778,
           "#6ece58"
          ],
          [
           0.8888888888888888,
           "#b5de2b"
          ],
          [
           1,
           "#fde725"
          ]
         ]
        },
        "height": 600,
        "legend": {
         "tracegroupgap": 0
        },
        "template": {
         "data": {
          "bar": [
           {
            "error_x": {
             "color": "#2a3f5f"
            },
            "error_y": {
             "color": "#2a3f5f"
            },
            "marker": {
             "line": {
              "color": "white",
              "width": 0.5
             },
             "pattern": {
              "fillmode": "overlay",
              "size": 10,
              "solidity": 0.2
             }
            },
            "type": "bar"
           }
          ],
          "barpolar": [
           {
            "marker": {
             "line": {
              "color": "white",
              "width": 0.5
             },
             "pattern": {
              "fillmode": "overlay",
              "size": 10,
              "solidity": 0.2
             }
            },
            "type": "barpolar"
           }
          ],
          "carpet": [
           {
            "aaxis": {
             "endlinecolor": "#2a3f5f",
             "gridcolor": "#C8D4E3",
             "linecolor": "#C8D4E3",
             "minorgridcolor": "#C8D4E3",
             "startlinecolor": "#2a3f5f"
            },
            "baxis": {
             "endlinecolor": "#2a3f5f",
             "gridcolor": "#C8D4E3",
             "linecolor": "#C8D4E3",
             "minorgridcolor": "#C8D4E3",
             "startlinecolor": "#2a3f5f"
            },
            "type": "carpet"
           }
          ],
          "choropleth": [
           {
            "colorbar": {
             "outlinewidth": 0,
             "ticks": ""
            },
            "type": "choropleth"
           }
          ],
          "contour": [
           {
            "colorbar": {
             "outlinewidth": 0,
             "ticks": ""
            },
            "colorscale": [
             [
              0,
              "#0d0887"
             ],
             [
              0.1111111111111111,
              "#46039f"
             ],
             [
              0.2222222222222222,
              "#7201a8"
             ],
             [
              0.3333333333333333,
              "#9c179e"
             ],
             [
              0.4444444444444444,
              "#bd3786"
             ],
             [
              0.5555555555555556,
              "#d8576b"
             ],
             [
              0.6666666666666666,
              "#ed7953"
             ],
             [
              0.7777777777777778,
              "#fb9f3a"
             ],
             [
              0.8888888888888888,
              "#fdca26"
             ],
             [
              1,
              "#f0f921"
             ]
            ],
            "type": "contour"
           }
          ],
          "contourcarpet": [
           {
            "colorbar": {
             "outlinewidth": 0,
             "ticks": ""
            },
            "type": "contourcarpet"
           }
          ],
          "heatmap": [
           {
            "colorbar": {
             "outlinewidth": 0,
             "ticks": ""
            },
            "colorscale": [
             [
              0,
              "#0d0887"
             ],
             [
              0.1111111111111111,
              "#46039f"
             ],
             [
              0.2222222222222222,
              "#7201a8"
             ],
             [
              0.3333333333333333,
              "#9c179e"
             ],
             [
              0.4444444444444444,
              "#bd3786"
             ],
             [
              0.5555555555555556,
              "#d8576b"
             ],
             [
              0.6666666666666666,
              "#ed7953"
             ],
             [
              0.7777777777777778,
              "#fb9f3a"
             ],
             [
              0.8888888888888888,
              "#fdca26"
             ],
             [
              1,
              "#f0f921"
             ]
            ],
            "type": "heatmap"
           }
          ],
          "heatmapgl": [
           {
            "colorbar": {
             "outlinewidth": 0,
             "ticks": ""
            },
            "colorscale": [
             [
              0,
              "#0d0887"
             ],
             [
              0.1111111111111111,
              "#46039f"
             ],
             [
              0.2222222222222222,
              "#7201a8"
             ],
             [
              0.3333333333333333,
              "#9c179e"
             ],
             [
              0.4444444444444444,
              "#bd3786"
             ],
             [
              0.5555555555555556,
              "#d8576b"
             ],
             [
              0.6666666666666666,
              "#ed7953"
             ],
             [
              0.7777777777777778,
              "#fb9f3a"
             ],
             [
              0.8888888888888888,
              "#fdca26"
             ],
             [
              1,
              "#f0f921"
             ]
            ],
            "type": "heatmapgl"
           }
          ],
          "histogram": [
           {
            "marker": {
             "pattern": {
              "fillmode": "overlay",
              "size": 10,
              "solidity": 0.2
             }
            },
            "type": "histogram"
           }
          ],
          "histogram2d": [
           {
            "colorbar": {
             "outlinewidth": 0,
             "ticks": ""
            },
            "colorscale": [
             [
              0,
              "#0d0887"
             ],
             [
              0.1111111111111111,
              "#46039f"
             ],
             [
              0.2222222222222222,
              "#7201a8"
             ],
             [
              0.3333333333333333,
              "#9c179e"
             ],
             [
              0.4444444444444444,
              "#bd3786"
             ],
             [
              0.5555555555555556,
              "#d8576b"
             ],
             [
              0.6666666666666666,
              "#ed7953"
             ],
             [
              0.7777777777777778,
              "#fb9f3a"
             ],
             [
              0.8888888888888888,
              "#fdca26"
             ],
             [
              1,
              "#f0f921"
             ]
            ],
            "type": "histogram2d"
           }
          ],
          "histogram2dcontour": [
           {
            "colorbar": {
             "outlinewidth": 0,
             "ticks": ""
            },
            "colorscale": [
             [
              0,
              "#0d0887"
             ],
             [
              0.1111111111111111,
              "#46039f"
             ],
             [
              0.2222222222222222,
              "#7201a8"
             ],
             [
              0.3333333333333333,
              "#9c179e"
             ],
             [
              0.4444444444444444,
              "#bd3786"
             ],
             [
              0.5555555555555556,
              "#d8576b"
             ],
             [
              0.6666666666666666,
              "#ed7953"
             ],
             [
              0.7777777777777778,
              "#fb9f3a"
             ],
             [
              0.8888888888888888,
              "#fdca26"
             ],
             [
              1,
              "#f0f921"
             ]
            ],
            "type": "histogram2dcontour"
           }
          ],
          "mesh3d": [
           {
            "colorbar": {
             "outlinewidth": 0,
             "ticks": ""
            },
            "type": "mesh3d"
           }
          ],
          "parcoords": [
           {
            "line": {
             "colorbar": {
              "outlinewidth": 0,
              "ticks": ""
             }
            },
            "type": "parcoords"
           }
          ],
          "pie": [
           {
            "automargin": true,
            "type": "pie"
           }
          ],
          "scatter": [
           {
            "fillpattern": {
             "fillmode": "overlay",
             "size": 10,
             "solidity": 0.2
            },
            "type": "scatter"
           }
          ],
          "scatter3d": [
           {
            "line": {
             "colorbar": {
              "outlinewidth": 0,
              "ticks": ""
             }
            },
            "marker": {
             "colorbar": {
              "outlinewidth": 0,
              "ticks": ""
             }
            },
            "type": "scatter3d"
           }
          ],
          "scattercarpet": [
           {
            "marker": {
             "colorbar": {
              "outlinewidth": 0,
              "ticks": ""
             }
            },
            "type": "scattercarpet"
           }
          ],
          "scattergeo": [
           {
            "marker": {
             "colorbar": {
              "outlinewidth": 0,
              "ticks": ""
             }
            },
            "type": "scattergeo"
           }
          ],
          "scattergl": [
           {
            "marker": {
             "colorbar": {
              "outlinewidth": 0,
              "ticks": ""
             }
            },
            "type": "scattergl"
           }
          ],
          "scattermapbox": [
           {
            "marker": {
             "colorbar": {
              "outlinewidth": 0,
              "ticks": ""
             }
            },
            "type": "scattermapbox"
           }
          ],
          "scatterpolar": [
           {
            "marker": {
             "colorbar": {
              "outlinewidth": 0,
              "ticks": ""
             }
            },
            "type": "scatterpolar"
           }
          ],
          "scatterpolargl": [
           {
            "marker": {
             "colorbar": {
              "outlinewidth": 0,
              "ticks": ""
             }
            },
            "type": "scatterpolargl"
           }
          ],
          "scatterternary": [
           {
            "marker": {
             "colorbar": {
              "outlinewidth": 0,
              "ticks": ""
             }
            },
            "type": "scatterternary"
           }
          ],
          "surface": [
           {
            "colorbar": {
             "outlinewidth": 0,
             "ticks": ""
            },
            "colorscale": [
             [
              0,
              "#0d0887"
             ],
             [
              0.1111111111111111,
              "#46039f"
             ],
             [
              0.2222222222222222,
              "#7201a8"
             ],
             [
              0.3333333333333333,
              "#9c179e"
             ],
             [
              0.4444444444444444,
              "#bd3786"
             ],
             [
              0.5555555555555556,
              "#d8576b"
             ],
             [
              0.6666666666666666,
              "#ed7953"
             ],
             [
              0.7777777777777778,
              "#fb9f3a"
             ],
             [
              0.8888888888888888,
              "#fdca26"
             ],
             [
              1,
              "#f0f921"
             ]
            ],
            "type": "surface"
           }
          ],
          "table": [
           {
            "cells": {
             "fill": {
              "color": "#EBF0F8"
             },
             "line": {
              "color": "white"
             }
            },
            "header": {
             "fill": {
              "color": "#C8D4E3"
             },
             "line": {
              "color": "white"
             }
            },
            "type": "table"
           }
          ]
         },
         "layout": {
          "annotationdefaults": {
           "arrowcolor": "#2a3f5f",
           "arrowhead": 0,
           "arrowwidth": 1
          },
          "autotypenumbers": "strict",
          "coloraxis": {
           "colorbar": {
            "outlinewidth": 0,
            "ticks": ""
           }
          },
          "colorscale": {
           "diverging": [
            [
             0,
             "#8e0152"
            ],
            [
             0.1,
             "#c51b7d"
            ],
            [
             0.2,
             "#de77ae"
            ],
            [
             0.3,
             "#f1b6da"
            ],
            [
             0.4,
             "#fde0ef"
            ],
            [
             0.5,
             "#f7f7f7"
            ],
            [
             0.6,
             "#e6f5d0"
            ],
            [
             0.7,
             "#b8e186"
            ],
            [
             0.8,
             "#7fbc41"
            ],
            [
             0.9,
             "#4d9221"
            ],
            [
             1,
             "#276419"
            ]
           ],
           "sequential": [
            [
             0,
             "#0d0887"
            ],
            [
             0.1111111111111111,
             "#46039f"
            ],
            [
             0.2222222222222222,
             "#7201a8"
            ],
            [
             0.3333333333333333,
             "#9c179e"
            ],
            [
             0.4444444444444444,
             "#bd3786"
            ],
            [
             0.5555555555555556,
             "#d8576b"
            ],
            [
             0.6666666666666666,
             "#ed7953"
            ],
            [
             0.7777777777777778,
             "#fb9f3a"
            ],
            [
             0.8888888888888888,
             "#fdca26"
            ],
            [
             1,
             "#f0f921"
            ]
           ],
           "sequentialminus": [
            [
             0,
             "#0d0887"
            ],
            [
             0.1111111111111111,
             "#46039f"
            ],
            [
             0.2222222222222222,
             "#7201a8"
            ],
            [
             0.3333333333333333,
             "#9c179e"
            ],
            [
             0.4444444444444444,
             "#bd3786"
            ],
            [
             0.5555555555555556,
             "#d8576b"
            ],
            [
             0.6666666666666666,
             "#ed7953"
            ],
            [
             0.7777777777777778,
             "#fb9f3a"
            ],
            [
             0.8888888888888888,
             "#fdca26"
            ],
            [
             1,
             "#f0f921"
            ]
           ]
          },
          "colorway": [
           "#636efa",
           "#EF553B",
           "#00cc96",
           "#ab63fa",
           "#FFA15A",
           "#19d3f3",
           "#FF6692",
           "#B6E880",
           "#FF97FF",
           "#FECB52"
          ],
          "font": {
           "color": "#2a3f5f"
          },
          "geo": {
           "bgcolor": "white",
           "lakecolor": "white",
           "landcolor": "white",
           "showlakes": true,
           "showland": true,
           "subunitcolor": "#C8D4E3"
          },
          "hoverlabel": {
           "align": "left"
          },
          "hovermode": "closest",
          "mapbox": {
           "style": "light"
          },
          "paper_bgcolor": "white",
          "plot_bgcolor": "white",
          "polar": {
           "angularaxis": {
            "gridcolor": "#EBF0F8",
            "linecolor": "#EBF0F8",
            "ticks": ""
           },
           "bgcolor": "white",
           "radialaxis": {
            "gridcolor": "#EBF0F8",
            "linecolor": "#EBF0F8",
            "ticks": ""
           }
          },
          "scene": {
           "xaxis": {
            "backgroundcolor": "white",
            "gridcolor": "#DFE8F3",
            "gridwidth": 2,
            "linecolor": "#EBF0F8",
            "showbackground": true,
            "ticks": "",
            "zerolinecolor": "#EBF0F8"
           },
           "yaxis": {
            "backgroundcolor": "white",
            "gridcolor": "#DFE8F3",
            "gridwidth": 2,
            "linecolor": "#EBF0F8",
            "showbackground": true,
            "ticks": "",
            "zerolinecolor": "#EBF0F8"
           },
           "zaxis": {
            "backgroundcolor": "white",
            "gridcolor": "#DFE8F3",
            "gridwidth": 2,
            "linecolor": "#EBF0F8",
            "showbackground": true,
            "ticks": "",
            "zerolinecolor": "#EBF0F8"
           }
          },
          "shapedefaults": {
           "line": {
            "color": "#2a3f5f"
           }
          },
          "ternary": {
           "aaxis": {
            "gridcolor": "#DFE8F3",
            "linecolor": "#A2B1C6",
            "ticks": ""
           },
           "baxis": {
            "gridcolor": "#DFE8F3",
            "linecolor": "#A2B1C6",
            "ticks": ""
           },
           "bgcolor": "white",
           "caxis": {
            "gridcolor": "#DFE8F3",
            "linecolor": "#A2B1C6",
            "ticks": ""
           }
          },
          "title": {
           "x": 0.05
          },
          "xaxis": {
           "automargin": true,
           "gridcolor": "#EBF0F8",
           "linecolor": "#EBF0F8",
           "ticks": "",
           "title": {
            "standoff": 15
           },
           "zerolinecolor": "#EBF0F8",
           "zerolinewidth": 2
          },
          "yaxis": {
           "automargin": true,
           "gridcolor": "#EBF0F8",
           "linecolor": "#EBF0F8",
           "ticks": "",
           "title": {
            "standoff": 15
           },
           "zerolinecolor": "#EBF0F8",
           "zerolinewidth": 2
          }
         }
        },
        "title": {
         "text": "Most Frequent Entities"
        },
        "width": 1064,
        "xaxis": {
         "anchor": "y",
         "domain": [
          0,
          1
         ],
         "tickangle": 45,
         "title": {
          "text": "Entity"
         }
        },
        "yaxis": {
         "anchor": "x",
         "automargin": true,
         "domain": [
          0,
          1
         ],
         "title": {
          "text": "Count"
         }
        }
       }
      }
     },
     "metadata": {},
     "output_type": "display_data"
    }
   ],
   "source": [
    "\n",
    "entity_counts = pd.Series(all_entities).value_counts()\n",
    "top_entities_df = entity_counts.reset_index()\n",
    "top_entities_df.columns = ['entity', 'count']\n",
    "\n",
    "# Bar grafiği oluşturma\n",
    "fig = px.bar(\n",
    "    top_entities_df,\n",
    "    x='entity',\n",
    "    y='count',\n",
    "    title='Most Frequent Entities',\n",
    "    labels={'entity': 'Entity', 'count': 'Count'},\n",
    "    color='count',  # Renkleri count'a göre ayarla\n",
    "    color_continuous_scale='Viridis',  # Renk paleti\n",
    "    text='count',  # Barların üzerine değerleri yazdır\n",
    "    template='plotly_white',  # Grafiğin arka planı\n",
    "    width=1064,  # Grafik genişliği\n",
    "    height=600   # Grafik yüksekliği\n",
    ")\n",
    "\n",
    "# Barların üzerindeki metinleri hizala\n",
    "fig.update_traces(texttemplate='%{text:.2s}', textposition='outside')\n",
    "\n",
    "# X eksenindeki etiketleri döndür ve Y eksenini otomatik ayarla\n",
    "fig.update_xaxes(tickangle=45)\n",
    "fig.update_yaxes(automargin=True)\n",
    "\n",
    "# Grafiği göster\n",
    "fig.show()\n"
   ]
  },
  {
   "cell_type": "code",
   "execution_count": 80,
   "metadata": {},
   "outputs": [
    {
     "data": {
      "text/html": [
       "<div>\n",
       "<style scoped>\n",
       "    .dataframe tbody tr th:only-of-type {\n",
       "        vertical-align: middle;\n",
       "    }\n",
       "\n",
       "    .dataframe tbody tr th {\n",
       "        vertical-align: top;\n",
       "    }\n",
       "\n",
       "    .dataframe thead th {\n",
       "        text-align: right;\n",
       "    }\n",
       "</style>\n",
       "<table border=\"1\" class=\"dataframe\">\n",
       "  <thead>\n",
       "    <tr style=\"text-align: right;\">\n",
       "      <th></th>\n",
       "      <th>text</th>\n",
       "      <th>entity</th>\n",
       "      <th>sentiment</th>\n",
       "      <th>konu</th>\n",
       "      <th>severity</th>\n",
       "      <th>bilet</th>\n",
       "      <th>musteri_hizmetleri</th>\n",
       "      <th>odeme</th>\n",
       "      <th>uygulama</th>\n",
       "      <th>passolig</th>\n",
       "      <th>passolig kart</th>\n",
       "      <th>diger</th>\n",
       "      <th>aksiyon</th>\n",
       "    </tr>\n",
       "  </thead>\n",
       "  <tbody>\n",
       "    <tr>\n",
       "      <th>0</th>\n",
       "      <td>passo uzerinden bir konsere guzel bir miktarda...</td>\n",
       "      <td>passo</td>\n",
       "      <td>olumsuz</td>\n",
       "      <td>cagri merkezi yetkinlik</td>\n",
       "      <td>1</td>\n",
       "      <td>0</td>\n",
       "      <td>1</td>\n",
       "      <td>0</td>\n",
       "      <td>0</td>\n",
       "      <td>0</td>\n",
       "      <td>0</td>\n",
       "      <td>1</td>\n",
       "      <td>1</td>\n",
       "    </tr>\n",
       "    <tr>\n",
       "      <th>1</th>\n",
       "      <td>passo cesme acikhava gosteri bileti bkm in gos...</td>\n",
       "      <td>passo</td>\n",
       "      <td>olumsuz</td>\n",
       "      <td>diger</td>\n",
       "      <td>1</td>\n",
       "      <td>1</td>\n",
       "      <td>0</td>\n",
       "      <td>0</td>\n",
       "      <td>0</td>\n",
       "      <td>0</td>\n",
       "      <td>0</td>\n",
       "      <td>1</td>\n",
       "      <td>1</td>\n",
       "    </tr>\n",
       "    <tr>\n",
       "      <th>2</th>\n",
       "      <td>eylul anyma etkinligi icin biletler ciktiktan ...</td>\n",
       "      <td>passo</td>\n",
       "      <td>olumsuz</td>\n",
       "      <td>cagri merkezi yetkinlik</td>\n",
       "      <td>1</td>\n",
       "      <td>1</td>\n",
       "      <td>1</td>\n",
       "      <td>0</td>\n",
       "      <td>0</td>\n",
       "      <td>0</td>\n",
       "      <td>0</td>\n",
       "      <td>0</td>\n",
       "      <td>1</td>\n",
       "    </tr>\n",
       "    <tr>\n",
       "      <th>3</th>\n",
       "      <td>passo dan aldigim eylul tan tasci konser bilet...</td>\n",
       "      <td>passo</td>\n",
       "      <td>olumsuz</td>\n",
       "      <td>cagri merkezi yetkinlik</td>\n",
       "      <td>1</td>\n",
       "      <td>1</td>\n",
       "      <td>1</td>\n",
       "      <td>0</td>\n",
       "      <td>0</td>\n",
       "      <td>0</td>\n",
       "      <td>0</td>\n",
       "      <td>0</td>\n",
       "      <td>1</td>\n",
       "    </tr>\n",
       "    <tr>\n",
       "      <th>4</th>\n",
       "      <td>passo bilet aldim email mesaj olarak bilgi gel...</td>\n",
       "      <td>passo</td>\n",
       "      <td>olumsuz</td>\n",
       "      <td>cagri merkezi yetkinlik</td>\n",
       "      <td>1</td>\n",
       "      <td>0</td>\n",
       "      <td>1</td>\n",
       "      <td>0</td>\n",
       "      <td>0</td>\n",
       "      <td>0</td>\n",
       "      <td>0</td>\n",
       "      <td>0</td>\n",
       "      <td>1</td>\n",
       "    </tr>\n",
       "    <tr>\n",
       "      <th>...</th>\n",
       "      <td>...</td>\n",
       "      <td>...</td>\n",
       "      <td>...</td>\n",
       "      <td>...</td>\n",
       "      <td>...</td>\n",
       "      <td>...</td>\n",
       "      <td>...</td>\n",
       "      <td>...</td>\n",
       "      <td>...</td>\n",
       "      <td>...</td>\n",
       "      <td>...</td>\n",
       "      <td>...</td>\n",
       "      <td>...</td>\n",
       "    </tr>\n",
       "    <tr>\n",
       "      <th>3179</th>\n",
       "      <td>musteri hizmetleri islemlerim passo sayesinde ...</td>\n",
       "      <td>passo</td>\n",
       "      <td>olumlu</td>\n",
       "      <td>cagri merkezi yetkinlik</td>\n",
       "      <td>0</td>\n",
       "      <td>0</td>\n",
       "      <td>1</td>\n",
       "      <td>0</td>\n",
       "      <td>0</td>\n",
       "      <td>0</td>\n",
       "      <td>0</td>\n",
       "      <td>0</td>\n",
       "      <td>0</td>\n",
       "    </tr>\n",
       "    <tr>\n",
       "      <th>3180</th>\n",
       "      <td>passolig kartimla uygulama islemi inanilmaz de...</td>\n",
       "      <td>passo; passolig; passolig kart</td>\n",
       "      <td>olumlu</td>\n",
       "      <td>uygulama</td>\n",
       "      <td>0</td>\n",
       "      <td>0</td>\n",
       "      <td>0</td>\n",
       "      <td>0</td>\n",
       "      <td>1</td>\n",
       "      <td>1</td>\n",
       "      <td>1</td>\n",
       "      <td>0</td>\n",
       "      <td>0</td>\n",
       "    </tr>\n",
       "    <tr>\n",
       "      <th>3181</th>\n",
       "      <td>uygulama islemlerim sirasinda musteri hizmetle...</td>\n",
       "      <td>passolig</td>\n",
       "      <td>notr</td>\n",
       "      <td>uygulama</td>\n",
       "      <td>0</td>\n",
       "      <td>0</td>\n",
       "      <td>1</td>\n",
       "      <td>0</td>\n",
       "      <td>1</td>\n",
       "      <td>0</td>\n",
       "      <td>0</td>\n",
       "      <td>0</td>\n",
       "      <td>0</td>\n",
       "    </tr>\n",
       "    <tr>\n",
       "      <th>3182</th>\n",
       "      <td>passolig kartimla sorunsuzca ilgili passolig k...</td>\n",
       "      <td>passo; passolig; passolig kart</td>\n",
       "      <td>notr</td>\n",
       "      <td>diger</td>\n",
       "      <td>0</td>\n",
       "      <td>0</td>\n",
       "      <td>0</td>\n",
       "      <td>0</td>\n",
       "      <td>0</td>\n",
       "      <td>1</td>\n",
       "      <td>1</td>\n",
       "      <td>0</td>\n",
       "      <td>0</td>\n",
       "    </tr>\n",
       "    <tr>\n",
       "      <th>3183</th>\n",
       "      <td>passo nun odeme islemleri hizli sorunsuzdu kad...</td>\n",
       "      <td>passo</td>\n",
       "      <td>notr</td>\n",
       "      <td>odeme</td>\n",
       "      <td>0</td>\n",
       "      <td>0</td>\n",
       "      <td>0</td>\n",
       "      <td>1</td>\n",
       "      <td>0</td>\n",
       "      <td>1</td>\n",
       "      <td>0</td>\n",
       "      <td>0</td>\n",
       "      <td>0</td>\n",
       "    </tr>\n",
       "  </tbody>\n",
       "</table>\n",
       "<p>3184 rows × 13 columns</p>\n",
       "</div>"
      ],
      "text/plain": [
       "                                                   text  \\\n",
       "0     passo uzerinden bir konsere guzel bir miktarda...   \n",
       "1     passo cesme acikhava gosteri bileti bkm in gos...   \n",
       "2     eylul anyma etkinligi icin biletler ciktiktan ...   \n",
       "3     passo dan aldigim eylul tan tasci konser bilet...   \n",
       "4     passo bilet aldim email mesaj olarak bilgi gel...   \n",
       "...                                                 ...   \n",
       "3179  musteri hizmetleri islemlerim passo sayesinde ...   \n",
       "3180  passolig kartimla uygulama islemi inanilmaz de...   \n",
       "3181  uygulama islemlerim sirasinda musteri hizmetle...   \n",
       "3182  passolig kartimla sorunsuzca ilgili passolig k...   \n",
       "3183  passo nun odeme islemleri hizli sorunsuzdu kad...   \n",
       "\n",
       "                              entity sentiment                     konu  \\\n",
       "0                              passo   olumsuz  cagri merkezi yetkinlik   \n",
       "1                              passo   olumsuz                    diger   \n",
       "2                              passo   olumsuz  cagri merkezi yetkinlik   \n",
       "3                              passo   olumsuz  cagri merkezi yetkinlik   \n",
       "4                              passo   olumsuz  cagri merkezi yetkinlik   \n",
       "...                              ...       ...                      ...   \n",
       "3179                           passo    olumlu  cagri merkezi yetkinlik   \n",
       "3180  passo; passolig; passolig kart    olumlu                 uygulama   \n",
       "3181                        passolig      notr                 uygulama   \n",
       "3182  passo; passolig; passolig kart      notr                    diger   \n",
       "3183                           passo      notr                    odeme   \n",
       "\n",
       "      severity  bilet  musteri_hizmetleri  odeme  uygulama  passolig  \\\n",
       "0            1      0                   1      0         0         0   \n",
       "1            1      1                   0      0         0         0   \n",
       "2            1      1                   1      0         0         0   \n",
       "3            1      1                   1      0         0         0   \n",
       "4            1      0                   1      0         0         0   \n",
       "...        ...    ...                 ...    ...       ...       ...   \n",
       "3179         0      0                   1      0         0         0   \n",
       "3180         0      0                   0      0         1         1   \n",
       "3181         0      0                   1      0         1         0   \n",
       "3182         0      0                   0      0         0         1   \n",
       "3183         0      0                   0      1         0         1   \n",
       "\n",
       "      passolig kart  diger  aksiyon  \n",
       "0                 0      1        1  \n",
       "1                 0      1        1  \n",
       "2                 0      0        1  \n",
       "3                 0      0        1  \n",
       "4                 0      0        1  \n",
       "...             ...    ...      ...  \n",
       "3179              0      0        0  \n",
       "3180              1      0        0  \n",
       "3181              0      0        0  \n",
       "3182              1      0        0  \n",
       "3183              0      0        0  \n",
       "\n",
       "[3184 rows x 13 columns]"
      ]
     },
     "execution_count": 80,
     "metadata": {},
     "output_type": "execute_result"
    }
   ],
   "source": [
    "df.drop(axis = 1, columns='entity_list_split', inplace = True)\n",
    "df"
   ]
  },
  {
   "cell_type": "code",
   "execution_count": 81,
   "metadata": {},
   "outputs": [
    {
     "data": {
      "text/html": [
       "<div>\n",
       "<style scoped>\n",
       "    .dataframe tbody tr th:only-of-type {\n",
       "        vertical-align: middle;\n",
       "    }\n",
       "\n",
       "    .dataframe tbody tr th {\n",
       "        vertical-align: top;\n",
       "    }\n",
       "\n",
       "    .dataframe thead th {\n",
       "        text-align: right;\n",
       "    }\n",
       "</style>\n",
       "<table border=\"1\" class=\"dataframe\">\n",
       "  <thead>\n",
       "    <tr style=\"text-align: right;\">\n",
       "      <th></th>\n",
       "      <th>text</th>\n",
       "      <th>entity</th>\n",
       "      <th>sentiment</th>\n",
       "      <th>konu</th>\n",
       "      <th>severity</th>\n",
       "      <th>bilet</th>\n",
       "      <th>musteri_hizmetleri</th>\n",
       "      <th>odeme</th>\n",
       "      <th>uygulama</th>\n",
       "      <th>passolig</th>\n",
       "      <th>passolig kart</th>\n",
       "      <th>diger</th>\n",
       "      <th>aksiyon</th>\n",
       "      <th>label</th>\n",
       "    </tr>\n",
       "  </thead>\n",
       "  <tbody>\n",
       "    <tr>\n",
       "      <th>0</th>\n",
       "      <td>passo uzerinden bir konsere guzel bir miktarda...</td>\n",
       "      <td>passo</td>\n",
       "      <td>olumsuz</td>\n",
       "      <td>cagri merkezi yetkinlik</td>\n",
       "      <td>1</td>\n",
       "      <td>0</td>\n",
       "      <td>1</td>\n",
       "      <td>0</td>\n",
       "      <td>0</td>\n",
       "      <td>0</td>\n",
       "      <td>0</td>\n",
       "      <td>1</td>\n",
       "      <td>1</td>\n",
       "      <td>18</td>\n",
       "    </tr>\n",
       "    <tr>\n",
       "      <th>1</th>\n",
       "      <td>passo cesme acikhava gosteri bileti bkm in gos...</td>\n",
       "      <td>passo</td>\n",
       "      <td>olumsuz</td>\n",
       "      <td>diger</td>\n",
       "      <td>1</td>\n",
       "      <td>1</td>\n",
       "      <td>0</td>\n",
       "      <td>0</td>\n",
       "      <td>0</td>\n",
       "      <td>0</td>\n",
       "      <td>0</td>\n",
       "      <td>1</td>\n",
       "      <td>1</td>\n",
       "      <td>13</td>\n",
       "    </tr>\n",
       "    <tr>\n",
       "      <th>2</th>\n",
       "      <td>eylul anyma etkinligi icin biletler ciktiktan ...</td>\n",
       "      <td>passo</td>\n",
       "      <td>olumsuz</td>\n",
       "      <td>cagri merkezi yetkinlik</td>\n",
       "      <td>1</td>\n",
       "      <td>1</td>\n",
       "      <td>1</td>\n",
       "      <td>0</td>\n",
       "      <td>0</td>\n",
       "      <td>0</td>\n",
       "      <td>0</td>\n",
       "      <td>0</td>\n",
       "      <td>1</td>\n",
       "      <td>8</td>\n",
       "    </tr>\n",
       "    <tr>\n",
       "      <th>3</th>\n",
       "      <td>passo dan aldigim eylul tan tasci konser bilet...</td>\n",
       "      <td>passo</td>\n",
       "      <td>olumsuz</td>\n",
       "      <td>cagri merkezi yetkinlik</td>\n",
       "      <td>1</td>\n",
       "      <td>1</td>\n",
       "      <td>1</td>\n",
       "      <td>0</td>\n",
       "      <td>0</td>\n",
       "      <td>0</td>\n",
       "      <td>0</td>\n",
       "      <td>0</td>\n",
       "      <td>1</td>\n",
       "      <td>8</td>\n",
       "    </tr>\n",
       "    <tr>\n",
       "      <th>4</th>\n",
       "      <td>passo bilet aldim email mesaj olarak bilgi gel...</td>\n",
       "      <td>passo</td>\n",
       "      <td>olumsuz</td>\n",
       "      <td>cagri merkezi yetkinlik</td>\n",
       "      <td>1</td>\n",
       "      <td>0</td>\n",
       "      <td>1</td>\n",
       "      <td>0</td>\n",
       "      <td>0</td>\n",
       "      <td>0</td>\n",
       "      <td>0</td>\n",
       "      <td>0</td>\n",
       "      <td>1</td>\n",
       "      <td>2</td>\n",
       "    </tr>\n",
       "    <tr>\n",
       "      <th>...</th>\n",
       "      <td>...</td>\n",
       "      <td>...</td>\n",
       "      <td>...</td>\n",
       "      <td>...</td>\n",
       "      <td>...</td>\n",
       "      <td>...</td>\n",
       "      <td>...</td>\n",
       "      <td>...</td>\n",
       "      <td>...</td>\n",
       "      <td>...</td>\n",
       "      <td>...</td>\n",
       "      <td>...</td>\n",
       "      <td>...</td>\n",
       "      <td>...</td>\n",
       "    </tr>\n",
       "    <tr>\n",
       "      <th>3179</th>\n",
       "      <td>musteri hizmetleri islemlerim passo sayesinde ...</td>\n",
       "      <td>passo</td>\n",
       "      <td>olumlu</td>\n",
       "      <td>cagri merkezi yetkinlik</td>\n",
       "      <td>0</td>\n",
       "      <td>0</td>\n",
       "      <td>1</td>\n",
       "      <td>0</td>\n",
       "      <td>0</td>\n",
       "      <td>0</td>\n",
       "      <td>0</td>\n",
       "      <td>0</td>\n",
       "      <td>0</td>\n",
       "      <td>2</td>\n",
       "    </tr>\n",
       "    <tr>\n",
       "      <th>3180</th>\n",
       "      <td>passolig kartimla uygulama islemi inanilmaz de...</td>\n",
       "      <td>passo; passolig; passolig kart</td>\n",
       "      <td>olumlu</td>\n",
       "      <td>uygulama</td>\n",
       "      <td>0</td>\n",
       "      <td>0</td>\n",
       "      <td>0</td>\n",
       "      <td>0</td>\n",
       "      <td>1</td>\n",
       "      <td>1</td>\n",
       "      <td>1</td>\n",
       "      <td>0</td>\n",
       "      <td>0</td>\n",
       "      <td>60</td>\n",
       "    </tr>\n",
       "    <tr>\n",
       "      <th>3181</th>\n",
       "      <td>uygulama islemlerim sirasinda musteri hizmetle...</td>\n",
       "      <td>passolig</td>\n",
       "      <td>notr</td>\n",
       "      <td>uygulama</td>\n",
       "      <td>0</td>\n",
       "      <td>0</td>\n",
       "      <td>1</td>\n",
       "      <td>0</td>\n",
       "      <td>1</td>\n",
       "      <td>0</td>\n",
       "      <td>0</td>\n",
       "      <td>0</td>\n",
       "      <td>0</td>\n",
       "      <td>15</td>\n",
       "    </tr>\n",
       "    <tr>\n",
       "      <th>3182</th>\n",
       "      <td>passolig kartimla sorunsuzca ilgili passolig k...</td>\n",
       "      <td>passo; passolig; passolig kart</td>\n",
       "      <td>notr</td>\n",
       "      <td>diger</td>\n",
       "      <td>0</td>\n",
       "      <td>0</td>\n",
       "      <td>0</td>\n",
       "      <td>0</td>\n",
       "      <td>0</td>\n",
       "      <td>1</td>\n",
       "      <td>1</td>\n",
       "      <td>0</td>\n",
       "      <td>0</td>\n",
       "      <td>26</td>\n",
       "    </tr>\n",
       "    <tr>\n",
       "      <th>3183</th>\n",
       "      <td>passo nun odeme islemleri hizli sorunsuzdu kad...</td>\n",
       "      <td>passo</td>\n",
       "      <td>notr</td>\n",
       "      <td>odeme</td>\n",
       "      <td>0</td>\n",
       "      <td>0</td>\n",
       "      <td>0</td>\n",
       "      <td>1</td>\n",
       "      <td>0</td>\n",
       "      <td>1</td>\n",
       "      <td>0</td>\n",
       "      <td>0</td>\n",
       "      <td>0</td>\n",
       "      <td>20</td>\n",
       "    </tr>\n",
       "  </tbody>\n",
       "</table>\n",
       "<p>3184 rows × 14 columns</p>\n",
       "</div>"
      ],
      "text/plain": [
       "                                                   text  \\\n",
       "0     passo uzerinden bir konsere guzel bir miktarda...   \n",
       "1     passo cesme acikhava gosteri bileti bkm in gos...   \n",
       "2     eylul anyma etkinligi icin biletler ciktiktan ...   \n",
       "3     passo dan aldigim eylul tan tasci konser bilet...   \n",
       "4     passo bilet aldim email mesaj olarak bilgi gel...   \n",
       "...                                                 ...   \n",
       "3179  musteri hizmetleri islemlerim passo sayesinde ...   \n",
       "3180  passolig kartimla uygulama islemi inanilmaz de...   \n",
       "3181  uygulama islemlerim sirasinda musteri hizmetle...   \n",
       "3182  passolig kartimla sorunsuzca ilgili passolig k...   \n",
       "3183  passo nun odeme islemleri hizli sorunsuzdu kad...   \n",
       "\n",
       "                              entity sentiment                     konu  \\\n",
       "0                              passo   olumsuz  cagri merkezi yetkinlik   \n",
       "1                              passo   olumsuz                    diger   \n",
       "2                              passo   olumsuz  cagri merkezi yetkinlik   \n",
       "3                              passo   olumsuz  cagri merkezi yetkinlik   \n",
       "4                              passo   olumsuz  cagri merkezi yetkinlik   \n",
       "...                              ...       ...                      ...   \n",
       "3179                           passo    olumlu  cagri merkezi yetkinlik   \n",
       "3180  passo; passolig; passolig kart    olumlu                 uygulama   \n",
       "3181                        passolig      notr                 uygulama   \n",
       "3182  passo; passolig; passolig kart      notr                    diger   \n",
       "3183                           passo      notr                    odeme   \n",
       "\n",
       "      severity  bilet  musteri_hizmetleri  odeme  uygulama  passolig  \\\n",
       "0            1      0                   1      0         0         0   \n",
       "1            1      1                   0      0         0         0   \n",
       "2            1      1                   1      0         0         0   \n",
       "3            1      1                   1      0         0         0   \n",
       "4            1      0                   1      0         0         0   \n",
       "...        ...    ...                 ...    ...       ...       ...   \n",
       "3179         0      0                   1      0         0         0   \n",
       "3180         0      0                   0      0         1         1   \n",
       "3181         0      0                   1      0         1         0   \n",
       "3182         0      0                   0      0         0         1   \n",
       "3183         0      0                   0      1         0         1   \n",
       "\n",
       "      passolig kart  diger  aksiyon  label  \n",
       "0                 0      1        1     18  \n",
       "1                 0      1        1     13  \n",
       "2                 0      0        1      8  \n",
       "3                 0      0        1      8  \n",
       "4                 0      0        1      2  \n",
       "...             ...    ...      ...    ...  \n",
       "3179              0      0        0      2  \n",
       "3180              1      0        0     60  \n",
       "3181              0      0        0     15  \n",
       "3182              1      0        0     26  \n",
       "3183              0      0        0     20  \n",
       "\n",
       "[3184 rows x 14 columns]"
      ]
     },
     "execution_count": 81,
     "metadata": {},
     "output_type": "execute_result"
    }
   ],
   "source": [
    "from itertools import combinations\n",
    "\n",
    "# Tekil sütunlar için label atamaları\n",
    "single_column_labels = {\n",
    "    'bilet': 1,\n",
    "    'musteri_hizmetleri': 2,\n",
    "    'odeme': 3,\n",
    "    'uygulama': 4,\n",
    "    'passolig': 5,\n",
    "    'passolig kart': 6,\n",
    "    'diger': 7\n",
    "}\n",
    "\n",
    "# İkili sütun kombinasyonları için label atamaları\n",
    "pair_column_labels = {\n",
    "    ('bilet', 'musteri_hizmetleri'): 8,\n",
    "    ('bilet', 'odeme'): 9,\n",
    "    ('bilet', 'uygulama'): 10,\n",
    "    ('bilet', 'passolig'): 11,\n",
    "    ('bilet', 'passolig kart'): 12,\n",
    "    ('bilet', 'diger'): 13,\n",
    "    ('musteri_hizmetleri', 'odeme'): 14,\n",
    "    ('musteri_hizmetleri', 'uygulama'): 15,\n",
    "    ('musteri_hizmetleri', 'passolig'): 16,\n",
    "    ('musteri_hizmetleri', 'passolig kart'): 17,\n",
    "    ('musteri_hizmetleri', 'diger'): 18,\n",
    "    ('odeme', 'uygulama'): 19,\n",
    "    ('odeme', 'passolig'): 20,\n",
    "    ('odeme', 'passolig kart'): 21,\n",
    "    ('odeme', 'diger'): 22,\n",
    "    ('uygulama', 'passolig'): 23,\n",
    "    ('uygulama', 'passolig kart'): 24,\n",
    "    ('uygulama', 'diger'): 25,\n",
    "    ('passolig', 'passolig kart'): 26,\n",
    "    ('passolig', 'diger'): 27,\n",
    "    ('passolig kart', 'diger'): 28\n",
    "}\n",
    "\n",
    "# Üçlü sütun kombinasyonları için label atamaları\n",
    "trio_column_labels = {\n",
    "    ('bilet', 'musteri_hizmetleri', 'odeme'): 29,\n",
    "    ('bilet', 'musteri_hizmetleri', 'uygulama'): 30,\n",
    "    ('bilet', 'musteri_hizmetleri', 'passolig'): 31,\n",
    "    ('bilet', 'musteri_hizmetleri', 'passolig kart'): 32,\n",
    "    ('bilet', 'musteri_hizmetleri', 'diger'): 33,\n",
    "    ('bilet', 'odeme', 'uygulama'): 34,\n",
    "    ('bilet', 'odeme', 'passolig'): 35,\n",
    "    ('bilet', 'odeme', 'passolig kart'): 36,\n",
    "    ('bilet', 'odeme', 'diger'): 37,\n",
    "    ('bilet', 'uygulama', 'passolig'): 38,\n",
    "    ('bilet', 'uygulama', 'passolig kart'): 39,\n",
    "    ('bilet', 'uygulama', 'diger'): 40,\n",
    "    ('bilet', 'passolig', 'passolig kart'): 41,\n",
    "    ('bilet', 'passolig', 'diger'): 42,\n",
    "    ('bilet', 'passolig kart', 'diger'): 43,\n",
    "    ('musteri_hizmetleri', 'odeme', 'uygulama'): 44,\n",
    "    ('musteri_hizmetleri', 'odeme', 'passolig'): 45,\n",
    "    ('musteri_hizmetleri', 'odeme', 'passolig kart'): 46,\n",
    "    ('musteri_hizmetleri', 'odeme', 'diger'): 47,\n",
    "    ('musteri_hizmetleri', 'uygulama', 'passolig'): 48,\n",
    "    ('musteri_hizmetleri', 'uygulama', 'passolig kart'): 49,\n",
    "    ('musteri_hizmetleri', 'uygulama', 'diger'): 50,\n",
    "    ('musteri_hizmetleri', 'passolig', 'passolig kart'): 51,\n",
    "    ('musteri_hizmetleri', 'passolig', 'diger'): 52,\n",
    "    ('musteri_hizmetleri', 'passolig kart', 'diger'): 53,\n",
    "    ('odeme', 'uygulama', 'passolig'): 54,\n",
    "    ('odeme', 'uygulama', 'passolig kart'): 55,\n",
    "    ('odeme', 'uygulama', 'diger'): 56,\n",
    "    ('odeme', 'passolig', 'passolig kart'): 57,\n",
    "    ('odeme', 'passolig', 'diger'): 58,\n",
    "    ('odeme', 'passolig kart', 'diger'): 59,\n",
    "    ('uygulama', 'passolig', 'passolig kart'): 60,\n",
    "    ('uygulama', 'passolig', 'diger'): 61,\n",
    "    ('uygulama', 'passolig kart', 'diger'): 62,\n",
    "    ('passolig', 'passolig kart', 'diger'): 63\n",
    "}\n",
    "\n",
    "# Dörtlü sütun kombinasyonları için label atamaları\n",
    "four_column_labels = {\n",
    "    ('bilet', 'musteri_hizmetleri', 'odeme', 'uygulama'): 64,\n",
    "    ('bilet', 'musteri_hizmetleri', 'odeme', 'passolig'): 65,\n",
    "    ('bilet', 'musteri_hizmetleri', 'odeme', 'passolig kart'): 66,\n",
    "    ('bilet', 'musteri_hizmetleri', 'odeme', 'diger'): 67,\n",
    "    ('bilet', 'musteri_hizmetleri', 'uygulama', 'passolig'): 68,\n",
    "    ('bilet', 'musteri_hizmetleri', 'uygulama', 'passolig kart'): 69,\n",
    "    ('bilet', 'musteri_hizmetleri', 'uygulama', 'diger'): 70,\n",
    "    ('bilet', 'musteri_hizmetleri', 'passolig', 'passolig kart'): 71,\n",
    "    ('bilet', 'musteri_hizmetleri', 'passolig', 'diger'): 72,\n",
    "    ('bilet', 'musteri_hizmetleri', 'passolig kart', 'diger'): 73,\n",
    "    ('bilet', 'odeme', 'uygulama', 'passolig'): 74,\n",
    "    ('bilet', 'odeme', 'uygulama', 'passolig kart'): 75,\n",
    "    ('bilet', 'odeme', 'uygulama', 'diger'): 76,\n",
    "    ('bilet', 'odeme', 'passolig', 'passolig kart'): 77,\n",
    "    ('bilet', 'odeme', 'passolig', 'diger'): 78,\n",
    "    ('bilet', 'odeme', 'passolig kart', 'diger'): 79,\n",
    "    ('bilet', 'uygulama', 'passolig', 'passolig kart'): 80,\n",
    "    ('bilet', 'uygulama', 'passolig', 'diger'): 81,\n",
    "    ('bilet', 'uygulama', 'passolig kart', 'diger'): 82,\n",
    "    ('bilet', 'passolig', 'passolig kart', 'diger'): 83,\n",
    "    ('musteri_hizmetleri', 'odeme', 'uygulama', 'passolig'): 84,\n",
    "    ('musteri_hizmetleri', 'odeme', 'uygulama', 'passolig kart'): 85,\n",
    "    ('musteri_hizmetleri', 'odeme', 'uygulama', 'diger'): 86,\n",
    "    ('musteri_hizmetleri', 'odeme', 'passolig', 'passolig kart'): 87,\n",
    "    ('musteri_hizmetleri', 'odeme', 'passolig', 'diger'): 88,\n",
    "    ('musteri_hizmetleri', 'odeme', 'passolig kart', 'diger'): 89,\n",
    "    ('musteri_hizmetleri', 'uygulama', 'passolig', 'passolig kart'): 90,\n",
    "    ('musteri_hizmetleri', 'uygulama', 'passolig', 'diger'): 91,\n",
    "    ('musteri_hizmetleri', 'uygulama', 'passolig kart', 'diger'): 92,\n",
    "    ('musteri_hizmetleri', 'passolig', 'passolig kart', 'diger'): 93,\n",
    "    ('odeme', 'uygulama', 'passolig', 'passolig kart'): 94,\n",
    "    ('odeme', 'uygulama', 'passolig', 'diger'): 95,\n",
    "    ('odeme', 'uygulama', 'passolig kart', 'diger'): 96,\n",
    "    ('odeme', 'passolig', 'passolig kart', 'diger'): 97,\n",
    "    ('uygulama', 'passolig', 'passolig kart', 'diger'): 98\n",
    "}\n",
    "\n",
    "# Beşli sütun kombinasyonları için label atamaları\n",
    "five_column_labels = {\n",
    "    ('bilet', 'musteri_hizmetleri', 'odeme', 'uygulama', 'passolig'): 99,\n",
    "    ('bilet', 'musteri_hizmetleri', 'odeme', 'uygulama', 'passolig kart'): 100,\n",
    "    ('bilet', 'musteri_hizmetleri', 'odeme', 'uygulama', 'diger'): 101,\n",
    "    ('bilet', 'musteri_hizmetleri', 'odeme', 'passolig', 'passolig kart'): 102,\n",
    "    ('bilet', 'musteri_hizmetleri', 'odeme', 'passolig', 'diger'): 103,\n",
    "    ('bilet', 'musteri_hizmetleri', 'odeme', 'passolig kart', 'diger'): 104,\n",
    "    ('bilet', 'musteri_hizmetleri', 'uygulama', 'passolig', 'passolig kart'): 105,\n",
    "    ('bilet', 'musteri_hizmetleri', 'uygulama', 'passolig', 'diger'): 106,\n",
    "    ('bilet', 'musteri_hizmetleri', 'uygulama', 'passolig kart', 'diger'): 107,\n",
    "    ('bilet', 'musteri_hizmetleri', 'passolig', 'passolig kart', 'diger'): 108,\n",
    "    ('bilet', 'odeme', 'uygulama', 'passolig', 'passolig kart'): 109,\n",
    "    ('bilet', 'odeme', 'uygulama', 'passolig', 'diger'): 110,\n",
    "    ('bilet', 'odeme', 'uygulama', 'passolig kart', 'diger'): 111,\n",
    "    ('bilet', 'odeme', 'passolig', 'passolig kart', 'diger'): 112,\n",
    "    ('bilet', 'uygulama', 'passolig', 'passolig kart', 'diger'): 113,\n",
    "    ('musteri_hizmetleri', 'odeme', 'uygulama', 'passolig', 'passolig kart'): 114,\n",
    "    ('musteri_hizmetleri', 'odeme', 'uygulama', 'passolig', 'diger'): 115,\n",
    "    ('musteri_hizmetleri', 'odeme', 'uygulama', 'passolig kart', 'diger'): 116,\n",
    "    ('musteri_hizmetleri', 'odeme', 'passolig', 'passolig kart', 'diger'): 117,\n",
    "    ('musteri_hizmetleri', 'uygulama', 'passolig', 'passolig kart', 'diger'): 118,\n",
    "    ('odeme', 'uygulama', 'passolig', 'passolig kart', 'diger'): 119\n",
    "}\n",
    "\n",
    "# Altılı sütun kombinasyonları için label atamaları\n",
    "six_column_labels = {\n",
    "    ('bilet', 'musteri_hizmetleri', 'odeme', 'uygulama', 'passolig', 'passolig kart'): 120,\n",
    "    ('bilet', 'musteri_hizmetleri', 'odeme', 'uygulama', 'passolig', 'diger'): 121,\n",
    "    ('bilet', 'musteri_hizmetleri', 'odeme', 'uygulama', 'passolig kart', 'diger'): 122,\n",
    "    ('bilet', 'musteri_hizmetleri', 'odeme', 'passolig', 'passolig kart', 'diger'): 123,\n",
    "    ('bilet', 'musteri_hizmetleri', 'uygulama', 'passolig', 'passolig kart', 'diger'): 124,\n",
    "    ('bilet', 'odeme', 'uygulama', 'passolig', 'passolig kart', 'diger'): 125,\n",
    "    ('musteri_hizmetleri', 'odeme', 'uygulama', 'passolig', 'passolig kart', 'diger'): 126\n",
    "}\n",
    "\n",
    "seven_column_labels = {\n",
    "    ('bilet', 'musteri_hizmetleri', 'odeme', 'uygulama', 'passolig', 'passolig kart', 'diger'): 127\n",
    "}\n",
    "\n",
    "\n",
    "def classify(row):\n",
    "    active_columns = [col for col in columns if row[col] == 1]\n",
    "    \n",
    "    # Tekil sütunlar için label atama\n",
    "    if len(active_columns) == 1:\n",
    "        return single_column_labels.get(active_columns[0], -1)\n",
    "    \n",
    "    # İkili sütun kombinasyonları için label atama\n",
    "    elif len(active_columns) == 2:\n",
    "        combination = tuple(active_columns)\n",
    "        reverse_combination = tuple(reversed(active_columns))\n",
    "        \n",
    "        # Hem orijinal sırayla hem de ters sırayla sözlükte arama yapar\n",
    "        if combination in pair_column_labels:\n",
    "            return pair_column_labels[combination]\n",
    "        elif reverse_combination in pair_column_labels:\n",
    "            return pair_column_labels[reverse_combination]\n",
    "        else:\n",
    "            return -1\n",
    "    \n",
    "    # Üçlü sütun kombinasyonları için label atama\n",
    "    elif len(active_columns) == 3:\n",
    "        combination = tuple(active_columns)\n",
    "        sorted_combination = tuple(sorted(active_columns))\n",
    "        \n",
    "        # Hem orijinal sırayla hem de sıralı şekilde kontrol eder\n",
    "        if combination in trio_column_labels:\n",
    "            return trio_column_labels[combination]\n",
    "        elif sorted_combination in trio_column_labels:\n",
    "            return trio_column_labels[sorted_combination]\n",
    "        else:\n",
    "            return -1\n",
    "    \n",
    "    # Dörtlü sütun kombinasyonları için label atama\n",
    "    elif len(active_columns) == 4:\n",
    "        combination = tuple(active_columns)\n",
    "        sorted_combination = tuple(sorted(active_columns))\n",
    "        \n",
    "        # Hem orijinal sırayla hem de sıralı şekilde kontrol eder\n",
    "        if combination in four_column_labels:\n",
    "            return four_column_labels[combination]\n",
    "        elif sorted_combination in four_column_labels:\n",
    "            return four_column_labels[sorted_combination]\n",
    "        else:\n",
    "            return -1\n",
    "    \n",
    "    # Beşli sütun kombinasyonları için label atama\n",
    "    elif len(active_columns) == 5:\n",
    "        combination = tuple(active_columns)\n",
    "        sorted_combination = tuple(sorted(active_columns))\n",
    "        \n",
    "        # Hem orijinal sırayla hem de sıralı şekilde kontrol eder\n",
    "        if combination in five_column_labels:\n",
    "            return five_column_labels[combination]\n",
    "        elif sorted_combination in five_column_labels:\n",
    "            return five_column_labels[sorted_combination]\n",
    "        else:\n",
    "            return -1\n",
    "    \n",
    "    # Altılı sütun kombinasyonları için label atama\n",
    "    elif len(active_columns) == 6:\n",
    "        combination = tuple(active_columns)\n",
    "        sorted_combination = tuple(sorted(active_columns))\n",
    "        \n",
    "        # Hem orijinal sırayla hem de sıralı şekilde kontrol eder\n",
    "        if combination in six_column_labels:\n",
    "            return six_column_labels[combination]\n",
    "        elif sorted_combination in six_column_labels:\n",
    "            return six_column_labels[sorted_combination]\n",
    "        else:\n",
    "            return -1\n",
    "    \n",
    "    elif len(active_columns) == 7:\n",
    "        combination = tuple(active_columns)\n",
    "        sorted_combination = tuple(sorted(active_columns))\n",
    "        \n",
    "        # Hem orijinal sırayla hem de sıralı şekilde kontrol eder\n",
    "        if combination in seven_column_labels:\n",
    "            return seven_column_labels[combination]\n",
    "        elif sorted_combination in seven_column_labels:\n",
    "            return seven_column_labels[sorted_combination]\n",
    "        else:\n",
    "            return -1\n",
    "    \n",
    "    # Diğer durumlarda -1 döner\n",
    "    return -1\n",
    "# Sütunlar\n",
    "columns = ['bilet', 'musteri_hizmetleri', 'odeme', 'uygulama', 'passolig', 'passolig kart', 'diger']\n",
    "\n",
    "# DataFrame'e 'label' sütunu ekleyin\n",
    "df['label'] = df.apply(classify, axis=1)\n",
    "\n",
    "df\n"
   ]
  },
  {
   "cell_type": "code",
   "execution_count": 82,
   "metadata": {},
   "outputs": [
    {
     "name": "stdout",
     "output_type": "stream",
     "text": [
      "    label  count\n",
      "0      23    238\n",
      "1       1    228\n",
      "2       4    208\n",
      "3      60    200\n",
      "4       8    179\n",
      "..    ...    ...\n",
      "78     47      1\n",
      "79     67      1\n",
      "80     75      1\n",
      "81     91      1\n",
      "82    124      1\n",
      "\n",
      "[83 rows x 2 columns]\n"
     ]
    }
   ],
   "source": [
    "label_counts = df['label'].value_counts().reset_index()\n",
    "label_counts.columns = ['label', 'count']\n",
    "\n",
    "# Tabloyu yazdır\n",
    "print(label_counts)"
   ]
  },
  {
   "cell_type": "markdown",
   "metadata": {},
   "source": [
    "## Data Visualization\n",
    "\n",
    "In this part the data would be visualize with whole side! "
   ]
  },
  {
   "cell_type": "code",
   "execution_count": 83,
   "metadata": {},
   "outputs": [
    {
     "data": {
      "application/vnd.plotly.v1+json": {
       "config": {
        "plotlyServerURL": "https://plot.ly"
       },
       "data": [
        {
         "alignmentgroup": "True",
         "hovertemplate": "Entity=%{x}<br>Count=%{marker.color}<extra></extra>",
         "legendgroup": "",
         "marker": {
          "color": [
           1829,
           1232,
           804
          ],
          "coloraxis": "coloraxis",
          "pattern": {
           "shape": ""
          }
         },
         "name": "",
         "offsetgroup": "",
         "orientation": "v",
         "showlegend": false,
         "text": [
          1829,
          1232,
          804
         ],
         "textposition": "outside",
         "texttemplate": "%{text:.2s}",
         "type": "bar",
         "x": [
          "passo",
          "passolig",
          "passolig kart"
         ],
         "xaxis": "x",
         "y": [
          1829,
          1232,
          804
         ],
         "yaxis": "y"
        }
       ],
       "layout": {
        "barmode": "relative",
        "coloraxis": {
         "colorbar": {
          "title": {
           "text": "Count"
          }
         },
         "colorscale": [
          [
           0,
           "#440154"
          ],
          [
           0.1111111111111111,
           "#482878"
          ],
          [
           0.2222222222222222,
           "#3e4989"
          ],
          [
           0.3333333333333333,
           "#31688e"
          ],
          [
           0.4444444444444444,
           "#26828e"
          ],
          [
           0.5555555555555556,
           "#1f9e89"
          ],
          [
           0.6666666666666666,
           "#35b779"
          ],
          [
           0.7777777777777778,
           "#6ece58"
          ],
          [
           0.8888888888888888,
           "#b5de2b"
          ],
          [
           1,
           "#fde725"
          ]
         ]
        },
        "height": 600,
        "legend": {
         "tracegroupgap": 0
        },
        "template": {
         "data": {
          "bar": [
           {
            "error_x": {
             "color": "#2a3f5f"
            },
            "error_y": {
             "color": "#2a3f5f"
            },
            "marker": {
             "line": {
              "color": "white",
              "width": 0.5
             },
             "pattern": {
              "fillmode": "overlay",
              "size": 10,
              "solidity": 0.2
             }
            },
            "type": "bar"
           }
          ],
          "barpolar": [
           {
            "marker": {
             "line": {
              "color": "white",
              "width": 0.5
             },
             "pattern": {
              "fillmode": "overlay",
              "size": 10,
              "solidity": 0.2
             }
            },
            "type": "barpolar"
           }
          ],
          "carpet": [
           {
            "aaxis": {
             "endlinecolor": "#2a3f5f",
             "gridcolor": "#C8D4E3",
             "linecolor": "#C8D4E3",
             "minorgridcolor": "#C8D4E3",
             "startlinecolor": "#2a3f5f"
            },
            "baxis": {
             "endlinecolor": "#2a3f5f",
             "gridcolor": "#C8D4E3",
             "linecolor": "#C8D4E3",
             "minorgridcolor": "#C8D4E3",
             "startlinecolor": "#2a3f5f"
            },
            "type": "carpet"
           }
          ],
          "choropleth": [
           {
            "colorbar": {
             "outlinewidth": 0,
             "ticks": ""
            },
            "type": "choropleth"
           }
          ],
          "contour": [
           {
            "colorbar": {
             "outlinewidth": 0,
             "ticks": ""
            },
            "colorscale": [
             [
              0,
              "#0d0887"
             ],
             [
              0.1111111111111111,
              "#46039f"
             ],
             [
              0.2222222222222222,
              "#7201a8"
             ],
             [
              0.3333333333333333,
              "#9c179e"
             ],
             [
              0.4444444444444444,
              "#bd3786"
             ],
             [
              0.5555555555555556,
              "#d8576b"
             ],
             [
              0.6666666666666666,
              "#ed7953"
             ],
             [
              0.7777777777777778,
              "#fb9f3a"
             ],
             [
              0.8888888888888888,
              "#fdca26"
             ],
             [
              1,
              "#f0f921"
             ]
            ],
            "type": "contour"
           }
          ],
          "contourcarpet": [
           {
            "colorbar": {
             "outlinewidth": 0,
             "ticks": ""
            },
            "type": "contourcarpet"
           }
          ],
          "heatmap": [
           {
            "colorbar": {
             "outlinewidth": 0,
             "ticks": ""
            },
            "colorscale": [
             [
              0,
              "#0d0887"
             ],
             [
              0.1111111111111111,
              "#46039f"
             ],
             [
              0.2222222222222222,
              "#7201a8"
             ],
             [
              0.3333333333333333,
              "#9c179e"
             ],
             [
              0.4444444444444444,
              "#bd3786"
             ],
             [
              0.5555555555555556,
              "#d8576b"
             ],
             [
              0.6666666666666666,
              "#ed7953"
             ],
             [
              0.7777777777777778,
              "#fb9f3a"
             ],
             [
              0.8888888888888888,
              "#fdca26"
             ],
             [
              1,
              "#f0f921"
             ]
            ],
            "type": "heatmap"
           }
          ],
          "heatmapgl": [
           {
            "colorbar": {
             "outlinewidth": 0,
             "ticks": ""
            },
            "colorscale": [
             [
              0,
              "#0d0887"
             ],
             [
              0.1111111111111111,
              "#46039f"
             ],
             [
              0.2222222222222222,
              "#7201a8"
             ],
             [
              0.3333333333333333,
              "#9c179e"
             ],
             [
              0.4444444444444444,
              "#bd3786"
             ],
             [
              0.5555555555555556,
              "#d8576b"
             ],
             [
              0.6666666666666666,
              "#ed7953"
             ],
             [
              0.7777777777777778,
              "#fb9f3a"
             ],
             [
              0.8888888888888888,
              "#fdca26"
             ],
             [
              1,
              "#f0f921"
             ]
            ],
            "type": "heatmapgl"
           }
          ],
          "histogram": [
           {
            "marker": {
             "pattern": {
              "fillmode": "overlay",
              "size": 10,
              "solidity": 0.2
             }
            },
            "type": "histogram"
           }
          ],
          "histogram2d": [
           {
            "colorbar": {
             "outlinewidth": 0,
             "ticks": ""
            },
            "colorscale": [
             [
              0,
              "#0d0887"
             ],
             [
              0.1111111111111111,
              "#46039f"
             ],
             [
              0.2222222222222222,
              "#7201a8"
             ],
             [
              0.3333333333333333,
              "#9c179e"
             ],
             [
              0.4444444444444444,
              "#bd3786"
             ],
             [
              0.5555555555555556,
              "#d8576b"
             ],
             [
              0.6666666666666666,
              "#ed7953"
             ],
             [
              0.7777777777777778,
              "#fb9f3a"
             ],
             [
              0.8888888888888888,
              "#fdca26"
             ],
             [
              1,
              "#f0f921"
             ]
            ],
            "type": "histogram2d"
           }
          ],
          "histogram2dcontour": [
           {
            "colorbar": {
             "outlinewidth": 0,
             "ticks": ""
            },
            "colorscale": [
             [
              0,
              "#0d0887"
             ],
             [
              0.1111111111111111,
              "#46039f"
             ],
             [
              0.2222222222222222,
              "#7201a8"
             ],
             [
              0.3333333333333333,
              "#9c179e"
             ],
             [
              0.4444444444444444,
              "#bd3786"
             ],
             [
              0.5555555555555556,
              "#d8576b"
             ],
             [
              0.6666666666666666,
              "#ed7953"
             ],
             [
              0.7777777777777778,
              "#fb9f3a"
             ],
             [
              0.8888888888888888,
              "#fdca26"
             ],
             [
              1,
              "#f0f921"
             ]
            ],
            "type": "histogram2dcontour"
           }
          ],
          "mesh3d": [
           {
            "colorbar": {
             "outlinewidth": 0,
             "ticks": ""
            },
            "type": "mesh3d"
           }
          ],
          "parcoords": [
           {
            "line": {
             "colorbar": {
              "outlinewidth": 0,
              "ticks": ""
             }
            },
            "type": "parcoords"
           }
          ],
          "pie": [
           {
            "automargin": true,
            "type": "pie"
           }
          ],
          "scatter": [
           {
            "fillpattern": {
             "fillmode": "overlay",
             "size": 10,
             "solidity": 0.2
            },
            "type": "scatter"
           }
          ],
          "scatter3d": [
           {
            "line": {
             "colorbar": {
              "outlinewidth": 0,
              "ticks": ""
             }
            },
            "marker": {
             "colorbar": {
              "outlinewidth": 0,
              "ticks": ""
             }
            },
            "type": "scatter3d"
           }
          ],
          "scattercarpet": [
           {
            "marker": {
             "colorbar": {
              "outlinewidth": 0,
              "ticks": ""
             }
            },
            "type": "scattercarpet"
           }
          ],
          "scattergeo": [
           {
            "marker": {
             "colorbar": {
              "outlinewidth": 0,
              "ticks": ""
             }
            },
            "type": "scattergeo"
           }
          ],
          "scattergl": [
           {
            "marker": {
             "colorbar": {
              "outlinewidth": 0,
              "ticks": ""
             }
            },
            "type": "scattergl"
           }
          ],
          "scattermapbox": [
           {
            "marker": {
             "colorbar": {
              "outlinewidth": 0,
              "ticks": ""
             }
            },
            "type": "scattermapbox"
           }
          ],
          "scatterpolar": [
           {
            "marker": {
             "colorbar": {
              "outlinewidth": 0,
              "ticks": ""
             }
            },
            "type": "scatterpolar"
           }
          ],
          "scatterpolargl": [
           {
            "marker": {
             "colorbar": {
              "outlinewidth": 0,
              "ticks": ""
             }
            },
            "type": "scatterpolargl"
           }
          ],
          "scatterternary": [
           {
            "marker": {
             "colorbar": {
              "outlinewidth": 0,
              "ticks": ""
             }
            },
            "type": "scatterternary"
           }
          ],
          "surface": [
           {
            "colorbar": {
             "outlinewidth": 0,
             "ticks": ""
            },
            "colorscale": [
             [
              0,
              "#0d0887"
             ],
             [
              0.1111111111111111,
              "#46039f"
             ],
             [
              0.2222222222222222,
              "#7201a8"
             ],
             [
              0.3333333333333333,
              "#9c179e"
             ],
             [
              0.4444444444444444,
              "#bd3786"
             ],
             [
              0.5555555555555556,
              "#d8576b"
             ],
             [
              0.6666666666666666,
              "#ed7953"
             ],
             [
              0.7777777777777778,
              "#fb9f3a"
             ],
             [
              0.8888888888888888,
              "#fdca26"
             ],
             [
              1,
              "#f0f921"
             ]
            ],
            "type": "surface"
           }
          ],
          "table": [
           {
            "cells": {
             "fill": {
              "color": "#EBF0F8"
             },
             "line": {
              "color": "white"
             }
            },
            "header": {
             "fill": {
              "color": "#C8D4E3"
             },
             "line": {
              "color": "white"
             }
            },
            "type": "table"
           }
          ]
         },
         "layout": {
          "annotationdefaults": {
           "arrowcolor": "#2a3f5f",
           "arrowhead": 0,
           "arrowwidth": 1
          },
          "autotypenumbers": "strict",
          "coloraxis": {
           "colorbar": {
            "outlinewidth": 0,
            "ticks": ""
           }
          },
          "colorscale": {
           "diverging": [
            [
             0,
             "#8e0152"
            ],
            [
             0.1,
             "#c51b7d"
            ],
            [
             0.2,
             "#de77ae"
            ],
            [
             0.3,
             "#f1b6da"
            ],
            [
             0.4,
             "#fde0ef"
            ],
            [
             0.5,
             "#f7f7f7"
            ],
            [
             0.6,
             "#e6f5d0"
            ],
            [
             0.7,
             "#b8e186"
            ],
            [
             0.8,
             "#7fbc41"
            ],
            [
             0.9,
             "#4d9221"
            ],
            [
             1,
             "#276419"
            ]
           ],
           "sequential": [
            [
             0,
             "#0d0887"
            ],
            [
             0.1111111111111111,
             "#46039f"
            ],
            [
             0.2222222222222222,
             "#7201a8"
            ],
            [
             0.3333333333333333,
             "#9c179e"
            ],
            [
             0.4444444444444444,
             "#bd3786"
            ],
            [
             0.5555555555555556,
             "#d8576b"
            ],
            [
             0.6666666666666666,
             "#ed7953"
            ],
            [
             0.7777777777777778,
             "#fb9f3a"
            ],
            [
             0.8888888888888888,
             "#fdca26"
            ],
            [
             1,
             "#f0f921"
            ]
           ],
           "sequentialminus": [
            [
             0,
             "#0d0887"
            ],
            [
             0.1111111111111111,
             "#46039f"
            ],
            [
             0.2222222222222222,
             "#7201a8"
            ],
            [
             0.3333333333333333,
             "#9c179e"
            ],
            [
             0.4444444444444444,
             "#bd3786"
            ],
            [
             0.5555555555555556,
             "#d8576b"
            ],
            [
             0.6666666666666666,
             "#ed7953"
            ],
            [
             0.7777777777777778,
             "#fb9f3a"
            ],
            [
             0.8888888888888888,
             "#fdca26"
            ],
            [
             1,
             "#f0f921"
            ]
           ]
          },
          "colorway": [
           "#636efa",
           "#EF553B",
           "#00cc96",
           "#ab63fa",
           "#FFA15A",
           "#19d3f3",
           "#FF6692",
           "#B6E880",
           "#FF97FF",
           "#FECB52"
          ],
          "font": {
           "color": "#2a3f5f"
          },
          "geo": {
           "bgcolor": "white",
           "lakecolor": "white",
           "landcolor": "white",
           "showlakes": true,
           "showland": true,
           "subunitcolor": "#C8D4E3"
          },
          "hoverlabel": {
           "align": "left"
          },
          "hovermode": "closest",
          "mapbox": {
           "style": "light"
          },
          "paper_bgcolor": "white",
          "plot_bgcolor": "white",
          "polar": {
           "angularaxis": {
            "gridcolor": "#EBF0F8",
            "linecolor": "#EBF0F8",
            "ticks": ""
           },
           "bgcolor": "white",
           "radialaxis": {
            "gridcolor": "#EBF0F8",
            "linecolor": "#EBF0F8",
            "ticks": ""
           }
          },
          "scene": {
           "xaxis": {
            "backgroundcolor": "white",
            "gridcolor": "#DFE8F3",
            "gridwidth": 2,
            "linecolor": "#EBF0F8",
            "showbackground": true,
            "ticks": "",
            "zerolinecolor": "#EBF0F8"
           },
           "yaxis": {
            "backgroundcolor": "white",
            "gridcolor": "#DFE8F3",
            "gridwidth": 2,
            "linecolor": "#EBF0F8",
            "showbackground": true,
            "ticks": "",
            "zerolinecolor": "#EBF0F8"
           },
           "zaxis": {
            "backgroundcolor": "white",
            "gridcolor": "#DFE8F3",
            "gridwidth": 2,
            "linecolor": "#EBF0F8",
            "showbackground": true,
            "ticks": "",
            "zerolinecolor": "#EBF0F8"
           }
          },
          "shapedefaults": {
           "line": {
            "color": "#2a3f5f"
           }
          },
          "ternary": {
           "aaxis": {
            "gridcolor": "#DFE8F3",
            "linecolor": "#A2B1C6",
            "ticks": ""
           },
           "baxis": {
            "gridcolor": "#DFE8F3",
            "linecolor": "#A2B1C6",
            "ticks": ""
           },
           "bgcolor": "white",
           "caxis": {
            "gridcolor": "#DFE8F3",
            "linecolor": "#A2B1C6",
            "ticks": ""
           }
          },
          "title": {
           "x": 0.05
          },
          "xaxis": {
           "automargin": true,
           "gridcolor": "#EBF0F8",
           "linecolor": "#EBF0F8",
           "ticks": "",
           "title": {
            "standoff": 15
           },
           "zerolinecolor": "#EBF0F8",
           "zerolinewidth": 2
          },
          "yaxis": {
           "automargin": true,
           "gridcolor": "#EBF0F8",
           "linecolor": "#EBF0F8",
           "ticks": "",
           "title": {
            "standoff": 15
           },
           "zerolinecolor": "#EBF0F8",
           "zerolinewidth": 2
          }
         }
        },
        "title": {
         "text": "Most Frequent Entities"
        },
        "width": 1064,
        "xaxis": {
         "anchor": "y",
         "domain": [
          0,
          1
         ],
         "tickangle": 45,
         "title": {
          "text": "Entity"
         }
        },
        "yaxis": {
         "anchor": "x",
         "automargin": true,
         "domain": [
          0,
          1
         ],
         "title": {
          "text": "Count"
         }
        }
       }
      }
     },
     "metadata": {},
     "output_type": "display_data"
    }
   ],
   "source": [
    "entity_counts = pd.Series(all_entities).value_counts()\n",
    "top_entities_df = entity_counts.reset_index()\n",
    "top_entities_df.columns = ['entity', 'count']\n",
    "\n",
    "# Bar grafiği oluşturma\n",
    "fig = px.bar(\n",
    "    top_entities_df,\n",
    "    x='entity',\n",
    "    y='count',\n",
    "    title='Most Frequent Entities',\n",
    "    labels={'entity': 'Entity', 'count': 'Count'},\n",
    "    color='count',  # Renkleri count'a göre ayarla\n",
    "    color_continuous_scale='Viridis',  # Renk paleti\n",
    "    text='count',  # Barların üzerine değerleri yazdır\n",
    "    template='plotly_white',  # Grafiğin arka planı\n",
    "    width=1064,  # Grafik genişliği\n",
    "    height=600   # Grafik yüksekliği\n",
    ")\n",
    "\n",
    "# Barların üzerindeki metinleri hizala\n",
    "fig.update_traces(texttemplate='%{text:.2s}', textposition='outside')\n",
    "\n",
    "# X eksenindeki etiketleri döndür ve Y eksenini otomatik ayarla\n",
    "fig.update_xaxes(tickangle=45)\n",
    "fig.update_yaxes(automargin=True)\n",
    "\n",
    "# Grafiği göster\n",
    "fig.show()\n"
   ]
  },
  {
   "cell_type": "code",
   "execution_count": 84,
   "metadata": {},
   "outputs": [
    {
     "data": {
      "application/vnd.plotly.v1+json": {
       "config": {
        "plotlyServerURL": "https://plot.ly"
       },
       "data": [
        {
         "alignmentgroup": "True",
         "hovertemplate": "sentiment=%{x}<br>count=%{y}<extra></extra>",
         "legendgroup": "olumsuz",
         "marker": {
          "color": "red",
          "pattern": {
           "shape": ""
          }
         },
         "name": "olumsuz",
         "offsetgroup": "olumsuz",
         "orientation": "v",
         "showlegend": true,
         "textposition": "auto",
         "type": "bar",
         "x": [
          "olumsuz"
         ],
         "xaxis": "x",
         "y": [
          2610
         ],
         "yaxis": "y"
        },
        {
         "alignmentgroup": "True",
         "hovertemplate": "sentiment=%{x}<br>count=%{y}<extra></extra>",
         "legendgroup": "notr",
         "marker": {
          "color": "gray",
          "pattern": {
           "shape": ""
          }
         },
         "name": "notr",
         "offsetgroup": "notr",
         "orientation": "v",
         "showlegend": true,
         "textposition": "auto",
         "type": "bar",
         "x": [
          "notr"
         ],
         "xaxis": "x",
         "y": [
          446
         ],
         "yaxis": "y"
        },
        {
         "alignmentgroup": "True",
         "hovertemplate": "sentiment=%{x}<br>count=%{y}<extra></extra>",
         "legendgroup": "olumlu",
         "marker": {
          "color": "green",
          "pattern": {
           "shape": ""
          }
         },
         "name": "olumlu",
         "offsetgroup": "olumlu",
         "orientation": "v",
         "showlegend": true,
         "textposition": "auto",
         "type": "bar",
         "x": [
          "olumlu"
         ],
         "xaxis": "x",
         "y": [
          128
         ],
         "yaxis": "y"
        }
       ],
       "layout": {
        "barmode": "relative",
        "legend": {
         "title": {
          "text": "sentiment"
         },
         "tracegroupgap": 0
        },
        "template": {
         "data": {
          "bar": [
           {
            "error_x": {
             "color": "#2a3f5f"
            },
            "error_y": {
             "color": "#2a3f5f"
            },
            "marker": {
             "line": {
              "color": "#E5ECF6",
              "width": 0.5
             },
             "pattern": {
              "fillmode": "overlay",
              "size": 10,
              "solidity": 0.2
             }
            },
            "type": "bar"
           }
          ],
          "barpolar": [
           {
            "marker": {
             "line": {
              "color": "#E5ECF6",
              "width": 0.5
             },
             "pattern": {
              "fillmode": "overlay",
              "size": 10,
              "solidity": 0.2
             }
            },
            "type": "barpolar"
           }
          ],
          "carpet": [
           {
            "aaxis": {
             "endlinecolor": "#2a3f5f",
             "gridcolor": "white",
             "linecolor": "white",
             "minorgridcolor": "white",
             "startlinecolor": "#2a3f5f"
            },
            "baxis": {
             "endlinecolor": "#2a3f5f",
             "gridcolor": "white",
             "linecolor": "white",
             "minorgridcolor": "white",
             "startlinecolor": "#2a3f5f"
            },
            "type": "carpet"
           }
          ],
          "choropleth": [
           {
            "colorbar": {
             "outlinewidth": 0,
             "ticks": ""
            },
            "type": "choropleth"
           }
          ],
          "contour": [
           {
            "colorbar": {
             "outlinewidth": 0,
             "ticks": ""
            },
            "colorscale": [
             [
              0,
              "#0d0887"
             ],
             [
              0.1111111111111111,
              "#46039f"
             ],
             [
              0.2222222222222222,
              "#7201a8"
             ],
             [
              0.3333333333333333,
              "#9c179e"
             ],
             [
              0.4444444444444444,
              "#bd3786"
             ],
             [
              0.5555555555555556,
              "#d8576b"
             ],
             [
              0.6666666666666666,
              "#ed7953"
             ],
             [
              0.7777777777777778,
              "#fb9f3a"
             ],
             [
              0.8888888888888888,
              "#fdca26"
             ],
             [
              1,
              "#f0f921"
             ]
            ],
            "type": "contour"
           }
          ],
          "contourcarpet": [
           {
            "colorbar": {
             "outlinewidth": 0,
             "ticks": ""
            },
            "type": "contourcarpet"
           }
          ],
          "heatmap": [
           {
            "colorbar": {
             "outlinewidth": 0,
             "ticks": ""
            },
            "colorscale": [
             [
              0,
              "#0d0887"
             ],
             [
              0.1111111111111111,
              "#46039f"
             ],
             [
              0.2222222222222222,
              "#7201a8"
             ],
             [
              0.3333333333333333,
              "#9c179e"
             ],
             [
              0.4444444444444444,
              "#bd3786"
             ],
             [
              0.5555555555555556,
              "#d8576b"
             ],
             [
              0.6666666666666666,
              "#ed7953"
             ],
             [
              0.7777777777777778,
              "#fb9f3a"
             ],
             [
              0.8888888888888888,
              "#fdca26"
             ],
             [
              1,
              "#f0f921"
             ]
            ],
            "type": "heatmap"
           }
          ],
          "heatmapgl": [
           {
            "colorbar": {
             "outlinewidth": 0,
             "ticks": ""
            },
            "colorscale": [
             [
              0,
              "#0d0887"
             ],
             [
              0.1111111111111111,
              "#46039f"
             ],
             [
              0.2222222222222222,
              "#7201a8"
             ],
             [
              0.3333333333333333,
              "#9c179e"
             ],
             [
              0.4444444444444444,
              "#bd3786"
             ],
             [
              0.5555555555555556,
              "#d8576b"
             ],
             [
              0.6666666666666666,
              "#ed7953"
             ],
             [
              0.7777777777777778,
              "#fb9f3a"
             ],
             [
              0.8888888888888888,
              "#fdca26"
             ],
             [
              1,
              "#f0f921"
             ]
            ],
            "type": "heatmapgl"
           }
          ],
          "histogram": [
           {
            "marker": {
             "pattern": {
              "fillmode": "overlay",
              "size": 10,
              "solidity": 0.2
             }
            },
            "type": "histogram"
           }
          ],
          "histogram2d": [
           {
            "colorbar": {
             "outlinewidth": 0,
             "ticks": ""
            },
            "colorscale": [
             [
              0,
              "#0d0887"
             ],
             [
              0.1111111111111111,
              "#46039f"
             ],
             [
              0.2222222222222222,
              "#7201a8"
             ],
             [
              0.3333333333333333,
              "#9c179e"
             ],
             [
              0.4444444444444444,
              "#bd3786"
             ],
             [
              0.5555555555555556,
              "#d8576b"
             ],
             [
              0.6666666666666666,
              "#ed7953"
             ],
             [
              0.7777777777777778,
              "#fb9f3a"
             ],
             [
              0.8888888888888888,
              "#fdca26"
             ],
             [
              1,
              "#f0f921"
             ]
            ],
            "type": "histogram2d"
           }
          ],
          "histogram2dcontour": [
           {
            "colorbar": {
             "outlinewidth": 0,
             "ticks": ""
            },
            "colorscale": [
             [
              0,
              "#0d0887"
             ],
             [
              0.1111111111111111,
              "#46039f"
             ],
             [
              0.2222222222222222,
              "#7201a8"
             ],
             [
              0.3333333333333333,
              "#9c179e"
             ],
             [
              0.4444444444444444,
              "#bd3786"
             ],
             [
              0.5555555555555556,
              "#d8576b"
             ],
             [
              0.6666666666666666,
              "#ed7953"
             ],
             [
              0.7777777777777778,
              "#fb9f3a"
             ],
             [
              0.8888888888888888,
              "#fdca26"
             ],
             [
              1,
              "#f0f921"
             ]
            ],
            "type": "histogram2dcontour"
           }
          ],
          "mesh3d": [
           {
            "colorbar": {
             "outlinewidth": 0,
             "ticks": ""
            },
            "type": "mesh3d"
           }
          ],
          "parcoords": [
           {
            "line": {
             "colorbar": {
              "outlinewidth": 0,
              "ticks": ""
             }
            },
            "type": "parcoords"
           }
          ],
          "pie": [
           {
            "automargin": true,
            "type": "pie"
           }
          ],
          "scatter": [
           {
            "fillpattern": {
             "fillmode": "overlay",
             "size": 10,
             "solidity": 0.2
            },
            "type": "scatter"
           }
          ],
          "scatter3d": [
           {
            "line": {
             "colorbar": {
              "outlinewidth": 0,
              "ticks": ""
             }
            },
            "marker": {
             "colorbar": {
              "outlinewidth": 0,
              "ticks": ""
             }
            },
            "type": "scatter3d"
           }
          ],
          "scattercarpet": [
           {
            "marker": {
             "colorbar": {
              "outlinewidth": 0,
              "ticks": ""
             }
            },
            "type": "scattercarpet"
           }
          ],
          "scattergeo": [
           {
            "marker": {
             "colorbar": {
              "outlinewidth": 0,
              "ticks": ""
             }
            },
            "type": "scattergeo"
           }
          ],
          "scattergl": [
           {
            "marker": {
             "colorbar": {
              "outlinewidth": 0,
              "ticks": ""
             }
            },
            "type": "scattergl"
           }
          ],
          "scattermapbox": [
           {
            "marker": {
             "colorbar": {
              "outlinewidth": 0,
              "ticks": ""
             }
            },
            "type": "scattermapbox"
           }
          ],
          "scatterpolar": [
           {
            "marker": {
             "colorbar": {
              "outlinewidth": 0,
              "ticks": ""
             }
            },
            "type": "scatterpolar"
           }
          ],
          "scatterpolargl": [
           {
            "marker": {
             "colorbar": {
              "outlinewidth": 0,
              "ticks": ""
             }
            },
            "type": "scatterpolargl"
           }
          ],
          "scatterternary": [
           {
            "marker": {
             "colorbar": {
              "outlinewidth": 0,
              "ticks": ""
             }
            },
            "type": "scatterternary"
           }
          ],
          "surface": [
           {
            "colorbar": {
             "outlinewidth": 0,
             "ticks": ""
            },
            "colorscale": [
             [
              0,
              "#0d0887"
             ],
             [
              0.1111111111111111,
              "#46039f"
             ],
             [
              0.2222222222222222,
              "#7201a8"
             ],
             [
              0.3333333333333333,
              "#9c179e"
             ],
             [
              0.4444444444444444,
              "#bd3786"
             ],
             [
              0.5555555555555556,
              "#d8576b"
             ],
             [
              0.6666666666666666,
              "#ed7953"
             ],
             [
              0.7777777777777778,
              "#fb9f3a"
             ],
             [
              0.8888888888888888,
              "#fdca26"
             ],
             [
              1,
              "#f0f921"
             ]
            ],
            "type": "surface"
           }
          ],
          "table": [
           {
            "cells": {
             "fill": {
              "color": "#EBF0F8"
             },
             "line": {
              "color": "white"
             }
            },
            "header": {
             "fill": {
              "color": "#C8D4E3"
             },
             "line": {
              "color": "white"
             }
            },
            "type": "table"
           }
          ]
         },
         "layout": {
          "annotationdefaults": {
           "arrowcolor": "#2a3f5f",
           "arrowhead": 0,
           "arrowwidth": 1
          },
          "autotypenumbers": "strict",
          "coloraxis": {
           "colorbar": {
            "outlinewidth": 0,
            "ticks": ""
           }
          },
          "colorscale": {
           "diverging": [
            [
             0,
             "#8e0152"
            ],
            [
             0.1,
             "#c51b7d"
            ],
            [
             0.2,
             "#de77ae"
            ],
            [
             0.3,
             "#f1b6da"
            ],
            [
             0.4,
             "#fde0ef"
            ],
            [
             0.5,
             "#f7f7f7"
            ],
            [
             0.6,
             "#e6f5d0"
            ],
            [
             0.7,
             "#b8e186"
            ],
            [
             0.8,
             "#7fbc41"
            ],
            [
             0.9,
             "#4d9221"
            ],
            [
             1,
             "#276419"
            ]
           ],
           "sequential": [
            [
             0,
             "#0d0887"
            ],
            [
             0.1111111111111111,
             "#46039f"
            ],
            [
             0.2222222222222222,
             "#7201a8"
            ],
            [
             0.3333333333333333,
             "#9c179e"
            ],
            [
             0.4444444444444444,
             "#bd3786"
            ],
            [
             0.5555555555555556,
             "#d8576b"
            ],
            [
             0.6666666666666666,
             "#ed7953"
            ],
            [
             0.7777777777777778,
             "#fb9f3a"
            ],
            [
             0.8888888888888888,
             "#fdca26"
            ],
            [
             1,
             "#f0f921"
            ]
           ],
           "sequentialminus": [
            [
             0,
             "#0d0887"
            ],
            [
             0.1111111111111111,
             "#46039f"
            ],
            [
             0.2222222222222222,
             "#7201a8"
            ],
            [
             0.3333333333333333,
             "#9c179e"
            ],
            [
             0.4444444444444444,
             "#bd3786"
            ],
            [
             0.5555555555555556,
             "#d8576b"
            ],
            [
             0.6666666666666666,
             "#ed7953"
            ],
            [
             0.7777777777777778,
             "#fb9f3a"
            ],
            [
             0.8888888888888888,
             "#fdca26"
            ],
            [
             1,
             "#f0f921"
            ]
           ]
          },
          "colorway": [
           "#636efa",
           "#EF553B",
           "#00cc96",
           "#ab63fa",
           "#FFA15A",
           "#19d3f3",
           "#FF6692",
           "#B6E880",
           "#FF97FF",
           "#FECB52"
          ],
          "font": {
           "color": "#2a3f5f"
          },
          "geo": {
           "bgcolor": "white",
           "lakecolor": "white",
           "landcolor": "#E5ECF6",
           "showlakes": true,
           "showland": true,
           "subunitcolor": "white"
          },
          "hoverlabel": {
           "align": "left"
          },
          "hovermode": "closest",
          "mapbox": {
           "style": "light"
          },
          "paper_bgcolor": "white",
          "plot_bgcolor": "#E5ECF6",
          "polar": {
           "angularaxis": {
            "gridcolor": "white",
            "linecolor": "white",
            "ticks": ""
           },
           "bgcolor": "#E5ECF6",
           "radialaxis": {
            "gridcolor": "white",
            "linecolor": "white",
            "ticks": ""
           }
          },
          "scene": {
           "xaxis": {
            "backgroundcolor": "#E5ECF6",
            "gridcolor": "white",
            "gridwidth": 2,
            "linecolor": "white",
            "showbackground": true,
            "ticks": "",
            "zerolinecolor": "white"
           },
           "yaxis": {
            "backgroundcolor": "#E5ECF6",
            "gridcolor": "white",
            "gridwidth": 2,
            "linecolor": "white",
            "showbackground": true,
            "ticks": "",
            "zerolinecolor": "white"
           },
           "zaxis": {
            "backgroundcolor": "#E5ECF6",
            "gridcolor": "white",
            "gridwidth": 2,
            "linecolor": "white",
            "showbackground": true,
            "ticks": "",
            "zerolinecolor": "white"
           }
          },
          "shapedefaults": {
           "line": {
            "color": "#2a3f5f"
           }
          },
          "ternary": {
           "aaxis": {
            "gridcolor": "white",
            "linecolor": "white",
            "ticks": ""
           },
           "baxis": {
            "gridcolor": "white",
            "linecolor": "white",
            "ticks": ""
           },
           "bgcolor": "#E5ECF6",
           "caxis": {
            "gridcolor": "white",
            "linecolor": "white",
            "ticks": ""
           }
          },
          "title": {
           "x": 0.05
          },
          "xaxis": {
           "automargin": true,
           "gridcolor": "white",
           "linecolor": "white",
           "ticks": "",
           "title": {
            "standoff": 15
           },
           "zerolinecolor": "white",
           "zerolinewidth": 2
          },
          "yaxis": {
           "automargin": true,
           "gridcolor": "white",
           "linecolor": "white",
           "ticks": "",
           "title": {
            "standoff": 15
           },
           "zerolinecolor": "white",
           "zerolinewidth": 2
          }
         }
        },
        "title": {
         "text": "Sentiment Distribution"
        },
        "xaxis": {
         "anchor": "y",
         "categoryarray": [
          "olumsuz",
          "notr",
          "olumlu"
         ],
         "categoryorder": "array",
         "domain": [
          0,
          1
         ],
         "title": {
          "text": "sentiment"
         }
        },
        "yaxis": {
         "anchor": "x",
         "domain": [
          0,
          1
         ],
         "title": {
          "text": "count"
         }
        }
       }
      }
     },
     "metadata": {},
     "output_type": "display_data"
    }
   ],
   "source": [
    "import plotly.express as px\n",
    "\n",
    "# Sentiment sütunundaki her bir değerin frekansını sayıyoruz\n",
    "sentiment_counts = df['sentiment'].value_counts().reset_index()\n",
    "\n",
    "# Sütunları yeniden adlandırıyoruz, daha anlaşılır olması için\n",
    "sentiment_counts.columns = ['sentiment', 'count']\n",
    "\n",
    "# Profesyonel bir renk paleti belirliyoruz (isteğe bağlı)\n",
    "color_map = {\n",
    "    'olumlu': 'green',\n",
    "    'olumsuz': 'red',\n",
    "    'notr': 'gray'\n",
    "}\n",
    "\n",
    "# Bar plot oluşturma\n",
    "fig = px.bar(sentiment_counts, x='sentiment', y='count', \n",
    "             color='sentiment', color_discrete_map=color_map, \n",
    "             title='Sentiment Distribution')\n",
    "\n",
    "# Grafiği göster\n",
    "fig.show()\n"
   ]
  },
  {
   "cell_type": "code",
   "execution_count": 85,
   "metadata": {},
   "outputs": [
    {
     "data": {
      "application/vnd.plotly.v1+json": {
       "config": {
        "plotlyServerURL": "https://plot.ly"
       },
       "data": [
        {
         "alignmentgroup": "True",
         "hovertemplate": "konu=%{x}<br>count=%{y}<extra></extra>",
         "legendgroup": "genel",
         "marker": {
          "color": "#636efa",
          "pattern": {
           "shape": ""
          }
         },
         "name": "genel",
         "offsetgroup": "genel",
         "orientation": "v",
         "showlegend": true,
         "textposition": "auto",
         "type": "bar",
         "x": [
          "genel"
         ],
         "xaxis": "x",
         "y": [
          597
         ],
         "yaxis": "y"
        },
        {
         "alignmentgroup": "True",
         "hovertemplate": "konu=%{x}<br>count=%{y}<extra></extra>",
         "legendgroup": "diger",
         "marker": {
          "color": "#EF553B",
          "pattern": {
           "shape": ""
          }
         },
         "name": "diger",
         "offsetgroup": "diger",
         "orientation": "v",
         "showlegend": true,
         "textposition": "auto",
         "type": "bar",
         "x": [
          "diger"
         ],
         "xaxis": "x",
         "y": [
          579
         ],
         "yaxis": "y"
        },
        {
         "alignmentgroup": "True",
         "hovertemplate": "konu=%{x}<br>count=%{y}<extra></extra>",
         "legendgroup": "uygulama",
         "marker": {
          "color": "#00cc96",
          "pattern": {
           "shape": ""
          }
         },
         "name": "uygulama",
         "offsetgroup": "uygulama",
         "orientation": "v",
         "showlegend": true,
         "textposition": "auto",
         "type": "bar",
         "x": [
          "uygulama"
         ],
         "xaxis": "x",
         "y": [
          544
         ],
         "yaxis": "y"
        },
        {
         "alignmentgroup": "True",
         "hovertemplate": "konu=%{x}<br>count=%{y}<extra></extra>",
         "legendgroup": "uyelik",
         "marker": {
          "color": "#ab63fa",
          "pattern": {
           "shape": ""
          }
         },
         "name": "uyelik",
         "offsetgroup": "uyelik",
         "orientation": "v",
         "showlegend": true,
         "textposition": "auto",
         "type": "bar",
         "x": [
          "uyelik"
         ],
         "xaxis": "x",
         "y": [
          416
         ],
         "yaxis": "y"
        },
        {
         "alignmentgroup": "True",
         "hovertemplate": "konu=%{x}<br>count=%{y}<extra></extra>",
         "legendgroup": "odeme",
         "marker": {
          "color": "#FFA15A",
          "pattern": {
           "shape": ""
          }
         },
         "name": "odeme",
         "offsetgroup": "odeme",
         "orientation": "v",
         "showlegend": true,
         "textposition": "auto",
         "type": "bar",
         "x": [
          "odeme"
         ],
         "xaxis": "x",
         "y": [
          311
         ],
         "yaxis": "y"
        },
        {
         "alignmentgroup": "True",
         "hovertemplate": "konu=%{x}<br>count=%{y}<extra></extra>",
         "legendgroup": "cagri merkezi yetkinlik",
         "marker": {
          "color": "#19d3f3",
          "pattern": {
           "shape": ""
          }
         },
         "name": "cagri merkezi yetkinlik",
         "offsetgroup": "cagri merkezi yetkinlik",
         "orientation": "v",
         "showlegend": true,
         "textposition": "auto",
         "type": "bar",
         "x": [
          "cagri merkezi yetkinlik"
         ],
         "xaxis": "x",
         "y": [
          297
         ],
         "yaxis": "y"
        },
        {
         "alignmentgroup": "True",
         "hovertemplate": "konu=%{x}<br>count=%{y}<extra></extra>",
         "legendgroup": "iade",
         "marker": {
          "color": "#FF6692",
          "pattern": {
           "shape": ""
          }
         },
         "name": "iade",
         "offsetgroup": "iade",
         "orientation": "v",
         "showlegend": true,
         "textposition": "auto",
         "type": "bar",
         "x": [
          "iade"
         ],
         "xaxis": "x",
         "y": [
          224
         ],
         "yaxis": "y"
        },
        {
         "alignmentgroup": "True",
         "hovertemplate": "konu=%{x}<br>count=%{y}<extra></extra>",
         "legendgroup": "iptal",
         "marker": {
          "color": "#B6E880",
          "pattern": {
           "shape": ""
          }
         },
         "name": "iptal",
         "offsetgroup": "iptal",
         "orientation": "v",
         "showlegend": true,
         "textposition": "auto",
         "type": "bar",
         "x": [
          "iptal"
         ],
         "xaxis": "x",
         "y": [
          159
         ],
         "yaxis": "y"
        },
        {
         "alignmentgroup": "True",
         "hovertemplate": "konu=%{x}<br>count=%{y}<extra></extra>",
         "legendgroup": "transfer",
         "marker": {
          "color": "#FF97FF",
          "pattern": {
           "shape": ""
          }
         },
         "name": "transfer",
         "offsetgroup": "transfer",
         "orientation": "v",
         "showlegend": true,
         "textposition": "auto",
         "type": "bar",
         "x": [
          "transfer"
         ],
         "xaxis": "x",
         "y": [
          45
         ],
         "yaxis": "y"
        },
        {
         "alignmentgroup": "True",
         "hovertemplate": "konu=%{x}<br>count=%{y}<extra></extra>",
         "legendgroup": "degisiklik",
         "marker": {
          "color": "#FECB52",
          "pattern": {
           "shape": ""
          }
         },
         "name": "degisiklik",
         "offsetgroup": "degisiklik",
         "orientation": "v",
         "showlegend": true,
         "textposition": "auto",
         "type": "bar",
         "x": [
          "degisiklik"
         ],
         "xaxis": "x",
         "y": [
          11
         ],
         "yaxis": "y"
        },
        {
         "alignmentgroup": "True",
         "hovertemplate": "konu=%{x}<br>count=%{y}<extra></extra>",
         "legendgroup": "fatura",
         "marker": {
          "color": "#636efa",
          "pattern": {
           "shape": ""
          }
         },
         "name": "fatura",
         "offsetgroup": "fatura",
         "orientation": "v",
         "showlegend": true,
         "textposition": "auto",
         "type": "bar",
         "x": [
          "fatura"
         ],
         "xaxis": "x",
         "y": [
          1
         ],
         "yaxis": "y"
        }
       ],
       "layout": {
        "barmode": "relative",
        "legend": {
         "title": {
          "text": "konu"
         },
         "tracegroupgap": 0
        },
        "template": {
         "data": {
          "bar": [
           {
            "error_x": {
             "color": "#2a3f5f"
            },
            "error_y": {
             "color": "#2a3f5f"
            },
            "marker": {
             "line": {
              "color": "#E5ECF6",
              "width": 0.5
             },
             "pattern": {
              "fillmode": "overlay",
              "size": 10,
              "solidity": 0.2
             }
            },
            "type": "bar"
           }
          ],
          "barpolar": [
           {
            "marker": {
             "line": {
              "color": "#E5ECF6",
              "width": 0.5
             },
             "pattern": {
              "fillmode": "overlay",
              "size": 10,
              "solidity": 0.2
             }
            },
            "type": "barpolar"
           }
          ],
          "carpet": [
           {
            "aaxis": {
             "endlinecolor": "#2a3f5f",
             "gridcolor": "white",
             "linecolor": "white",
             "minorgridcolor": "white",
             "startlinecolor": "#2a3f5f"
            },
            "baxis": {
             "endlinecolor": "#2a3f5f",
             "gridcolor": "white",
             "linecolor": "white",
             "minorgridcolor": "white",
             "startlinecolor": "#2a3f5f"
            },
            "type": "carpet"
           }
          ],
          "choropleth": [
           {
            "colorbar": {
             "outlinewidth": 0,
             "ticks": ""
            },
            "type": "choropleth"
           }
          ],
          "contour": [
           {
            "colorbar": {
             "outlinewidth": 0,
             "ticks": ""
            },
            "colorscale": [
             [
              0,
              "#0d0887"
             ],
             [
              0.1111111111111111,
              "#46039f"
             ],
             [
              0.2222222222222222,
              "#7201a8"
             ],
             [
              0.3333333333333333,
              "#9c179e"
             ],
             [
              0.4444444444444444,
              "#bd3786"
             ],
             [
              0.5555555555555556,
              "#d8576b"
             ],
             [
              0.6666666666666666,
              "#ed7953"
             ],
             [
              0.7777777777777778,
              "#fb9f3a"
             ],
             [
              0.8888888888888888,
              "#fdca26"
             ],
             [
              1,
              "#f0f921"
             ]
            ],
            "type": "contour"
           }
          ],
          "contourcarpet": [
           {
            "colorbar": {
             "outlinewidth": 0,
             "ticks": ""
            },
            "type": "contourcarpet"
           }
          ],
          "heatmap": [
           {
            "colorbar": {
             "outlinewidth": 0,
             "ticks": ""
            },
            "colorscale": [
             [
              0,
              "#0d0887"
             ],
             [
              0.1111111111111111,
              "#46039f"
             ],
             [
              0.2222222222222222,
              "#7201a8"
             ],
             [
              0.3333333333333333,
              "#9c179e"
             ],
             [
              0.4444444444444444,
              "#bd3786"
             ],
             [
              0.5555555555555556,
              "#d8576b"
             ],
             [
              0.6666666666666666,
              "#ed7953"
             ],
             [
              0.7777777777777778,
              "#fb9f3a"
             ],
             [
              0.8888888888888888,
              "#fdca26"
             ],
             [
              1,
              "#f0f921"
             ]
            ],
            "type": "heatmap"
           }
          ],
          "heatmapgl": [
           {
            "colorbar": {
             "outlinewidth": 0,
             "ticks": ""
            },
            "colorscale": [
             [
              0,
              "#0d0887"
             ],
             [
              0.1111111111111111,
              "#46039f"
             ],
             [
              0.2222222222222222,
              "#7201a8"
             ],
             [
              0.3333333333333333,
              "#9c179e"
             ],
             [
              0.4444444444444444,
              "#bd3786"
             ],
             [
              0.5555555555555556,
              "#d8576b"
             ],
             [
              0.6666666666666666,
              "#ed7953"
             ],
             [
              0.7777777777777778,
              "#fb9f3a"
             ],
             [
              0.8888888888888888,
              "#fdca26"
             ],
             [
              1,
              "#f0f921"
             ]
            ],
            "type": "heatmapgl"
           }
          ],
          "histogram": [
           {
            "marker": {
             "pattern": {
              "fillmode": "overlay",
              "size": 10,
              "solidity": 0.2
             }
            },
            "type": "histogram"
           }
          ],
          "histogram2d": [
           {
            "colorbar": {
             "outlinewidth": 0,
             "ticks": ""
            },
            "colorscale": [
             [
              0,
              "#0d0887"
             ],
             [
              0.1111111111111111,
              "#46039f"
             ],
             [
              0.2222222222222222,
              "#7201a8"
             ],
             [
              0.3333333333333333,
              "#9c179e"
             ],
             [
              0.4444444444444444,
              "#bd3786"
             ],
             [
              0.5555555555555556,
              "#d8576b"
             ],
             [
              0.6666666666666666,
              "#ed7953"
             ],
             [
              0.7777777777777778,
              "#fb9f3a"
             ],
             [
              0.8888888888888888,
              "#fdca26"
             ],
             [
              1,
              "#f0f921"
             ]
            ],
            "type": "histogram2d"
           }
          ],
          "histogram2dcontour": [
           {
            "colorbar": {
             "outlinewidth": 0,
             "ticks": ""
            },
            "colorscale": [
             [
              0,
              "#0d0887"
             ],
             [
              0.1111111111111111,
              "#46039f"
             ],
             [
              0.2222222222222222,
              "#7201a8"
             ],
             [
              0.3333333333333333,
              "#9c179e"
             ],
             [
              0.4444444444444444,
              "#bd3786"
             ],
             [
              0.5555555555555556,
              "#d8576b"
             ],
             [
              0.6666666666666666,
              "#ed7953"
             ],
             [
              0.7777777777777778,
              "#fb9f3a"
             ],
             [
              0.8888888888888888,
              "#fdca26"
             ],
             [
              1,
              "#f0f921"
             ]
            ],
            "type": "histogram2dcontour"
           }
          ],
          "mesh3d": [
           {
            "colorbar": {
             "outlinewidth": 0,
             "ticks": ""
            },
            "type": "mesh3d"
           }
          ],
          "parcoords": [
           {
            "line": {
             "colorbar": {
              "outlinewidth": 0,
              "ticks": ""
             }
            },
            "type": "parcoords"
           }
          ],
          "pie": [
           {
            "automargin": true,
            "type": "pie"
           }
          ],
          "scatter": [
           {
            "fillpattern": {
             "fillmode": "overlay",
             "size": 10,
             "solidity": 0.2
            },
            "type": "scatter"
           }
          ],
          "scatter3d": [
           {
            "line": {
             "colorbar": {
              "outlinewidth": 0,
              "ticks": ""
             }
            },
            "marker": {
             "colorbar": {
              "outlinewidth": 0,
              "ticks": ""
             }
            },
            "type": "scatter3d"
           }
          ],
          "scattercarpet": [
           {
            "marker": {
             "colorbar": {
              "outlinewidth": 0,
              "ticks": ""
             }
            },
            "type": "scattercarpet"
           }
          ],
          "scattergeo": [
           {
            "marker": {
             "colorbar": {
              "outlinewidth": 0,
              "ticks": ""
             }
            },
            "type": "scattergeo"
           }
          ],
          "scattergl": [
           {
            "marker": {
             "colorbar": {
              "outlinewidth": 0,
              "ticks": ""
             }
            },
            "type": "scattergl"
           }
          ],
          "scattermapbox": [
           {
            "marker": {
             "colorbar": {
              "outlinewidth": 0,
              "ticks": ""
             }
            },
            "type": "scattermapbox"
           }
          ],
          "scatterpolar": [
           {
            "marker": {
             "colorbar": {
              "outlinewidth": 0,
              "ticks": ""
             }
            },
            "type": "scatterpolar"
           }
          ],
          "scatterpolargl": [
           {
            "marker": {
             "colorbar": {
              "outlinewidth": 0,
              "ticks": ""
             }
            },
            "type": "scatterpolargl"
           }
          ],
          "scatterternary": [
           {
            "marker": {
             "colorbar": {
              "outlinewidth": 0,
              "ticks": ""
             }
            },
            "type": "scatterternary"
           }
          ],
          "surface": [
           {
            "colorbar": {
             "outlinewidth": 0,
             "ticks": ""
            },
            "colorscale": [
             [
              0,
              "#0d0887"
             ],
             [
              0.1111111111111111,
              "#46039f"
             ],
             [
              0.2222222222222222,
              "#7201a8"
             ],
             [
              0.3333333333333333,
              "#9c179e"
             ],
             [
              0.4444444444444444,
              "#bd3786"
             ],
             [
              0.5555555555555556,
              "#d8576b"
             ],
             [
              0.6666666666666666,
              "#ed7953"
             ],
             [
              0.7777777777777778,
              "#fb9f3a"
             ],
             [
              0.8888888888888888,
              "#fdca26"
             ],
             [
              1,
              "#f0f921"
             ]
            ],
            "type": "surface"
           }
          ],
          "table": [
           {
            "cells": {
             "fill": {
              "color": "#EBF0F8"
             },
             "line": {
              "color": "white"
             }
            },
            "header": {
             "fill": {
              "color": "#C8D4E3"
             },
             "line": {
              "color": "white"
             }
            },
            "type": "table"
           }
          ]
         },
         "layout": {
          "annotationdefaults": {
           "arrowcolor": "#2a3f5f",
           "arrowhead": 0,
           "arrowwidth": 1
          },
          "autotypenumbers": "strict",
          "coloraxis": {
           "colorbar": {
            "outlinewidth": 0,
            "ticks": ""
           }
          },
          "colorscale": {
           "diverging": [
            [
             0,
             "#8e0152"
            ],
            [
             0.1,
             "#c51b7d"
            ],
            [
             0.2,
             "#de77ae"
            ],
            [
             0.3,
             "#f1b6da"
            ],
            [
             0.4,
             "#fde0ef"
            ],
            [
             0.5,
             "#f7f7f7"
            ],
            [
             0.6,
             "#e6f5d0"
            ],
            [
             0.7,
             "#b8e186"
            ],
            [
             0.8,
             "#7fbc41"
            ],
            [
             0.9,
             "#4d9221"
            ],
            [
             1,
             "#276419"
            ]
           ],
           "sequential": [
            [
             0,
             "#0d0887"
            ],
            [
             0.1111111111111111,
             "#46039f"
            ],
            [
             0.2222222222222222,
             "#7201a8"
            ],
            [
             0.3333333333333333,
             "#9c179e"
            ],
            [
             0.4444444444444444,
             "#bd3786"
            ],
            [
             0.5555555555555556,
             "#d8576b"
            ],
            [
             0.6666666666666666,
             "#ed7953"
            ],
            [
             0.7777777777777778,
             "#fb9f3a"
            ],
            [
             0.8888888888888888,
             "#fdca26"
            ],
            [
             1,
             "#f0f921"
            ]
           ],
           "sequentialminus": [
            [
             0,
             "#0d0887"
            ],
            [
             0.1111111111111111,
             "#46039f"
            ],
            [
             0.2222222222222222,
             "#7201a8"
            ],
            [
             0.3333333333333333,
             "#9c179e"
            ],
            [
             0.4444444444444444,
             "#bd3786"
            ],
            [
             0.5555555555555556,
             "#d8576b"
            ],
            [
             0.6666666666666666,
             "#ed7953"
            ],
            [
             0.7777777777777778,
             "#fb9f3a"
            ],
            [
             0.8888888888888888,
             "#fdca26"
            ],
            [
             1,
             "#f0f921"
            ]
           ]
          },
          "colorway": [
           "#636efa",
           "#EF553B",
           "#00cc96",
           "#ab63fa",
           "#FFA15A",
           "#19d3f3",
           "#FF6692",
           "#B6E880",
           "#FF97FF",
           "#FECB52"
          ],
          "font": {
           "color": "#2a3f5f"
          },
          "geo": {
           "bgcolor": "white",
           "lakecolor": "white",
           "landcolor": "#E5ECF6",
           "showlakes": true,
           "showland": true,
           "subunitcolor": "white"
          },
          "hoverlabel": {
           "align": "left"
          },
          "hovermode": "closest",
          "mapbox": {
           "style": "light"
          },
          "paper_bgcolor": "white",
          "plot_bgcolor": "#E5ECF6",
          "polar": {
           "angularaxis": {
            "gridcolor": "white",
            "linecolor": "white",
            "ticks": ""
           },
           "bgcolor": "#E5ECF6",
           "radialaxis": {
            "gridcolor": "white",
            "linecolor": "white",
            "ticks": ""
           }
          },
          "scene": {
           "xaxis": {
            "backgroundcolor": "#E5ECF6",
            "gridcolor": "white",
            "gridwidth": 2,
            "linecolor": "white",
            "showbackground": true,
            "ticks": "",
            "zerolinecolor": "white"
           },
           "yaxis": {
            "backgroundcolor": "#E5ECF6",
            "gridcolor": "white",
            "gridwidth": 2,
            "linecolor": "white",
            "showbackground": true,
            "ticks": "",
            "zerolinecolor": "white"
           },
           "zaxis": {
            "backgroundcolor": "#E5ECF6",
            "gridcolor": "white",
            "gridwidth": 2,
            "linecolor": "white",
            "showbackground": true,
            "ticks": "",
            "zerolinecolor": "white"
           }
          },
          "shapedefaults": {
           "line": {
            "color": "#2a3f5f"
           }
          },
          "ternary": {
           "aaxis": {
            "gridcolor": "white",
            "linecolor": "white",
            "ticks": ""
           },
           "baxis": {
            "gridcolor": "white",
            "linecolor": "white",
            "ticks": ""
           },
           "bgcolor": "#E5ECF6",
           "caxis": {
            "gridcolor": "white",
            "linecolor": "white",
            "ticks": ""
           }
          },
          "title": {
           "x": 0.05
          },
          "xaxis": {
           "automargin": true,
           "gridcolor": "white",
           "linecolor": "white",
           "ticks": "",
           "title": {
            "standoff": 15
           },
           "zerolinecolor": "white",
           "zerolinewidth": 2
          },
          "yaxis": {
           "automargin": true,
           "gridcolor": "white",
           "linecolor": "white",
           "ticks": "",
           "title": {
            "standoff": 15
           },
           "zerolinecolor": "white",
           "zerolinewidth": 2
          }
         }
        },
        "title": {
         "text": "Konu Frequency Distribution"
        },
        "xaxis": {
         "anchor": "y",
         "categoryarray": [
          "genel",
          "diger",
          "uygulama",
          "uyelik",
          "odeme",
          "cagri merkezi yetkinlik",
          "iade",
          "iptal",
          "transfer",
          "degisiklik",
          "fatura"
         ],
         "categoryorder": "array",
         "domain": [
          0,
          1
         ],
         "title": {
          "text": "konu"
         }
        },
        "yaxis": {
         "anchor": "x",
         "domain": [
          0,
          1
         ],
         "title": {
          "text": "count"
         }
        }
       }
      }
     },
     "metadata": {},
     "output_type": "display_data"
    }
   ],
   "source": [
    "konu_counts = df['konu'].value_counts().reset_index()\n",
    "konu_counts.columns = ['konu', 'count']\n",
    "\n",
    "# Bar plot ile konu frekanslarını görselleştir\n",
    "fig = px.bar(konu_counts, x='konu', y='count', color='konu',\n",
    "             title='Konu Frequency Distribution')\n",
    "\n",
    "# Grafiği göster\n",
    "fig.show()"
   ]
  },
  {
   "cell_type": "code",
   "execution_count": 86,
   "metadata": {},
   "outputs": [
    {
     "data": {
      "application/vnd.plotly.v1+json": {
       "config": {
        "plotlyServerURL": "https://plot.ly"
       },
       "data": [
        {
         "alignmentgroup": "True",
         "hovertemplate": "severity=%{x}<br>count=%{y}<extra></extra>",
         "legendgroup": "2",
         "marker": {
          "color": "red",
          "pattern": {
           "shape": ""
          }
         },
         "name": "2",
         "offsetgroup": "2",
         "orientation": "v",
         "showlegend": true,
         "textposition": "auto",
         "type": "bar",
         "x": [
          "2"
         ],
         "xaxis": "x",
         "y": [
          1513
         ],
         "yaxis": "y"
        },
        {
         "alignmentgroup": "True",
         "hovertemplate": "severity=%{x}<br>count=%{y}<extra></extra>",
         "legendgroup": "1",
         "marker": {
          "color": "orange",
          "pattern": {
           "shape": ""
          }
         },
         "name": "1",
         "offsetgroup": "1",
         "orientation": "v",
         "showlegend": true,
         "textposition": "auto",
         "type": "bar",
         "x": [
          "1"
         ],
         "xaxis": "x",
         "y": [
          1059
         ],
         "yaxis": "y"
        },
        {
         "alignmentgroup": "True",
         "hovertemplate": "severity=%{x}<br>count=%{y}<extra></extra>",
         "legendgroup": "0",
         "marker": {
          "color": "gray",
          "pattern": {
           "shape": ""
          }
         },
         "name": "0",
         "offsetgroup": "0",
         "orientation": "v",
         "showlegend": true,
         "textposition": "auto",
         "type": "bar",
         "x": [
          "0"
         ],
         "xaxis": "x",
         "y": [
          612
         ],
         "yaxis": "y"
        }
       ],
       "layout": {
        "barmode": "relative",
        "legend": {
         "title": {
          "text": "severity"
         },
         "tracegroupgap": 0
        },
        "template": {
         "data": {
          "bar": [
           {
            "error_x": {
             "color": "#2a3f5f"
            },
            "error_y": {
             "color": "#2a3f5f"
            },
            "marker": {
             "line": {
              "color": "#E5ECF6",
              "width": 0.5
             },
             "pattern": {
              "fillmode": "overlay",
              "size": 10,
              "solidity": 0.2
             }
            },
            "type": "bar"
           }
          ],
          "barpolar": [
           {
            "marker": {
             "line": {
              "color": "#E5ECF6",
              "width": 0.5
             },
             "pattern": {
              "fillmode": "overlay",
              "size": 10,
              "solidity": 0.2
             }
            },
            "type": "barpolar"
           }
          ],
          "carpet": [
           {
            "aaxis": {
             "endlinecolor": "#2a3f5f",
             "gridcolor": "white",
             "linecolor": "white",
             "minorgridcolor": "white",
             "startlinecolor": "#2a3f5f"
            },
            "baxis": {
             "endlinecolor": "#2a3f5f",
             "gridcolor": "white",
             "linecolor": "white",
             "minorgridcolor": "white",
             "startlinecolor": "#2a3f5f"
            },
            "type": "carpet"
           }
          ],
          "choropleth": [
           {
            "colorbar": {
             "outlinewidth": 0,
             "ticks": ""
            },
            "type": "choropleth"
           }
          ],
          "contour": [
           {
            "colorbar": {
             "outlinewidth": 0,
             "ticks": ""
            },
            "colorscale": [
             [
              0,
              "#0d0887"
             ],
             [
              0.1111111111111111,
              "#46039f"
             ],
             [
              0.2222222222222222,
              "#7201a8"
             ],
             [
              0.3333333333333333,
              "#9c179e"
             ],
             [
              0.4444444444444444,
              "#bd3786"
             ],
             [
              0.5555555555555556,
              "#d8576b"
             ],
             [
              0.6666666666666666,
              "#ed7953"
             ],
             [
              0.7777777777777778,
              "#fb9f3a"
             ],
             [
              0.8888888888888888,
              "#fdca26"
             ],
             [
              1,
              "#f0f921"
             ]
            ],
            "type": "contour"
           }
          ],
          "contourcarpet": [
           {
            "colorbar": {
             "outlinewidth": 0,
             "ticks": ""
            },
            "type": "contourcarpet"
           }
          ],
          "heatmap": [
           {
            "colorbar": {
             "outlinewidth": 0,
             "ticks": ""
            },
            "colorscale": [
             [
              0,
              "#0d0887"
             ],
             [
              0.1111111111111111,
              "#46039f"
             ],
             [
              0.2222222222222222,
              "#7201a8"
             ],
             [
              0.3333333333333333,
              "#9c179e"
             ],
             [
              0.4444444444444444,
              "#bd3786"
             ],
             [
              0.5555555555555556,
              "#d8576b"
             ],
             [
              0.6666666666666666,
              "#ed7953"
             ],
             [
              0.7777777777777778,
              "#fb9f3a"
             ],
             [
              0.8888888888888888,
              "#fdca26"
             ],
             [
              1,
              "#f0f921"
             ]
            ],
            "type": "heatmap"
           }
          ],
          "heatmapgl": [
           {
            "colorbar": {
             "outlinewidth": 0,
             "ticks": ""
            },
            "colorscale": [
             [
              0,
              "#0d0887"
             ],
             [
              0.1111111111111111,
              "#46039f"
             ],
             [
              0.2222222222222222,
              "#7201a8"
             ],
             [
              0.3333333333333333,
              "#9c179e"
             ],
             [
              0.4444444444444444,
              "#bd3786"
             ],
             [
              0.5555555555555556,
              "#d8576b"
             ],
             [
              0.6666666666666666,
              "#ed7953"
             ],
             [
              0.7777777777777778,
              "#fb9f3a"
             ],
             [
              0.8888888888888888,
              "#fdca26"
             ],
             [
              1,
              "#f0f921"
             ]
            ],
            "type": "heatmapgl"
           }
          ],
          "histogram": [
           {
            "marker": {
             "pattern": {
              "fillmode": "overlay",
              "size": 10,
              "solidity": 0.2
             }
            },
            "type": "histogram"
           }
          ],
          "histogram2d": [
           {
            "colorbar": {
             "outlinewidth": 0,
             "ticks": ""
            },
            "colorscale": [
             [
              0,
              "#0d0887"
             ],
             [
              0.1111111111111111,
              "#46039f"
             ],
             [
              0.2222222222222222,
              "#7201a8"
             ],
             [
              0.3333333333333333,
              "#9c179e"
             ],
             [
              0.4444444444444444,
              "#bd3786"
             ],
             [
              0.5555555555555556,
              "#d8576b"
             ],
             [
              0.6666666666666666,
              "#ed7953"
             ],
             [
              0.7777777777777778,
              "#fb9f3a"
             ],
             [
              0.8888888888888888,
              "#fdca26"
             ],
             [
              1,
              "#f0f921"
             ]
            ],
            "type": "histogram2d"
           }
          ],
          "histogram2dcontour": [
           {
            "colorbar": {
             "outlinewidth": 0,
             "ticks": ""
            },
            "colorscale": [
             [
              0,
              "#0d0887"
             ],
             [
              0.1111111111111111,
              "#46039f"
             ],
             [
              0.2222222222222222,
              "#7201a8"
             ],
             [
              0.3333333333333333,
              "#9c179e"
             ],
             [
              0.4444444444444444,
              "#bd3786"
             ],
             [
              0.5555555555555556,
              "#d8576b"
             ],
             [
              0.6666666666666666,
              "#ed7953"
             ],
             [
              0.7777777777777778,
              "#fb9f3a"
             ],
             [
              0.8888888888888888,
              "#fdca26"
             ],
             [
              1,
              "#f0f921"
             ]
            ],
            "type": "histogram2dcontour"
           }
          ],
          "mesh3d": [
           {
            "colorbar": {
             "outlinewidth": 0,
             "ticks": ""
            },
            "type": "mesh3d"
           }
          ],
          "parcoords": [
           {
            "line": {
             "colorbar": {
              "outlinewidth": 0,
              "ticks": ""
             }
            },
            "type": "parcoords"
           }
          ],
          "pie": [
           {
            "automargin": true,
            "type": "pie"
           }
          ],
          "scatter": [
           {
            "fillpattern": {
             "fillmode": "overlay",
             "size": 10,
             "solidity": 0.2
            },
            "type": "scatter"
           }
          ],
          "scatter3d": [
           {
            "line": {
             "colorbar": {
              "outlinewidth": 0,
              "ticks": ""
             }
            },
            "marker": {
             "colorbar": {
              "outlinewidth": 0,
              "ticks": ""
             }
            },
            "type": "scatter3d"
           }
          ],
          "scattercarpet": [
           {
            "marker": {
             "colorbar": {
              "outlinewidth": 0,
              "ticks": ""
             }
            },
            "type": "scattercarpet"
           }
          ],
          "scattergeo": [
           {
            "marker": {
             "colorbar": {
              "outlinewidth": 0,
              "ticks": ""
             }
            },
            "type": "scattergeo"
           }
          ],
          "scattergl": [
           {
            "marker": {
             "colorbar": {
              "outlinewidth": 0,
              "ticks": ""
             }
            },
            "type": "scattergl"
           }
          ],
          "scattermapbox": [
           {
            "marker": {
             "colorbar": {
              "outlinewidth": 0,
              "ticks": ""
             }
            },
            "type": "scattermapbox"
           }
          ],
          "scatterpolar": [
           {
            "marker": {
             "colorbar": {
              "outlinewidth": 0,
              "ticks": ""
             }
            },
            "type": "scatterpolar"
           }
          ],
          "scatterpolargl": [
           {
            "marker": {
             "colorbar": {
              "outlinewidth": 0,
              "ticks": ""
             }
            },
            "type": "scatterpolargl"
           }
          ],
          "scatterternary": [
           {
            "marker": {
             "colorbar": {
              "outlinewidth": 0,
              "ticks": ""
             }
            },
            "type": "scatterternary"
           }
          ],
          "surface": [
           {
            "colorbar": {
             "outlinewidth": 0,
             "ticks": ""
            },
            "colorscale": [
             [
              0,
              "#0d0887"
             ],
             [
              0.1111111111111111,
              "#46039f"
             ],
             [
              0.2222222222222222,
              "#7201a8"
             ],
             [
              0.3333333333333333,
              "#9c179e"
             ],
             [
              0.4444444444444444,
              "#bd3786"
             ],
             [
              0.5555555555555556,
              "#d8576b"
             ],
             [
              0.6666666666666666,
              "#ed7953"
             ],
             [
              0.7777777777777778,
              "#fb9f3a"
             ],
             [
              0.8888888888888888,
              "#fdca26"
             ],
             [
              1,
              "#f0f921"
             ]
            ],
            "type": "surface"
           }
          ],
          "table": [
           {
            "cells": {
             "fill": {
              "color": "#EBF0F8"
             },
             "line": {
              "color": "white"
             }
            },
            "header": {
             "fill": {
              "color": "#C8D4E3"
             },
             "line": {
              "color": "white"
             }
            },
            "type": "table"
           }
          ]
         },
         "layout": {
          "annotationdefaults": {
           "arrowcolor": "#2a3f5f",
           "arrowhead": 0,
           "arrowwidth": 1
          },
          "autotypenumbers": "strict",
          "coloraxis": {
           "colorbar": {
            "outlinewidth": 0,
            "ticks": ""
           }
          },
          "colorscale": {
           "diverging": [
            [
             0,
             "#8e0152"
            ],
            [
             0.1,
             "#c51b7d"
            ],
            [
             0.2,
             "#de77ae"
            ],
            [
             0.3,
             "#f1b6da"
            ],
            [
             0.4,
             "#fde0ef"
            ],
            [
             0.5,
             "#f7f7f7"
            ],
            [
             0.6,
             "#e6f5d0"
            ],
            [
             0.7,
             "#b8e186"
            ],
            [
             0.8,
             "#7fbc41"
            ],
            [
             0.9,
             "#4d9221"
            ],
            [
             1,
             "#276419"
            ]
           ],
           "sequential": [
            [
             0,
             "#0d0887"
            ],
            [
             0.1111111111111111,
             "#46039f"
            ],
            [
             0.2222222222222222,
             "#7201a8"
            ],
            [
             0.3333333333333333,
             "#9c179e"
            ],
            [
             0.4444444444444444,
             "#bd3786"
            ],
            [
             0.5555555555555556,
             "#d8576b"
            ],
            [
             0.6666666666666666,
             "#ed7953"
            ],
            [
             0.7777777777777778,
             "#fb9f3a"
            ],
            [
             0.8888888888888888,
             "#fdca26"
            ],
            [
             1,
             "#f0f921"
            ]
           ],
           "sequentialminus": [
            [
             0,
             "#0d0887"
            ],
            [
             0.1111111111111111,
             "#46039f"
            ],
            [
             0.2222222222222222,
             "#7201a8"
            ],
            [
             0.3333333333333333,
             "#9c179e"
            ],
            [
             0.4444444444444444,
             "#bd3786"
            ],
            [
             0.5555555555555556,
             "#d8576b"
            ],
            [
             0.6666666666666666,
             "#ed7953"
            ],
            [
             0.7777777777777778,
             "#fb9f3a"
            ],
            [
             0.8888888888888888,
             "#fdca26"
            ],
            [
             1,
             "#f0f921"
            ]
           ]
          },
          "colorway": [
           "#636efa",
           "#EF553B",
           "#00cc96",
           "#ab63fa",
           "#FFA15A",
           "#19d3f3",
           "#FF6692",
           "#B6E880",
           "#FF97FF",
           "#FECB52"
          ],
          "font": {
           "color": "#2a3f5f"
          },
          "geo": {
           "bgcolor": "white",
           "lakecolor": "white",
           "landcolor": "#E5ECF6",
           "showlakes": true,
           "showland": true,
           "subunitcolor": "white"
          },
          "hoverlabel": {
           "align": "left"
          },
          "hovermode": "closest",
          "mapbox": {
           "style": "light"
          },
          "paper_bgcolor": "white",
          "plot_bgcolor": "#E5ECF6",
          "polar": {
           "angularaxis": {
            "gridcolor": "white",
            "linecolor": "white",
            "ticks": ""
           },
           "bgcolor": "#E5ECF6",
           "radialaxis": {
            "gridcolor": "white",
            "linecolor": "white",
            "ticks": ""
           }
          },
          "scene": {
           "xaxis": {
            "backgroundcolor": "#E5ECF6",
            "gridcolor": "white",
            "gridwidth": 2,
            "linecolor": "white",
            "showbackground": true,
            "ticks": "",
            "zerolinecolor": "white"
           },
           "yaxis": {
            "backgroundcolor": "#E5ECF6",
            "gridcolor": "white",
            "gridwidth": 2,
            "linecolor": "white",
            "showbackground": true,
            "ticks": "",
            "zerolinecolor": "white"
           },
           "zaxis": {
            "backgroundcolor": "#E5ECF6",
            "gridcolor": "white",
            "gridwidth": 2,
            "linecolor": "white",
            "showbackground": true,
            "ticks": "",
            "zerolinecolor": "white"
           }
          },
          "shapedefaults": {
           "line": {
            "color": "#2a3f5f"
           }
          },
          "ternary": {
           "aaxis": {
            "gridcolor": "white",
            "linecolor": "white",
            "ticks": ""
           },
           "baxis": {
            "gridcolor": "white",
            "linecolor": "white",
            "ticks": ""
           },
           "bgcolor": "#E5ECF6",
           "caxis": {
            "gridcolor": "white",
            "linecolor": "white",
            "ticks": ""
           }
          },
          "title": {
           "x": 0.05
          },
          "xaxis": {
           "automargin": true,
           "gridcolor": "white",
           "linecolor": "white",
           "ticks": "",
           "title": {
            "standoff": 15
           },
           "zerolinecolor": "white",
           "zerolinewidth": 2
          },
          "yaxis": {
           "automargin": true,
           "gridcolor": "white",
           "linecolor": "white",
           "ticks": "",
           "title": {
            "standoff": 15
           },
           "zerolinecolor": "white",
           "zerolinewidth": 2
          }
         }
        },
        "title": {
         "text": "Severity Frequency Distribution"
        },
        "xaxis": {
         "anchor": "y",
         "categoryarray": [
          "2",
          "1",
          "0"
         ],
         "categoryorder": "array",
         "domain": [
          0,
          1
         ],
         "title": {
          "text": "severity"
         }
        },
        "yaxis": {
         "anchor": "x",
         "domain": [
          0,
          1
         ],
         "title": {
          "text": "count"
         }
        }
       }
      }
     },
     "metadata": {},
     "output_type": "display_data"
    }
   ],
   "source": [
    "severity_counts = df['severity'].value_counts().reset_index()\n",
    "severity_counts.columns = ['severity', 'count']\n",
    "\n",
    "# Severity sütununu string formatına çevir\n",
    "severity_counts['severity'] = severity_counts['severity'].astype(str)\n",
    "\n",
    "# Renk haritası\n",
    "color_map = {\n",
    "    '2': 'red',\n",
    "    '1': 'orange',\n",
    "    '0': 'gray'\n",
    "}\n",
    "\n",
    "# Bar plot oluşturma\n",
    "fig = px.bar(severity_counts, x='severity', y='count', \n",
    "             color='severity', color_discrete_map=color_map, \n",
    "             title='Severity Frequency Distribution')\n",
    "\n",
    "# Grafiği göster\n",
    "fig.show()"
   ]
  },
  {
   "cell_type": "code",
   "execution_count": 87,
   "metadata": {},
   "outputs": [
    {
     "data": {
      "application/vnd.plotly.v1+json": {
       "config": {
        "plotlyServerURL": "https://plot.ly"
       },
       "data": [
        {
         "marker": {
          "color": [
           "green",
           "lightgray"
          ]
         },
         "name": "bilet",
         "type": "bar",
         "x": [
          "1",
          "0"
         ],
         "xaxis": "x",
         "y": [
          1318,
          1866
         ],
         "yaxis": "y"
        },
        {
         "marker": {
          "color": [
           "green",
           "lightgray"
          ]
         },
         "name": "musteri_hizmetleri",
         "type": "bar",
         "x": [
          "1",
          "0"
         ],
         "xaxis": "x2",
         "y": [
          862,
          2322
         ],
         "yaxis": "y2"
        },
        {
         "marker": {
          "color": [
           "green",
           "lightgray"
          ]
         },
         "name": "odeme",
         "type": "bar",
         "x": [
          "1",
          "0"
         ],
         "xaxis": "x3",
         "y": [
          641,
          2543
         ],
         "yaxis": "y3"
        },
        {
         "marker": {
          "color": [
           "green",
           "lightgray"
          ]
         },
         "name": "uygulama",
         "type": "bar",
         "x": [
          "1",
          "0"
         ],
         "xaxis": "x4",
         "y": [
          1576,
          1608
         ],
         "yaxis": "y4"
        },
        {
         "marker": {
          "color": [
           "green",
           "lightgray"
          ]
         },
         "name": "passolig",
         "type": "bar",
         "x": [
          "1",
          "0"
         ],
         "xaxis": "x5",
         "y": [
          1620,
          1564
         ],
         "yaxis": "y5"
        },
        {
         "marker": {
          "color": [
           "green",
           "lightgray"
          ]
         },
         "name": "passolig kart",
         "type": "bar",
         "x": [
          "1",
          "0"
         ],
         "xaxis": "x6",
         "y": [
          878,
          2306
         ],
         "yaxis": "y6"
        },
        {
         "marker": {
          "color": [
           "green",
           "lightgray"
          ]
         },
         "name": "diger",
         "type": "bar",
         "x": [
          "1",
          "0"
         ],
         "xaxis": "x7",
         "y": [
          563,
          2621
         ],
         "yaxis": "y7"
        },
        {
         "marker": {
          "color": [
           "green",
           "lightgray"
          ]
         },
         "name": "aksiyon",
         "type": "bar",
         "x": [
          "1",
          "0"
         ],
         "xaxis": "x8",
         "y": [
          2566,
          618
         ],
         "yaxis": "y8"
        }
       ],
       "layout": {
        "annotations": [
         {
          "font": {
           "size": 16
          },
          "showarrow": false,
          "text": "bilet",
          "x": 0.0515625,
          "xanchor": "center",
          "xref": "paper",
          "y": 1,
          "yanchor": "bottom",
          "yref": "paper"
         },
         {
          "font": {
           "size": 16
          },
          "showarrow": false,
          "text": "musteri_hizmetleri",
          "x": 0.1796875,
          "xanchor": "center",
          "xref": "paper",
          "y": 1,
          "yanchor": "bottom",
          "yref": "paper"
         },
         {
          "font": {
           "size": 16
          },
          "showarrow": false,
          "text": "odeme",
          "x": 0.3078125,
          "xanchor": "center",
          "xref": "paper",
          "y": 1,
          "yanchor": "bottom",
          "yref": "paper"
         },
         {
          "font": {
           "size": 16
          },
          "showarrow": false,
          "text": "uygulama",
          "x": 0.4359375,
          "xanchor": "center",
          "xref": "paper",
          "y": 1,
          "yanchor": "bottom",
          "yref": "paper"
         },
         {
          "font": {
           "size": 16
          },
          "showarrow": false,
          "text": "passolig",
          "x": 0.5640624999999999,
          "xanchor": "center",
          "xref": "paper",
          "y": 1,
          "yanchor": "bottom",
          "yref": "paper"
         },
         {
          "font": {
           "size": 16
          },
          "showarrow": false,
          "text": "passolig kart",
          "x": 0.6921875,
          "xanchor": "center",
          "xref": "paper",
          "y": 1,
          "yanchor": "bottom",
          "yref": "paper"
         },
         {
          "font": {
           "size": 16
          },
          "showarrow": false,
          "text": "diger",
          "x": 0.8203125,
          "xanchor": "center",
          "xref": "paper",
          "y": 1,
          "yanchor": "bottom",
          "yref": "paper"
         },
         {
          "font": {
           "size": 16
          },
          "showarrow": false,
          "text": "aksiyon",
          "x": 0.9484375,
          "xanchor": "center",
          "xref": "paper",
          "y": 1,
          "yanchor": "bottom",
          "yref": "paper"
         }
        ],
        "showlegend": false,
        "template": {
         "data": {
          "bar": [
           {
            "error_x": {
             "color": "#2a3f5f"
            },
            "error_y": {
             "color": "#2a3f5f"
            },
            "marker": {
             "line": {
              "color": "#E5ECF6",
              "width": 0.5
             },
             "pattern": {
              "fillmode": "overlay",
              "size": 10,
              "solidity": 0.2
             }
            },
            "type": "bar"
           }
          ],
          "barpolar": [
           {
            "marker": {
             "line": {
              "color": "#E5ECF6",
              "width": 0.5
             },
             "pattern": {
              "fillmode": "overlay",
              "size": 10,
              "solidity": 0.2
             }
            },
            "type": "barpolar"
           }
          ],
          "carpet": [
           {
            "aaxis": {
             "endlinecolor": "#2a3f5f",
             "gridcolor": "white",
             "linecolor": "white",
             "minorgridcolor": "white",
             "startlinecolor": "#2a3f5f"
            },
            "baxis": {
             "endlinecolor": "#2a3f5f",
             "gridcolor": "white",
             "linecolor": "white",
             "minorgridcolor": "white",
             "startlinecolor": "#2a3f5f"
            },
            "type": "carpet"
           }
          ],
          "choropleth": [
           {
            "colorbar": {
             "outlinewidth": 0,
             "ticks": ""
            },
            "type": "choropleth"
           }
          ],
          "contour": [
           {
            "colorbar": {
             "outlinewidth": 0,
             "ticks": ""
            },
            "colorscale": [
             [
              0,
              "#0d0887"
             ],
             [
              0.1111111111111111,
              "#46039f"
             ],
             [
              0.2222222222222222,
              "#7201a8"
             ],
             [
              0.3333333333333333,
              "#9c179e"
             ],
             [
              0.4444444444444444,
              "#bd3786"
             ],
             [
              0.5555555555555556,
              "#d8576b"
             ],
             [
              0.6666666666666666,
              "#ed7953"
             ],
             [
              0.7777777777777778,
              "#fb9f3a"
             ],
             [
              0.8888888888888888,
              "#fdca26"
             ],
             [
              1,
              "#f0f921"
             ]
            ],
            "type": "contour"
           }
          ],
          "contourcarpet": [
           {
            "colorbar": {
             "outlinewidth": 0,
             "ticks": ""
            },
            "type": "contourcarpet"
           }
          ],
          "heatmap": [
           {
            "colorbar": {
             "outlinewidth": 0,
             "ticks": ""
            },
            "colorscale": [
             [
              0,
              "#0d0887"
             ],
             [
              0.1111111111111111,
              "#46039f"
             ],
             [
              0.2222222222222222,
              "#7201a8"
             ],
             [
              0.3333333333333333,
              "#9c179e"
             ],
             [
              0.4444444444444444,
              "#bd3786"
             ],
             [
              0.5555555555555556,
              "#d8576b"
             ],
             [
              0.6666666666666666,
              "#ed7953"
             ],
             [
              0.7777777777777778,
              "#fb9f3a"
             ],
             [
              0.8888888888888888,
              "#fdca26"
             ],
             [
              1,
              "#f0f921"
             ]
            ],
            "type": "heatmap"
           }
          ],
          "heatmapgl": [
           {
            "colorbar": {
             "outlinewidth": 0,
             "ticks": ""
            },
            "colorscale": [
             [
              0,
              "#0d0887"
             ],
             [
              0.1111111111111111,
              "#46039f"
             ],
             [
              0.2222222222222222,
              "#7201a8"
             ],
             [
              0.3333333333333333,
              "#9c179e"
             ],
             [
              0.4444444444444444,
              "#bd3786"
             ],
             [
              0.5555555555555556,
              "#d8576b"
             ],
             [
              0.6666666666666666,
              "#ed7953"
             ],
             [
              0.7777777777777778,
              "#fb9f3a"
             ],
             [
              0.8888888888888888,
              "#fdca26"
             ],
             [
              1,
              "#f0f921"
             ]
            ],
            "type": "heatmapgl"
           }
          ],
          "histogram": [
           {
            "marker": {
             "pattern": {
              "fillmode": "overlay",
              "size": 10,
              "solidity": 0.2
             }
            },
            "type": "histogram"
           }
          ],
          "histogram2d": [
           {
            "colorbar": {
             "outlinewidth": 0,
             "ticks": ""
            },
            "colorscale": [
             [
              0,
              "#0d0887"
             ],
             [
              0.1111111111111111,
              "#46039f"
             ],
             [
              0.2222222222222222,
              "#7201a8"
             ],
             [
              0.3333333333333333,
              "#9c179e"
             ],
             [
              0.4444444444444444,
              "#bd3786"
             ],
             [
              0.5555555555555556,
              "#d8576b"
             ],
             [
              0.6666666666666666,
              "#ed7953"
             ],
             [
              0.7777777777777778,
              "#fb9f3a"
             ],
             [
              0.8888888888888888,
              "#fdca26"
             ],
             [
              1,
              "#f0f921"
             ]
            ],
            "type": "histogram2d"
           }
          ],
          "histogram2dcontour": [
           {
            "colorbar": {
             "outlinewidth": 0,
             "ticks": ""
            },
            "colorscale": [
             [
              0,
              "#0d0887"
             ],
             [
              0.1111111111111111,
              "#46039f"
             ],
             [
              0.2222222222222222,
              "#7201a8"
             ],
             [
              0.3333333333333333,
              "#9c179e"
             ],
             [
              0.4444444444444444,
              "#bd3786"
             ],
             [
              0.5555555555555556,
              "#d8576b"
             ],
             [
              0.6666666666666666,
              "#ed7953"
             ],
             [
              0.7777777777777778,
              "#fb9f3a"
             ],
             [
              0.8888888888888888,
              "#fdca26"
             ],
             [
              1,
              "#f0f921"
             ]
            ],
            "type": "histogram2dcontour"
           }
          ],
          "mesh3d": [
           {
            "colorbar": {
             "outlinewidth": 0,
             "ticks": ""
            },
            "type": "mesh3d"
           }
          ],
          "parcoords": [
           {
            "line": {
             "colorbar": {
              "outlinewidth": 0,
              "ticks": ""
             }
            },
            "type": "parcoords"
           }
          ],
          "pie": [
           {
            "automargin": true,
            "type": "pie"
           }
          ],
          "scatter": [
           {
            "fillpattern": {
             "fillmode": "overlay",
             "size": 10,
             "solidity": 0.2
            },
            "type": "scatter"
           }
          ],
          "scatter3d": [
           {
            "line": {
             "colorbar": {
              "outlinewidth": 0,
              "ticks": ""
             }
            },
            "marker": {
             "colorbar": {
              "outlinewidth": 0,
              "ticks": ""
             }
            },
            "type": "scatter3d"
           }
          ],
          "scattercarpet": [
           {
            "marker": {
             "colorbar": {
              "outlinewidth": 0,
              "ticks": ""
             }
            },
            "type": "scattercarpet"
           }
          ],
          "scattergeo": [
           {
            "marker": {
             "colorbar": {
              "outlinewidth": 0,
              "ticks": ""
             }
            },
            "type": "scattergeo"
           }
          ],
          "scattergl": [
           {
            "marker": {
             "colorbar": {
              "outlinewidth": 0,
              "ticks": ""
             }
            },
            "type": "scattergl"
           }
          ],
          "scattermapbox": [
           {
            "marker": {
             "colorbar": {
              "outlinewidth": 0,
              "ticks": ""
             }
            },
            "type": "scattermapbox"
           }
          ],
          "scatterpolar": [
           {
            "marker": {
             "colorbar": {
              "outlinewidth": 0,
              "ticks": ""
             }
            },
            "type": "scatterpolar"
           }
          ],
          "scatterpolargl": [
           {
            "marker": {
             "colorbar": {
              "outlinewidth": 0,
              "ticks": ""
             }
            },
            "type": "scatterpolargl"
           }
          ],
          "scatterternary": [
           {
            "marker": {
             "colorbar": {
              "outlinewidth": 0,
              "ticks": ""
             }
            },
            "type": "scatterternary"
           }
          ],
          "surface": [
           {
            "colorbar": {
             "outlinewidth": 0,
             "ticks": ""
            },
            "colorscale": [
             [
              0,
              "#0d0887"
             ],
             [
              0.1111111111111111,
              "#46039f"
             ],
             [
              0.2222222222222222,
              "#7201a8"
             ],
             [
              0.3333333333333333,
              "#9c179e"
             ],
             [
              0.4444444444444444,
              "#bd3786"
             ],
             [
              0.5555555555555556,
              "#d8576b"
             ],
             [
              0.6666666666666666,
              "#ed7953"
             ],
             [
              0.7777777777777778,
              "#fb9f3a"
             ],
             [
              0.8888888888888888,
              "#fdca26"
             ],
             [
              1,
              "#f0f921"
             ]
            ],
            "type": "surface"
           }
          ],
          "table": [
           {
            "cells": {
             "fill": {
              "color": "#EBF0F8"
             },
             "line": {
              "color": "white"
             }
            },
            "header": {
             "fill": {
              "color": "#C8D4E3"
             },
             "line": {
              "color": "white"
             }
            },
            "type": "table"
           }
          ]
         },
         "layout": {
          "annotationdefaults": {
           "arrowcolor": "#2a3f5f",
           "arrowhead": 0,
           "arrowwidth": 1
          },
          "autotypenumbers": "strict",
          "coloraxis": {
           "colorbar": {
            "outlinewidth": 0,
            "ticks": ""
           }
          },
          "colorscale": {
           "diverging": [
            [
             0,
             "#8e0152"
            ],
            [
             0.1,
             "#c51b7d"
            ],
            [
             0.2,
             "#de77ae"
            ],
            [
             0.3,
             "#f1b6da"
            ],
            [
             0.4,
             "#fde0ef"
            ],
            [
             0.5,
             "#f7f7f7"
            ],
            [
             0.6,
             "#e6f5d0"
            ],
            [
             0.7,
             "#b8e186"
            ],
            [
             0.8,
             "#7fbc41"
            ],
            [
             0.9,
             "#4d9221"
            ],
            [
             1,
             "#276419"
            ]
           ],
           "sequential": [
            [
             0,
             "#0d0887"
            ],
            [
             0.1111111111111111,
             "#46039f"
            ],
            [
             0.2222222222222222,
             "#7201a8"
            ],
            [
             0.3333333333333333,
             "#9c179e"
            ],
            [
             0.4444444444444444,
             "#bd3786"
            ],
            [
             0.5555555555555556,
             "#d8576b"
            ],
            [
             0.6666666666666666,
             "#ed7953"
            ],
            [
             0.7777777777777778,
             "#fb9f3a"
            ],
            [
             0.8888888888888888,
             "#fdca26"
            ],
            [
             1,
             "#f0f921"
            ]
           ],
           "sequentialminus": [
            [
             0,
             "#0d0887"
            ],
            [
             0.1111111111111111,
             "#46039f"
            ],
            [
             0.2222222222222222,
             "#7201a8"
            ],
            [
             0.3333333333333333,
             "#9c179e"
            ],
            [
             0.4444444444444444,
             "#bd3786"
            ],
            [
             0.5555555555555556,
             "#d8576b"
            ],
            [
             0.6666666666666666,
             "#ed7953"
            ],
            [
             0.7777777777777778,
             "#fb9f3a"
            ],
            [
             0.8888888888888888,
             "#fdca26"
            ],
            [
             1,
             "#f0f921"
            ]
           ]
          },
          "colorway": [
           "#636efa",
           "#EF553B",
           "#00cc96",
           "#ab63fa",
           "#FFA15A",
           "#19d3f3",
           "#FF6692",
           "#B6E880",
           "#FF97FF",
           "#FECB52"
          ],
          "font": {
           "color": "#2a3f5f"
          },
          "geo": {
           "bgcolor": "white",
           "lakecolor": "white",
           "landcolor": "#E5ECF6",
           "showlakes": true,
           "showland": true,
           "subunitcolor": "white"
          },
          "hoverlabel": {
           "align": "left"
          },
          "hovermode": "closest",
          "mapbox": {
           "style": "light"
          },
          "paper_bgcolor": "white",
          "plot_bgcolor": "#E5ECF6",
          "polar": {
           "angularaxis": {
            "gridcolor": "white",
            "linecolor": "white",
            "ticks": ""
           },
           "bgcolor": "#E5ECF6",
           "radialaxis": {
            "gridcolor": "white",
            "linecolor": "white",
            "ticks": ""
           }
          },
          "scene": {
           "xaxis": {
            "backgroundcolor": "#E5ECF6",
            "gridcolor": "white",
            "gridwidth": 2,
            "linecolor": "white",
            "showbackground": true,
            "ticks": "",
            "zerolinecolor": "white"
           },
           "yaxis": {
            "backgroundcolor": "#E5ECF6",
            "gridcolor": "white",
            "gridwidth": 2,
            "linecolor": "white",
            "showbackground": true,
            "ticks": "",
            "zerolinecolor": "white"
           },
           "zaxis": {
            "backgroundcolor": "#E5ECF6",
            "gridcolor": "white",
            "gridwidth": 2,
            "linecolor": "white",
            "showbackground": true,
            "ticks": "",
            "zerolinecolor": "white"
           }
          },
          "shapedefaults": {
           "line": {
            "color": "#2a3f5f"
           }
          },
          "ternary": {
           "aaxis": {
            "gridcolor": "white",
            "linecolor": "white",
            "ticks": ""
           },
           "baxis": {
            "gridcolor": "white",
            "linecolor": "white",
            "ticks": ""
           },
           "bgcolor": "#E5ECF6",
           "caxis": {
            "gridcolor": "white",
            "linecolor": "white",
            "ticks": ""
           }
          },
          "title": {
           "x": 0.05
          },
          "xaxis": {
           "automargin": true,
           "gridcolor": "white",
           "linecolor": "white",
           "ticks": "",
           "title": {
            "standoff": 15
           },
           "zerolinecolor": "white",
           "zerolinewidth": 2
          },
          "yaxis": {
           "automargin": true,
           "gridcolor": "white",
           "linecolor": "white",
           "ticks": "",
           "title": {
            "standoff": 15
           },
           "zerolinecolor": "white",
           "zerolinewidth": 2
          }
         }
        },
        "title": {
         "text": "Subplot of Severity for Each Column",
         "x": 0.5
        },
        "xaxis": {
         "anchor": "y",
         "domain": [
          0,
          0.103125
         ],
         "title": {
          "text": "Value"
         }
        },
        "xaxis2": {
         "anchor": "y2",
         "domain": [
          0.128125,
          0.23124999999999998
         ]
        },
        "xaxis3": {
         "anchor": "y3",
         "domain": [
          0.25625,
          0.359375
         ]
        },
        "xaxis4": {
         "anchor": "y4",
         "domain": [
          0.38437499999999997,
          0.48749999999999993
         ]
        },
        "xaxis5": {
         "anchor": "y5",
         "domain": [
          0.5125,
          0.615625
         ]
        },
        "xaxis6": {
         "anchor": "y6",
         "domain": [
          0.640625,
          0.74375
         ]
        },
        "xaxis7": {
         "anchor": "y7",
         "domain": [
          0.76875,
          0.8718750000000001
         ]
        },
        "xaxis8": {
         "anchor": "y8",
         "domain": [
          0.8968750000000001,
          1
         ]
        },
        "yaxis": {
         "anchor": "x",
         "domain": [
          0,
          1
         ],
         "title": {
          "text": "Count"
         }
        },
        "yaxis2": {
         "anchor": "x2",
         "domain": [
          0,
          1
         ]
        },
        "yaxis3": {
         "anchor": "x3",
         "domain": [
          0,
          1
         ]
        },
        "yaxis4": {
         "anchor": "x4",
         "domain": [
          0,
          1
         ]
        },
        "yaxis5": {
         "anchor": "x5",
         "domain": [
          0,
          1
         ]
        },
        "yaxis6": {
         "anchor": "x6",
         "domain": [
          0,
          1
         ]
        },
        "yaxis7": {
         "anchor": "x7",
         "domain": [
          0,
          1
         ]
        },
        "yaxis8": {
         "anchor": "x8",
         "domain": [
          0,
          1
         ]
        }
       }
      }
     },
     "metadata": {},
     "output_type": "display_data"
    }
   ],
   "source": [
    "import plotly.graph_objects as go\n",
    "from plotly.subplots import make_subplots\n",
    "import pandas as pd\n",
    "\n",
    "# Örnek dataframe\n",
    "# df = pd.DataFrame({\n",
    "#     'bilet': [1, 0, 1, 1, 0],\n",
    "#     'musteri_hizmetleri': [0, 1, 0, 1, 1],\n",
    "#     'odeme': [1, 0, 1, 0, 1],\n",
    "#     'uygulama': [0, 1, 0, 1, 1],\n",
    "#     'passolig': [1, 1, 0, 0, 1],\n",
    "#     'passolig kart': [0, 1, 1, 0, 0],\n",
    "#     'diger': [1, 0, 0, 1, 1],\n",
    "#     'aksiyon': [0, 1, 1, 0, 1]\n",
    "# })\n",
    "\n",
    "# Subplotları oluştur (1 satırda 8 grafik)\n",
    "fig = make_subplots(rows=1, cols=8, subplot_titles=['bilet', 'musteri_hizmetleri', 'odeme', 'uygulama', \n",
    "                                                    'passolig', 'passolig kart', 'diger', 'aksiyon'])\n",
    "\n",
    "# Renk haritaları\n",
    "color_map = {\n",
    "    1: 'green',\n",
    "    0: 'lightgray'\n",
    "}\n",
    "\n",
    "# Her sütun için ayrı bar grafiği ekle\n",
    "columns = ['bilet', 'musteri_hizmetleri', 'odeme', 'uygulama', 'passolig', 'passolig kart', 'diger', 'aksiyon']\n",
    "\n",
    "for i, col in enumerate(columns):\n",
    "    counts = df[col].value_counts().reset_index()\n",
    "    counts.columns = [col, 'count']\n",
    "    \n",
    "    # X eksenindeki değerleri ayarla (1 sol tarafta, 0 sağ tarafta)\n",
    "    counts = counts.sort_values(by=col, ascending=False).reset_index(drop=True)\n",
    "    \n",
    "    fig.add_trace(\n",
    "        go.Bar(\n",
    "            x=counts[col].astype(str),\n",
    "            y=counts['count'],\n",
    "            name=col,\n",
    "            marker_color=[color_map[val] for val in counts[col]]\n",
    "        ),\n",
    "        row=1, col=i+1\n",
    "    )\n",
    "\n",
    "# Genel başlık ve düzenlemeler\n",
    "fig.update_layout(\n",
    "    title_text=\"Subplot of Severity for Each Column\",\n",
    "    title_x=0.5,\n",
    "    showlegend=False,\n",
    "    xaxis_title='Value',\n",
    "    yaxis_title='Count'\n",
    ")\n",
    "\n",
    "# Grafiği göster\n",
    "fig.show()\n"
   ]
  },
  {
   "cell_type": "code",
   "execution_count": 88,
   "metadata": {},
   "outputs": [
    {
     "data": {
      "application/vnd.plotly.v1+json": {
       "config": {
        "plotlyServerURL": "https://plot.ly"
       },
       "data": [
        {
         "alignmentgroup": "True",
         "bingroup": "x",
         "hovertemplate": "Label=%{x}<br>count=%{y}<extra></extra>",
         "legendgroup": "",
         "marker": {
          "color": "#1f77b4",
          "pattern": {
           "shape": ""
          }
         },
         "name": "",
         "offsetgroup": "",
         "orientation": "v",
         "showlegend": false,
         "type": "histogram",
         "x": [
          18,
          13,
          8,
          8,
          2,
          8,
          8,
          2,
          7,
          8,
          9,
          8,
          8,
          8,
          8,
          29,
          10,
          13,
          8,
          8,
          8,
          8,
          8,
          2,
          18,
          8,
          8,
          10,
          8,
          8,
          13,
          13,
          30,
          8,
          8,
          1,
          8,
          1,
          8,
          8,
          8,
          13,
          10,
          1,
          4,
          8,
          1,
          29,
          30,
          9,
          10,
          8,
          9,
          1,
          1,
          9,
          9,
          8,
          1,
          8,
          9,
          65,
          8,
          1,
          10,
          9,
          9,
          8,
          8,
          1,
          38,
          68,
          9,
          10,
          8,
          1,
          1,
          1,
          1,
          8,
          7,
          13,
          1,
          8,
          1,
          1,
          10,
          1,
          8,
          1,
          8,
          1,
          64,
          10,
          8,
          8,
          8,
          8,
          1,
          10,
          10,
          9,
          29,
          8,
          1,
          1,
          9,
          8,
          8,
          30,
          31,
          8,
          29,
          8,
          8,
          8,
          1,
          10,
          8,
          8,
          13,
          19,
          10,
          1,
          23,
          74,
          23,
          1,
          11,
          10,
          15,
          4,
          4,
          25,
          8,
          4,
          8,
          13,
          8,
          9,
          8,
          13,
          8,
          13,
          15,
          7,
          4,
          4,
          4,
          4,
          13,
          13,
          29,
          8,
          15,
          1,
          8,
          7,
          3,
          29,
          47,
          1,
          8,
          8,
          1,
          8,
          80,
          4,
          7,
          7,
          4,
          2,
          4,
          15,
          29,
          30,
          3,
          3,
          8,
          1,
          1,
          4,
          8,
          4,
          10,
          1,
          1,
          1,
          4,
          4,
          4,
          13,
          13,
          1,
          13,
          10,
          13,
          13,
          13,
          13,
          23,
          37,
          4,
          4,
          60,
          3,
          3,
          34,
          10,
          1,
          8,
          2,
          4,
          4,
          13,
          15,
          4,
          9,
          9,
          4,
          4,
          4,
          4,
          29,
          4,
          13,
          1,
          4,
          7,
          13,
          13,
          13,
          1,
          23,
          8,
          10,
          29,
          4,
          19,
          4,
          10,
          4,
          13,
          8,
          8,
          9,
          34,
          9,
          9,
          9,
          10,
          10,
          10,
          4,
          9,
          4,
          9,
          9,
          8,
          40,
          13,
          9,
          15,
          30,
          8,
          10,
          9,
          10,
          10,
          10,
          1,
          10,
          1,
          13,
          8,
          10,
          10,
          40,
          8,
          8,
          10,
          10,
          33,
          40,
          7,
          9,
          8,
          37,
          13,
          13,
          22,
          9,
          7,
          1,
          38,
          9,
          2,
          33,
          4,
          1,
          9,
          9,
          10,
          9,
          8,
          8,
          29,
          8,
          4,
          10,
          1,
          10,
          29,
          1,
          9,
          40,
          1,
          1,
          10,
          4,
          4,
          10,
          10,
          10,
          10,
          13,
          10,
          10,
          10,
          10,
          10,
          10,
          1,
          1,
          1,
          10,
          8,
          8,
          8,
          8,
          8,
          8,
          1,
          9,
          9,
          8,
          4,
          1,
          1,
          1,
          2,
          10,
          1,
          10,
          1,
          13,
          13,
          1,
          13,
          1,
          1,
          40,
          8,
          1,
          8,
          1,
          13,
          13,
          13,
          7,
          1,
          13,
          10,
          10,
          10,
          1,
          7,
          1,
          1,
          8,
          7,
          4,
          4,
          8,
          4,
          4,
          8,
          1,
          9,
          2,
          4,
          8,
          9,
          1,
          1,
          13,
          13,
          1,
          10,
          1,
          9,
          9,
          4,
          13,
          33,
          10,
          1,
          4,
          10,
          8,
          7,
          8,
          4,
          34,
          4,
          8,
          10,
          8,
          1,
          8,
          1,
          1,
          13,
          4,
          10,
          8,
          9,
          34,
          1,
          8,
          1,
          1,
          13,
          13,
          10,
          1,
          29,
          10,
          8,
          1,
          90,
          19,
          13,
          1,
          13,
          67,
          9,
          13,
          10,
          9,
          9,
          9,
          4,
          9,
          8,
          34,
          29,
          9,
          9,
          4,
          4,
          19,
          4,
          29,
          10,
          10,
          8,
          1,
          4,
          4,
          1,
          9,
          1,
          4,
          9,
          1,
          1,
          4,
          4,
          8,
          1,
          9,
          9,
          40,
          4,
          7,
          4,
          9,
          4,
          1,
          8,
          10,
          70,
          34,
          4,
          4,
          8,
          10,
          10,
          64,
          8,
          8,
          10,
          10,
          64,
          30,
          1,
          1,
          4,
          1,
          13,
          10,
          15,
          1,
          8,
          8,
          1,
          1,
          1,
          1,
          49,
          9,
          1,
          4,
          10,
          4,
          1,
          1,
          1,
          7,
          2,
          29,
          8,
          2,
          1,
          9,
          10,
          7,
          8,
          8,
          31,
          1,
          8,
          9,
          64,
          10,
          10,
          29,
          13,
          29,
          9,
          9,
          9,
          29,
          13,
          9,
          9,
          1,
          1,
          9,
          4,
          13,
          8,
          9,
          8,
          9,
          15,
          38,
          33,
          9,
          8,
          30,
          1,
          9,
          1,
          29,
          30,
          9,
          10,
          7,
          8,
          29,
          3,
          7,
          7,
          4,
          34,
          18,
          8,
          8,
          8,
          13,
          13,
          1,
          1,
          1,
          34,
          13,
          29,
          8,
          29,
          29,
          29,
          2,
          9,
          13,
          9,
          13,
          2,
          8,
          1,
          13,
          13,
          9,
          13,
          29,
          9,
          13,
          8,
          13,
          13,
          13,
          7,
          9,
          29,
          34,
          8,
          13,
          7,
          13,
          13,
          1,
          7,
          7,
          7,
          74,
          7,
          9,
          9,
          37,
          18,
          15,
          76,
          9,
          1,
          13,
          9,
          13,
          29,
          9,
          7,
          13,
          1,
          7,
          29,
          30,
          10,
          9,
          8,
          13,
          15,
          1,
          29,
          9,
          8,
          9,
          3,
          9,
          9,
          13,
          8,
          33,
          9,
          13,
          13,
          13,
          8,
          9,
          9,
          13,
          9,
          34,
          34,
          2,
          4,
          9,
          1,
          1,
          13,
          8,
          9,
          13,
          13,
          13,
          81,
          1,
          13,
          13,
          8,
          29,
          1,
          37,
          1,
          1,
          7,
          13,
          13,
          8,
          13,
          13,
          8,
          34,
          4,
          38,
          8,
          68,
          25,
          1,
          30,
          4,
          4,
          1,
          25,
          15,
          64,
          4,
          9,
          37,
          10,
          15,
          10,
          9,
          30,
          2,
          4,
          9,
          4,
          4,
          13,
          30,
          34,
          10,
          10,
          9,
          37,
          34,
          8,
          1,
          30,
          1,
          9,
          8,
          8,
          9,
          9,
          8,
          25,
          10,
          94,
          13,
          1,
          34,
          25,
          1,
          1,
          1,
          1,
          1,
          30,
          8,
          51,
          9,
          10,
          75,
          10,
          1,
          9,
          10,
          10,
          3,
          34,
          1,
          74,
          11,
          15,
          2,
          4,
          13,
          8,
          9,
          30,
          9,
          13,
          1,
          13,
          1,
          11,
          13,
          13,
          2,
          49,
          28,
          1,
          1,
          60,
          60,
          10,
          1,
          10,
          60,
          8,
          23,
          4,
          94,
          15,
          13,
          4,
          60,
          15,
          13,
          40,
          13,
          60,
          76,
          76,
          4,
          4,
          40,
          40,
          76,
          76,
          2,
          44,
          76,
          76,
          1,
          5,
          23,
          4,
          41,
          9,
          40,
          40,
          8,
          60,
          1,
          60,
          63,
          1,
          10,
          8,
          13,
          2,
          10,
          30,
          10,
          8,
          60,
          15,
          50,
          80,
          1,
          49,
          15,
          4,
          90,
          4,
          15,
          9,
          7,
          9,
          1,
          90,
          9,
          1,
          10,
          9,
          30,
          2,
          33,
          10,
          13,
          1,
          8,
          8,
          8,
          9,
          4,
          18,
          40,
          8,
          13,
          113,
          30,
          60,
          37,
          40,
          40,
          3,
          1,
          109,
          13,
          9,
          15,
          1,
          4,
          1,
          15,
          4,
          1,
          60,
          10,
          10,
          4,
          60,
          18,
          30,
          64,
          9,
          4,
          2,
          8,
          4,
          10,
          33,
          9,
          9,
          9,
          4,
          34,
          40,
          30,
          7,
          7,
          29,
          13,
          4,
          7,
          4,
          29,
          7,
          9,
          9,
          10,
          13,
          13,
          60,
          9,
          4,
          80,
          40,
          4,
          33,
          29,
          10,
          29,
          8,
          8,
          15,
          7,
          60,
          10,
          18,
          15,
          7,
          8,
          1,
          1,
          1,
          1,
          29,
          29,
          15,
          1,
          10,
          9,
          9,
          60,
          1,
          34,
          64,
          34,
          34,
          34,
          34,
          64,
          34,
          34,
          4,
          4,
          4,
          13,
          1,
          37,
          1,
          8,
          9,
          1,
          13,
          1,
          8,
          9,
          60,
          9,
          29,
          30,
          34,
          34,
          9,
          30,
          10,
          8,
          10,
          40,
          40,
          70,
          4,
          13,
          40,
          60,
          80,
          19,
          4,
          1,
          9,
          4,
          10,
          34,
          10,
          9,
          37,
          15,
          1,
          1,
          40,
          3,
          7,
          60,
          33,
          8,
          9,
          13,
          9,
          13,
          13,
          40,
          3,
          9,
          1,
          1,
          13,
          13,
          8,
          10,
          13,
          10,
          2,
          4,
          13,
          10,
          10,
          80,
          4,
          29,
          13,
          34,
          9,
          30,
          34,
          25,
          40,
          10,
          8,
          30,
          65,
          98,
          9,
          13,
          30,
          13,
          13,
          25,
          9,
          80,
          13,
          4,
          9,
          9,
          4,
          74,
          10,
          18,
          109,
          60,
          90,
          10,
          40,
          10,
          25,
          8,
          8,
          1,
          2,
          1,
          10,
          13,
          13,
          34,
          50,
          15,
          15,
          2,
          8,
          9,
          2,
          15,
          70,
          30,
          105,
          60,
          30,
          94,
          13,
          33,
          2,
          8,
          80,
          30,
          8,
          60,
          33,
          8,
          29,
          10,
          34,
          8,
          8,
          30,
          10,
          7,
          60,
          2,
          13,
          29,
          10,
          10,
          10,
          13,
          1,
          3,
          80,
          8,
          2,
          10,
          7,
          8,
          2,
          9,
          1,
          1,
          113,
          29,
          114,
          9,
          30,
          8,
          80,
          4,
          15,
          34,
          25,
          4,
          13,
          83,
          8,
          60,
          1,
          1,
          1,
          1,
          1,
          15,
          33,
          4,
          2,
          1,
          1,
          1,
          1,
          8,
          13,
          15,
          1,
          8,
          8,
          4,
          8,
          9,
          8,
          30,
          4,
          2,
          8,
          15,
          15,
          15,
          90,
          30,
          40,
          2,
          30,
          15,
          90,
          63,
          63,
          90,
          94,
          57,
          60,
          51,
          23,
          90,
          63,
          63,
          54,
          38,
          63,
          63,
          60,
          20,
          23,
          54,
          48,
          60,
          23,
          80,
          23,
          15,
          20,
          38,
          63,
          60,
          54,
          41,
          60,
          23,
          19,
          54,
          90,
          5,
          5,
          63,
          60,
          28,
          60,
          63,
          26,
          60,
          23,
          60,
          90,
          28,
          51,
          16,
          63,
          90,
          61,
          26,
          98,
          60,
          90,
          7,
          90,
          60,
          94,
          57,
          28,
          60,
          60,
          57,
          23,
          24,
          60,
          38,
          63,
          90,
          90,
          13,
          23,
          48,
          48,
          54,
          94,
          80,
          60,
          16,
          11,
          16,
          41,
          23,
          60,
          16,
          63,
          60,
          27,
          60,
          38,
          26,
          60,
          83,
          27,
          60,
          23,
          51,
          48,
          63,
          60,
          63,
          80,
          38,
          87,
          4,
          48,
          60,
          48,
          48,
          48,
          57,
          23,
          48,
          52,
          48,
          60,
          94,
          51,
          57,
          4,
          48,
          54,
          90,
          90,
          15,
          23,
          23,
          23,
          94,
          23,
          28,
          105,
          28,
          11,
          23,
          60,
          60,
          60,
          48,
          60,
          63,
          16,
          23,
          16,
          68,
          23,
          90,
          54,
          23,
          90,
          23,
          51,
          23,
          4,
          90,
          23,
          60,
          48,
          38,
          22,
          23,
          38,
          64,
          15,
          91,
          48,
          16,
          23,
          94,
          34,
          10,
          8,
          8,
          26,
          42,
          23,
          90,
          23,
          23,
          114,
          48,
          114,
          40,
          90,
          23,
          20,
          48,
          23,
          63,
          63,
          63,
          90,
          23,
          60,
          23,
          27,
          20,
          60,
          23,
          60,
          10,
          60,
          54,
          60,
          94,
          90,
          23,
          60,
          74,
          63,
          16,
          51,
          38,
          93,
          94,
          83,
          60,
          20,
          23,
          54,
          26,
          20,
          15,
          23,
          42,
          42,
          63,
          23,
          50,
          16,
          60,
          63,
          23,
          23,
          38,
          68,
          60,
          4,
          38,
          23,
          4,
          60,
          60,
          4,
          60,
          26,
          51,
          23,
          41,
          51,
          83,
          23,
          16,
          38,
          38,
          74,
          38,
          5,
          74,
          74,
          68,
          48,
          42,
          48,
          48,
          27,
          23,
          20,
          98,
          60,
          23,
          26,
          90,
          94,
          60,
          20,
          23,
          38,
          74,
          60,
          10,
          4,
          105,
          5,
          63,
          61,
          23,
          98,
          94,
          38,
          38,
          60,
          48,
          7,
          10,
          48,
          23,
          4,
          5,
          38,
          45,
          48,
          58,
          13,
          23,
          57,
          57,
          63,
          15,
          60,
          60,
          23,
          23,
          23,
          27,
          23,
          28,
          4,
          26,
          5,
          54,
          13,
          23,
          48,
          60,
          90,
          16,
          16,
          23,
          23,
          60,
          60,
          30,
          63,
          60,
          23,
          54,
          84,
          23,
          38,
          63,
          38,
          93,
          63,
          23,
          63,
          94,
          74,
          63,
          90,
          48,
          63,
          60,
          80,
          35,
          23,
          23,
          54,
          60,
          23,
          63,
          114,
          99,
          23,
          48,
          48,
          93,
          5,
          98,
          23,
          19,
          15,
          5,
          10,
          23,
          10,
          48,
          60,
          90,
          83,
          118,
          63,
          60,
          54,
          60,
          38,
          52,
          16,
          60,
          11,
          14,
          13,
          80,
          60,
          16,
          109,
          60,
          63,
          74,
          23,
          23,
          38,
          54,
          20,
          63,
          23,
          45,
          90,
          90,
          71,
          80,
          2,
          16,
          120,
          11,
          63,
          74,
          94,
          93,
          60,
          63,
          90,
          105,
          48,
          16,
          16,
          45,
          63,
          4,
          4,
          93,
          53,
          90,
          48,
          87,
          26,
          51,
          68,
          16,
          60,
          38,
          5,
          63,
          63,
          23,
          41,
          63,
          51,
          23,
          48,
          5,
          38,
          38,
          74,
          16,
          74,
          74,
          90,
          41,
          27,
          99,
          45,
          16,
          63,
          48,
          63,
          99,
          52,
          54,
          48,
          42,
          45,
          48,
          16,
          74,
          74,
          54,
          99,
          60,
          38,
          26,
          11,
          99,
          99,
          38,
          16,
          74,
          60,
          38,
          74,
          34,
          27,
          84,
          48,
          48,
          51,
          5,
          23,
          84,
          60,
          97,
          94,
          80,
          60,
          23,
          63,
          120,
          120,
          51,
          57,
          74,
          120,
          94,
          63,
          57,
          5,
          119,
          48,
          120,
          98,
          48,
          63,
          74,
          127,
          94,
          38,
          114,
          4,
          48,
          23,
          63,
          63,
          94,
          54,
          16,
          120,
          63,
          90,
          114,
          60,
          10,
          93,
          90,
          16,
          84,
          16,
          60,
          23,
          48,
          16,
          19,
          54,
          48,
          4,
          127,
          120,
          54,
          93,
          105,
          38,
          38,
          48,
          48,
          94,
          54,
          126,
          68,
          54,
          48,
          48,
          94,
          5,
          114,
          114,
          23,
          15,
          60,
          60,
          63,
          26,
          20,
          23,
          23,
          54,
          80,
          10,
          54,
          94,
          109,
          5,
          94,
          26,
          63,
          93,
          31,
          45,
          54,
          120,
          27,
          48,
          51,
          109,
          120,
          26,
          23,
          90,
          5,
          20,
          20,
          57,
          5,
          20,
          26,
          34,
          109,
          19,
          98,
          19,
          19,
          19,
          115,
          34,
          11,
          90,
          94,
          84,
          48,
          4,
          19,
          54,
          94,
          26,
          57,
          23,
          44,
          64,
          94,
          20,
          5,
          120,
          93,
          57,
          20,
          87,
          38,
          4,
          51,
          87,
          23,
          93,
          63,
          30,
          63,
          94,
          54,
          84,
          63,
          117,
          84,
          60,
          63,
          38,
          60,
          63,
          114,
          42,
          83,
          63,
          26,
          60,
          63,
          120,
          60,
          4,
          23,
          23,
          63,
          93,
          27,
          84,
          10,
          11,
          35,
          16,
          5,
          90,
          63,
          23,
          99,
          60,
          23,
          38,
          54,
          94,
          16,
          16,
          42,
          11,
          45,
          93,
          23,
          31,
          63,
          48,
          30,
          63,
          51,
          5,
          63,
          34,
          5,
          10,
          38,
          127,
          5,
          15,
          38,
          23,
          23,
          54,
          23,
          23,
          60,
          23,
          23,
          5,
          42,
          10,
          23,
          54,
          74,
          114,
          54,
          26,
          10,
          60,
          23,
          58,
          19,
          23,
          38,
          48,
          90,
          44,
          23,
          127,
          84,
          45,
          51,
          44,
          15,
          5,
          4,
          4,
          93,
          11,
          98,
          60,
          23,
          20,
          60,
          98,
          26,
          93,
          60,
          23,
          10,
          60,
          80,
          23,
          84,
          63,
          41,
          54,
          94,
          98,
          90,
          60,
          63,
          60,
          23,
          63,
          61,
          23,
          48,
          127,
          94,
          63,
          63,
          54,
          60,
          54,
          63,
          60,
          60,
          60,
          90,
          63,
          63,
          48,
          48,
          23,
          63,
          93,
          38,
          60,
          2,
          5,
          26,
          97,
          20,
          63,
          60,
          20,
          26,
          63,
          63,
          54,
          5,
          63,
          114,
          16,
          63,
          94,
          127,
          57,
          48,
          60,
          63,
          20,
          20,
          23,
          63,
          48,
          60,
          63,
          57,
          63,
          5,
          84,
          60,
          60,
          105,
          16,
          63,
          23,
          48,
          20,
          23,
          60,
          63,
          60,
          90,
          90,
          4,
          63,
          60,
          26,
          5,
          26,
          94,
          60,
          84,
          63,
          23,
          60,
          23,
          63,
          25,
          19,
          63,
          23,
          23,
          23,
          52,
          63,
          38,
          48,
          4,
          93,
          63,
          26,
          63,
          60,
          63,
          63,
          93,
          63,
          63,
          90,
          93,
          93,
          20,
          93,
          63,
          63,
          93,
          63,
          63,
          90,
          11,
          93,
          63,
          4,
          127,
          63,
          93,
          63,
          63,
          90,
          51,
          60,
          20,
          57,
          57,
          63,
          23,
          57,
          63,
          63,
          93,
          93,
          94,
          16,
          26,
          63,
          93,
          38,
          23,
          94,
          57,
          93,
          63,
          63,
          60,
          60,
          93,
          48,
          60,
          63,
          63,
          63,
          63,
          63,
          63,
          41,
          60,
          5,
          23,
          99,
          44,
          23,
          23,
          93,
          80,
          5,
          11,
          5,
          42,
          60,
          63,
          4,
          48,
          93,
          48,
          60,
          38,
          48,
          98,
          15,
          93,
          90,
          63,
          63,
          98,
          45,
          63,
          57,
          57,
          63,
          63,
          63,
          51,
          60,
          23,
          23,
          63,
          41,
          23,
          63,
          23,
          4,
          54,
          23,
          38,
          23,
          105,
          93,
          23,
          109,
          23,
          4,
          23,
          16,
          90,
          5,
          60,
          23,
          38,
          38,
          80,
          16,
          26,
          20,
          26,
          48,
          63,
          20,
          63,
          11,
          60,
          63,
          23,
          11,
          11,
          38,
          19,
          23,
          54,
          63,
          38,
          31,
          48,
          64,
          11,
          63,
          63,
          87,
          5,
          10,
          90,
          60,
          48,
          4,
          60,
          63,
          63,
          35,
          11,
          16,
          93,
          63,
          63,
          57,
          63,
          11,
          11,
          10,
          23,
          57,
          11,
          20,
          38,
          60,
          60,
          63,
          48,
          119,
          38,
          38,
          38,
          94,
          23,
          38,
          60,
          90,
          63,
          60,
          27,
          23,
          23,
          54,
          23,
          38,
          34,
          63,
          63,
          28,
          63,
          51,
          38,
          63,
          26,
          5,
          51,
          23,
          11,
          83,
          60,
          23,
          93,
          23,
          51,
          98,
          35,
          11,
          23,
          60,
          51,
          63,
          38,
          54,
          63,
          23,
          19,
          4,
          63,
          114,
          38,
          113,
          10,
          20,
          94,
          68,
          60,
          94,
          11,
          63,
          10,
          38,
          11,
          68,
          23,
          48,
          45,
          26,
          10,
          23,
          23,
          114,
          99,
          11,
          26,
          93,
          63,
          60,
          16,
          13,
          54,
          74,
          60,
          23,
          90,
          23,
          38,
          57,
          57,
          10,
          114,
          74,
          60,
          38,
          54,
          60,
          10,
          38,
          74,
          27,
          5,
          74,
          11,
          48,
          10,
          98,
          94,
          19,
          4,
          63,
          68,
          23,
          84,
          63,
          26,
          93,
          16,
          26,
          60,
          23,
          63,
          23,
          38,
          63,
          4,
          41,
          41,
          41,
          41,
          74,
          109,
          23,
          60,
          23,
          60,
          54,
          51,
          10,
          60,
          60,
          94,
          4,
          98,
          63,
          38,
          38,
          60,
          60,
          51,
          10,
          38,
          94,
          60,
          38,
          63,
          60,
          4,
          90,
          63,
          26,
          5,
          60,
          23,
          54,
          23,
          60,
          60,
          98,
          83,
          63,
          80,
          5,
          23,
          10,
          38,
          38,
          38,
          63,
          38,
          63,
          23,
          40,
          23,
          23,
          23,
          23,
          60,
          38,
          80,
          23,
          48,
          4,
          34,
          118,
          20,
          98,
          63,
          93,
          54,
          63,
          80,
          26,
          23,
          23,
          93,
          60,
          23,
          16,
          63,
          23,
          63,
          63,
          60,
          15,
          48,
          23,
          5,
          51,
          23,
          94,
          63,
          11,
          38,
          63,
          94,
          23,
          48,
          60,
          60,
          38,
          38,
          94,
          23,
          23,
          74,
          60,
          57,
          5,
          10,
          54,
          23,
          38,
          63,
          26,
          90,
          23,
          60,
          38,
          38,
          93,
          10,
          23,
          63,
          63,
          48,
          4,
          60,
          23,
          60,
          23,
          23,
          68,
          54,
          38,
          23,
          4,
          60,
          23,
          23,
          63,
          23,
          94,
          38,
          63,
          98,
          60,
          119,
          60,
          48,
          68,
          38,
          63,
          23,
          23,
          51,
          23,
          81,
          94,
          80,
          109,
          38,
          26,
          20,
          26,
          23,
          10,
          90,
          48,
          117,
          63,
          60,
          11,
          23,
          38,
          38,
          74,
          38,
          23,
          74,
          23,
          60,
          63,
          38,
          23,
          23,
          23,
          23,
          5,
          23,
          23,
          98,
          38,
          23,
          51,
          60,
          57,
          23,
          23,
          90,
          23,
          10,
          30,
          74,
          38,
          23,
          98,
          60,
          23,
          38,
          10,
          80,
          23,
          23,
          38,
          23,
          23,
          23,
          80,
          23,
          23,
          63,
          80,
          74,
          90,
          48,
          63,
          5,
          5,
          113,
          80,
          60,
          51,
          23,
          63,
          10,
          23,
          94,
          23,
          51,
          51,
          23,
          83,
          48,
          63,
          4,
          94,
          114,
          63,
          60,
          124,
          23,
          31,
          38,
          38,
          60,
          58,
          26,
          23,
          11,
          4,
          63,
          48,
          38,
          63,
          93,
          10,
          4,
          23,
          48,
          2,
          60,
          15,
          26,
          60,
          26,
          51,
          1,
          26,
          19,
          2,
          71,
          87,
          19,
          10,
          3,
          1,
          2,
          2,
          1,
          23,
          3,
          2,
          51,
          60,
          71,
          26,
          15,
          5,
          51,
          8,
          1,
          1,
          4,
          1,
          23,
          1,
          3,
          10,
          10,
          26,
          3,
          23,
          4,
          8,
          26,
          1,
          5,
          2,
          51,
          3,
          26,
          60,
          26,
          26,
          4,
          15,
          3,
          3,
          5,
          5,
          2,
          3,
          7,
          3,
          23,
          1,
          1,
          4,
          15,
          26,
          41,
          2,
          14,
          2,
          26,
          26,
          15,
          57,
          5,
          23,
          4,
          8,
          1,
          1,
          2,
          7,
          4,
          26,
          4,
          3,
          10,
          60,
          26,
          4,
          1,
          15,
          4,
          3,
          1,
          2,
          26,
          41,
          8,
          4,
          14,
          5,
          51,
          60,
          5,
          19,
          4,
          1,
          3,
          19,
          26,
          51,
          5,
          57,
          1,
          4,
          90,
          41,
          4,
          60,
          51,
          10,
          15,
          2,
          26,
          4,
          5,
          3,
          10,
          26,
          90,
          2,
          4,
          1,
          87,
          60,
          19,
          2,
          26,
          4,
          87,
          26,
          51,
          2,
          71,
          4,
          1,
          23,
          1,
          26,
          2,
          4,
          51,
          3,
          1,
          71,
          5,
          51,
          3,
          51,
          41,
          10,
          87,
          23,
          5,
          87,
          87,
          5,
          10,
          5,
          10,
          26,
          57,
          51,
          26,
          15,
          14,
          23,
          23,
          26,
          1,
          87,
          4,
          8,
          51,
          41,
          5,
          3,
          5,
          1,
          1,
          26,
          8,
          3,
          41,
          26,
          5,
          10,
          15,
          11,
          1,
          3,
          4,
          3,
          1,
          4,
          5,
          4,
          3,
          4,
          51,
          71,
          51,
          2,
          4,
          2,
          2,
          4,
          19,
          26,
          15,
          10,
          3,
          5,
          90,
          4,
          3,
          19,
          5,
          23,
          4,
          15,
          48,
          15,
          23,
          1,
          3,
          1,
          7,
          4,
          10,
          51,
          10,
          4,
          8,
          2,
          1,
          3,
          4,
          26,
          1,
          3,
          26,
          1,
          26,
          3,
          19,
          4,
          19,
          1,
          26,
          3,
          10,
          26,
          4,
          60,
          10,
          51,
          26,
          26,
          4,
          26,
          23,
          71,
          3,
          19,
          4,
          4,
          5,
          5,
          3,
          2,
          15,
          19,
          5,
          26,
          5,
          23,
          5,
          60,
          1,
          19,
          5,
          23,
          1,
          51,
          4,
          60,
          23,
          4,
          16,
          19,
          19,
          60,
          26,
          26,
          2,
          19,
          3,
          15,
          5,
          23,
          19,
          10,
          2,
          60,
          23,
          4,
          60,
          3,
          3,
          15,
          15,
          5,
          3,
          51,
          3,
          26,
          23,
          3,
          23,
          14,
          23,
          3,
          5,
          23,
          4,
          2,
          2,
          1,
          16,
          23,
          60,
          60,
          60,
          3,
          26,
          4,
          4,
          4,
          4,
          3,
          26,
          60,
          15,
          2,
          2,
          2,
          1,
          4,
          23,
          51,
          15,
          3,
          51,
          15,
          23,
          1,
          4,
          1,
          26,
          19,
          5,
          4,
          26,
          10,
          4,
          60,
          51,
          4,
          5,
          4,
          1,
          2,
          26,
          15,
          15,
          90,
          5,
          60,
          4,
          51,
          23,
          5,
          5,
          4,
          26,
          2,
          5,
          5,
          23,
          1,
          1,
          4,
          1,
          15,
          57,
          1,
          19,
          60,
          60,
          4,
          1,
          26,
          4,
          10,
          15,
          1,
          15,
          15,
          19,
          15,
          3,
          19,
          19,
          19,
          2,
          87,
          26,
          57,
          51,
          4,
          15,
          15,
          2,
          26,
          4,
          60,
          1,
          3,
          4,
          1,
          3,
          2,
          15,
          5,
          1,
          4,
          26,
          60,
          2,
          5,
          51,
          51,
          2,
          1,
          5,
          2,
          60,
          2,
          3,
          15,
          4,
          2,
          4,
          3,
          1,
          23,
          26,
          1,
          51,
          1,
          15,
          2,
          2,
          51,
          10,
          26,
          3,
          4,
          4,
          2,
          4,
          4,
          1,
          57,
          15,
          3,
          57,
          1,
          2,
          60,
          15,
          26,
          20
         ],
         "xaxis": "x",
         "yaxis": "y"
        }
       ],
       "layout": {
        "barmode": "relative",
        "legend": {
         "tracegroupgap": 0
        },
        "template": {
         "data": {
          "bar": [
           {
            "error_x": {
             "color": "#2a3f5f"
            },
            "error_y": {
             "color": "#2a3f5f"
            },
            "marker": {
             "line": {
              "color": "#E5ECF6",
              "width": 0.5
             },
             "pattern": {
              "fillmode": "overlay",
              "size": 10,
              "solidity": 0.2
             }
            },
            "type": "bar"
           }
          ],
          "barpolar": [
           {
            "marker": {
             "line": {
              "color": "#E5ECF6",
              "width": 0.5
             },
             "pattern": {
              "fillmode": "overlay",
              "size": 10,
              "solidity": 0.2
             }
            },
            "type": "barpolar"
           }
          ],
          "carpet": [
           {
            "aaxis": {
             "endlinecolor": "#2a3f5f",
             "gridcolor": "white",
             "linecolor": "white",
             "minorgridcolor": "white",
             "startlinecolor": "#2a3f5f"
            },
            "baxis": {
             "endlinecolor": "#2a3f5f",
             "gridcolor": "white",
             "linecolor": "white",
             "minorgridcolor": "white",
             "startlinecolor": "#2a3f5f"
            },
            "type": "carpet"
           }
          ],
          "choropleth": [
           {
            "colorbar": {
             "outlinewidth": 0,
             "ticks": ""
            },
            "type": "choropleth"
           }
          ],
          "contour": [
           {
            "colorbar": {
             "outlinewidth": 0,
             "ticks": ""
            },
            "colorscale": [
             [
              0,
              "#0d0887"
             ],
             [
              0.1111111111111111,
              "#46039f"
             ],
             [
              0.2222222222222222,
              "#7201a8"
             ],
             [
              0.3333333333333333,
              "#9c179e"
             ],
             [
              0.4444444444444444,
              "#bd3786"
             ],
             [
              0.5555555555555556,
              "#d8576b"
             ],
             [
              0.6666666666666666,
              "#ed7953"
             ],
             [
              0.7777777777777778,
              "#fb9f3a"
             ],
             [
              0.8888888888888888,
              "#fdca26"
             ],
             [
              1,
              "#f0f921"
             ]
            ],
            "type": "contour"
           }
          ],
          "contourcarpet": [
           {
            "colorbar": {
             "outlinewidth": 0,
             "ticks": ""
            },
            "type": "contourcarpet"
           }
          ],
          "heatmap": [
           {
            "colorbar": {
             "outlinewidth": 0,
             "ticks": ""
            },
            "colorscale": [
             [
              0,
              "#0d0887"
             ],
             [
              0.1111111111111111,
              "#46039f"
             ],
             [
              0.2222222222222222,
              "#7201a8"
             ],
             [
              0.3333333333333333,
              "#9c179e"
             ],
             [
              0.4444444444444444,
              "#bd3786"
             ],
             [
              0.5555555555555556,
              "#d8576b"
             ],
             [
              0.6666666666666666,
              "#ed7953"
             ],
             [
              0.7777777777777778,
              "#fb9f3a"
             ],
             [
              0.8888888888888888,
              "#fdca26"
             ],
             [
              1,
              "#f0f921"
             ]
            ],
            "type": "heatmap"
           }
          ],
          "heatmapgl": [
           {
            "colorbar": {
             "outlinewidth": 0,
             "ticks": ""
            },
            "colorscale": [
             [
              0,
              "#0d0887"
             ],
             [
              0.1111111111111111,
              "#46039f"
             ],
             [
              0.2222222222222222,
              "#7201a8"
             ],
             [
              0.3333333333333333,
              "#9c179e"
             ],
             [
              0.4444444444444444,
              "#bd3786"
             ],
             [
              0.5555555555555556,
              "#d8576b"
             ],
             [
              0.6666666666666666,
              "#ed7953"
             ],
             [
              0.7777777777777778,
              "#fb9f3a"
             ],
             [
              0.8888888888888888,
              "#fdca26"
             ],
             [
              1,
              "#f0f921"
             ]
            ],
            "type": "heatmapgl"
           }
          ],
          "histogram": [
           {
            "marker": {
             "pattern": {
              "fillmode": "overlay",
              "size": 10,
              "solidity": 0.2
             }
            },
            "type": "histogram"
           }
          ],
          "histogram2d": [
           {
            "colorbar": {
             "outlinewidth": 0,
             "ticks": ""
            },
            "colorscale": [
             [
              0,
              "#0d0887"
             ],
             [
              0.1111111111111111,
              "#46039f"
             ],
             [
              0.2222222222222222,
              "#7201a8"
             ],
             [
              0.3333333333333333,
              "#9c179e"
             ],
             [
              0.4444444444444444,
              "#bd3786"
             ],
             [
              0.5555555555555556,
              "#d8576b"
             ],
             [
              0.6666666666666666,
              "#ed7953"
             ],
             [
              0.7777777777777778,
              "#fb9f3a"
             ],
             [
              0.8888888888888888,
              "#fdca26"
             ],
             [
              1,
              "#f0f921"
             ]
            ],
            "type": "histogram2d"
           }
          ],
          "histogram2dcontour": [
           {
            "colorbar": {
             "outlinewidth": 0,
             "ticks": ""
            },
            "colorscale": [
             [
              0,
              "#0d0887"
             ],
             [
              0.1111111111111111,
              "#46039f"
             ],
             [
              0.2222222222222222,
              "#7201a8"
             ],
             [
              0.3333333333333333,
              "#9c179e"
             ],
             [
              0.4444444444444444,
              "#bd3786"
             ],
             [
              0.5555555555555556,
              "#d8576b"
             ],
             [
              0.6666666666666666,
              "#ed7953"
             ],
             [
              0.7777777777777778,
              "#fb9f3a"
             ],
             [
              0.8888888888888888,
              "#fdca26"
             ],
             [
              1,
              "#f0f921"
             ]
            ],
            "type": "histogram2dcontour"
           }
          ],
          "mesh3d": [
           {
            "colorbar": {
             "outlinewidth": 0,
             "ticks": ""
            },
            "type": "mesh3d"
           }
          ],
          "parcoords": [
           {
            "line": {
             "colorbar": {
              "outlinewidth": 0,
              "ticks": ""
             }
            },
            "type": "parcoords"
           }
          ],
          "pie": [
           {
            "automargin": true,
            "type": "pie"
           }
          ],
          "scatter": [
           {
            "fillpattern": {
             "fillmode": "overlay",
             "size": 10,
             "solidity": 0.2
            },
            "type": "scatter"
           }
          ],
          "scatter3d": [
           {
            "line": {
             "colorbar": {
              "outlinewidth": 0,
              "ticks": ""
             }
            },
            "marker": {
             "colorbar": {
              "outlinewidth": 0,
              "ticks": ""
             }
            },
            "type": "scatter3d"
           }
          ],
          "scattercarpet": [
           {
            "marker": {
             "colorbar": {
              "outlinewidth": 0,
              "ticks": ""
             }
            },
            "type": "scattercarpet"
           }
          ],
          "scattergeo": [
           {
            "marker": {
             "colorbar": {
              "outlinewidth": 0,
              "ticks": ""
             }
            },
            "type": "scattergeo"
           }
          ],
          "scattergl": [
           {
            "marker": {
             "colorbar": {
              "outlinewidth": 0,
              "ticks": ""
             }
            },
            "type": "scattergl"
           }
          ],
          "scattermapbox": [
           {
            "marker": {
             "colorbar": {
              "outlinewidth": 0,
              "ticks": ""
             }
            },
            "type": "scattermapbox"
           }
          ],
          "scatterpolar": [
           {
            "marker": {
             "colorbar": {
              "outlinewidth": 0,
              "ticks": ""
             }
            },
            "type": "scatterpolar"
           }
          ],
          "scatterpolargl": [
           {
            "marker": {
             "colorbar": {
              "outlinewidth": 0,
              "ticks": ""
             }
            },
            "type": "scatterpolargl"
           }
          ],
          "scatterternary": [
           {
            "marker": {
             "colorbar": {
              "outlinewidth": 0,
              "ticks": ""
             }
            },
            "type": "scatterternary"
           }
          ],
          "surface": [
           {
            "colorbar": {
             "outlinewidth": 0,
             "ticks": ""
            },
            "colorscale": [
             [
              0,
              "#0d0887"
             ],
             [
              0.1111111111111111,
              "#46039f"
             ],
             [
              0.2222222222222222,
              "#7201a8"
             ],
             [
              0.3333333333333333,
              "#9c179e"
             ],
             [
              0.4444444444444444,
              "#bd3786"
             ],
             [
              0.5555555555555556,
              "#d8576b"
             ],
             [
              0.6666666666666666,
              "#ed7953"
             ],
             [
              0.7777777777777778,
              "#fb9f3a"
             ],
             [
              0.8888888888888888,
              "#fdca26"
             ],
             [
              1,
              "#f0f921"
             ]
            ],
            "type": "surface"
           }
          ],
          "table": [
           {
            "cells": {
             "fill": {
              "color": "#EBF0F8"
             },
             "line": {
              "color": "white"
             }
            },
            "header": {
             "fill": {
              "color": "#C8D4E3"
             },
             "line": {
              "color": "white"
             }
            },
            "type": "table"
           }
          ]
         },
         "layout": {
          "annotationdefaults": {
           "arrowcolor": "#2a3f5f",
           "arrowhead": 0,
           "arrowwidth": 1
          },
          "autotypenumbers": "strict",
          "coloraxis": {
           "colorbar": {
            "outlinewidth": 0,
            "ticks": ""
           }
          },
          "colorscale": {
           "diverging": [
            [
             0,
             "#8e0152"
            ],
            [
             0.1,
             "#c51b7d"
            ],
            [
             0.2,
             "#de77ae"
            ],
            [
             0.3,
             "#f1b6da"
            ],
            [
             0.4,
             "#fde0ef"
            ],
            [
             0.5,
             "#f7f7f7"
            ],
            [
             0.6,
             "#e6f5d0"
            ],
            [
             0.7,
             "#b8e186"
            ],
            [
             0.8,
             "#7fbc41"
            ],
            [
             0.9,
             "#4d9221"
            ],
            [
             1,
             "#276419"
            ]
           ],
           "sequential": [
            [
             0,
             "#0d0887"
            ],
            [
             0.1111111111111111,
             "#46039f"
            ],
            [
             0.2222222222222222,
             "#7201a8"
            ],
            [
             0.3333333333333333,
             "#9c179e"
            ],
            [
             0.4444444444444444,
             "#bd3786"
            ],
            [
             0.5555555555555556,
             "#d8576b"
            ],
            [
             0.6666666666666666,
             "#ed7953"
            ],
            [
             0.7777777777777778,
             "#fb9f3a"
            ],
            [
             0.8888888888888888,
             "#fdca26"
            ],
            [
             1,
             "#f0f921"
            ]
           ],
           "sequentialminus": [
            [
             0,
             "#0d0887"
            ],
            [
             0.1111111111111111,
             "#46039f"
            ],
            [
             0.2222222222222222,
             "#7201a8"
            ],
            [
             0.3333333333333333,
             "#9c179e"
            ],
            [
             0.4444444444444444,
             "#bd3786"
            ],
            [
             0.5555555555555556,
             "#d8576b"
            ],
            [
             0.6666666666666666,
             "#ed7953"
            ],
            [
             0.7777777777777778,
             "#fb9f3a"
            ],
            [
             0.8888888888888888,
             "#fdca26"
            ],
            [
             1,
             "#f0f921"
            ]
           ]
          },
          "colorway": [
           "#636efa",
           "#EF553B",
           "#00cc96",
           "#ab63fa",
           "#FFA15A",
           "#19d3f3",
           "#FF6692",
           "#B6E880",
           "#FF97FF",
           "#FECB52"
          ],
          "font": {
           "color": "#2a3f5f"
          },
          "geo": {
           "bgcolor": "white",
           "lakecolor": "white",
           "landcolor": "#E5ECF6",
           "showlakes": true,
           "showland": true,
           "subunitcolor": "white"
          },
          "hoverlabel": {
           "align": "left"
          },
          "hovermode": "closest",
          "mapbox": {
           "style": "light"
          },
          "paper_bgcolor": "white",
          "plot_bgcolor": "#E5ECF6",
          "polar": {
           "angularaxis": {
            "gridcolor": "white",
            "linecolor": "white",
            "ticks": ""
           },
           "bgcolor": "#E5ECF6",
           "radialaxis": {
            "gridcolor": "white",
            "linecolor": "white",
            "ticks": ""
           }
          },
          "scene": {
           "xaxis": {
            "backgroundcolor": "#E5ECF6",
            "gridcolor": "white",
            "gridwidth": 2,
            "linecolor": "white",
            "showbackground": true,
            "ticks": "",
            "zerolinecolor": "white"
           },
           "yaxis": {
            "backgroundcolor": "#E5ECF6",
            "gridcolor": "white",
            "gridwidth": 2,
            "linecolor": "white",
            "showbackground": true,
            "ticks": "",
            "zerolinecolor": "white"
           },
           "zaxis": {
            "backgroundcolor": "#E5ECF6",
            "gridcolor": "white",
            "gridwidth": 2,
            "linecolor": "white",
            "showbackground": true,
            "ticks": "",
            "zerolinecolor": "white"
           }
          },
          "shapedefaults": {
           "line": {
            "color": "#2a3f5f"
           }
          },
          "ternary": {
           "aaxis": {
            "gridcolor": "white",
            "linecolor": "white",
            "ticks": ""
           },
           "baxis": {
            "gridcolor": "white",
            "linecolor": "white",
            "ticks": ""
           },
           "bgcolor": "#E5ECF6",
           "caxis": {
            "gridcolor": "white",
            "linecolor": "white",
            "ticks": ""
           }
          },
          "title": {
           "x": 0.05
          },
          "xaxis": {
           "automargin": true,
           "gridcolor": "white",
           "linecolor": "white",
           "ticks": "",
           "title": {
            "standoff": 15
           },
           "zerolinecolor": "white",
           "zerolinewidth": 2
          },
          "yaxis": {
           "automargin": true,
           "gridcolor": "white",
           "linecolor": "white",
           "ticks": "",
           "title": {
            "standoff": 15
           },
           "zerolinecolor": "white",
           "zerolinewidth": 2
          }
         }
        },
        "title": {
         "text": "Distribution of Labels"
        },
        "xaxis": {
         "anchor": "y",
         "domain": [
          0,
          1
         ],
         "tickangle": 90,
         "title": {
          "text": "Label"
         }
        },
        "yaxis": {
         "anchor": "x",
         "domain": [
          0,
          1
         ],
         "title": {
          "text": "count"
         }
        }
       }
      }
     },
     "metadata": {},
     "output_type": "display_data"
    }
   ],
   "source": [
    "# Histogram oluşturma\n",
    "fig = px.histogram(df, x='label', title='Distribution of Labels', labels={'label': 'Label'}, \n",
    "                   color_discrete_sequence=['#1f77b4'])  # Blue color from a professional palette\n",
    "\n",
    "# X eksenindeki etiketlerin döndürülmesi\n",
    "fig.update_xaxes(tickangle=90)\n",
    "\n",
    "# Grafiği göster\n",
    "fig.show()"
   ]
  },
  {
   "cell_type": "code",
   "execution_count": 89,
   "metadata": {},
   "outputs": [
    {
     "data": {
      "application/vnd.plotly.v1+json": {
       "config": {
        "plotlyServerURL": "https://plot.ly"
       },
       "data": [
        {
         "domain": {
          "x": [
           0,
           1
          ],
          "y": [
           0,
           1
          ]
         },
         "hovertemplate": "label=%{label}<br>count=%{value}<extra></extra>",
         "labels": [
          23,
          1,
          4,
          60,
          8,
          63,
          10,
          9,
          13,
          38,
          26,
          5,
          15,
          48,
          2,
          90,
          51,
          3,
          94,
          54,
          "Other"
         ],
         "legendgroup": "",
         "name": "",
         "showlegend": true,
         "type": "pie",
         "values": [
          238,
          228,
          208,
          200,
          179,
          176,
          164,
          129,
          128,
          93,
          89,
          80,
          78,
          76,
          75,
          60,
          59,
          58,
          47,
          45,
          1441
         ]
        }
       ],
       "layout": {
        "legend": {
         "tracegroupgap": 0
        },
        "piecolorway": [
         "#0d0887",
         "#46039f",
         "#7201a8",
         "#9c179e",
         "#bd3786",
         "#d8576b",
         "#ed7953",
         "#fb9f3a",
         "#fdca26",
         "#f0f921"
        ],
        "template": {
         "data": {
          "bar": [
           {
            "error_x": {
             "color": "#2a3f5f"
            },
            "error_y": {
             "color": "#2a3f5f"
            },
            "marker": {
             "line": {
              "color": "#E5ECF6",
              "width": 0.5
             },
             "pattern": {
              "fillmode": "overlay",
              "size": 10,
              "solidity": 0.2
             }
            },
            "type": "bar"
           }
          ],
          "barpolar": [
           {
            "marker": {
             "line": {
              "color": "#E5ECF6",
              "width": 0.5
             },
             "pattern": {
              "fillmode": "overlay",
              "size": 10,
              "solidity": 0.2
             }
            },
            "type": "barpolar"
           }
          ],
          "carpet": [
           {
            "aaxis": {
             "endlinecolor": "#2a3f5f",
             "gridcolor": "white",
             "linecolor": "white",
             "minorgridcolor": "white",
             "startlinecolor": "#2a3f5f"
            },
            "baxis": {
             "endlinecolor": "#2a3f5f",
             "gridcolor": "white",
             "linecolor": "white",
             "minorgridcolor": "white",
             "startlinecolor": "#2a3f5f"
            },
            "type": "carpet"
           }
          ],
          "choropleth": [
           {
            "colorbar": {
             "outlinewidth": 0,
             "ticks": ""
            },
            "type": "choropleth"
           }
          ],
          "contour": [
           {
            "colorbar": {
             "outlinewidth": 0,
             "ticks": ""
            },
            "colorscale": [
             [
              0,
              "#0d0887"
             ],
             [
              0.1111111111111111,
              "#46039f"
             ],
             [
              0.2222222222222222,
              "#7201a8"
             ],
             [
              0.3333333333333333,
              "#9c179e"
             ],
             [
              0.4444444444444444,
              "#bd3786"
             ],
             [
              0.5555555555555556,
              "#d8576b"
             ],
             [
              0.6666666666666666,
              "#ed7953"
             ],
             [
              0.7777777777777778,
              "#fb9f3a"
             ],
             [
              0.8888888888888888,
              "#fdca26"
             ],
             [
              1,
              "#f0f921"
             ]
            ],
            "type": "contour"
           }
          ],
          "contourcarpet": [
           {
            "colorbar": {
             "outlinewidth": 0,
             "ticks": ""
            },
            "type": "contourcarpet"
           }
          ],
          "heatmap": [
           {
            "colorbar": {
             "outlinewidth": 0,
             "ticks": ""
            },
            "colorscale": [
             [
              0,
              "#0d0887"
             ],
             [
              0.1111111111111111,
              "#46039f"
             ],
             [
              0.2222222222222222,
              "#7201a8"
             ],
             [
              0.3333333333333333,
              "#9c179e"
             ],
             [
              0.4444444444444444,
              "#bd3786"
             ],
             [
              0.5555555555555556,
              "#d8576b"
             ],
             [
              0.6666666666666666,
              "#ed7953"
             ],
             [
              0.7777777777777778,
              "#fb9f3a"
             ],
             [
              0.8888888888888888,
              "#fdca26"
             ],
             [
              1,
              "#f0f921"
             ]
            ],
            "type": "heatmap"
           }
          ],
          "heatmapgl": [
           {
            "colorbar": {
             "outlinewidth": 0,
             "ticks": ""
            },
            "colorscale": [
             [
              0,
              "#0d0887"
             ],
             [
              0.1111111111111111,
              "#46039f"
             ],
             [
              0.2222222222222222,
              "#7201a8"
             ],
             [
              0.3333333333333333,
              "#9c179e"
             ],
             [
              0.4444444444444444,
              "#bd3786"
             ],
             [
              0.5555555555555556,
              "#d8576b"
             ],
             [
              0.6666666666666666,
              "#ed7953"
             ],
             [
              0.7777777777777778,
              "#fb9f3a"
             ],
             [
              0.8888888888888888,
              "#fdca26"
             ],
             [
              1,
              "#f0f921"
             ]
            ],
            "type": "heatmapgl"
           }
          ],
          "histogram": [
           {
            "marker": {
             "pattern": {
              "fillmode": "overlay",
              "size": 10,
              "solidity": 0.2
             }
            },
            "type": "histogram"
           }
          ],
          "histogram2d": [
           {
            "colorbar": {
             "outlinewidth": 0,
             "ticks": ""
            },
            "colorscale": [
             [
              0,
              "#0d0887"
             ],
             [
              0.1111111111111111,
              "#46039f"
             ],
             [
              0.2222222222222222,
              "#7201a8"
             ],
             [
              0.3333333333333333,
              "#9c179e"
             ],
             [
              0.4444444444444444,
              "#bd3786"
             ],
             [
              0.5555555555555556,
              "#d8576b"
             ],
             [
              0.6666666666666666,
              "#ed7953"
             ],
             [
              0.7777777777777778,
              "#fb9f3a"
             ],
             [
              0.8888888888888888,
              "#fdca26"
             ],
             [
              1,
              "#f0f921"
             ]
            ],
            "type": "histogram2d"
           }
          ],
          "histogram2dcontour": [
           {
            "colorbar": {
             "outlinewidth": 0,
             "ticks": ""
            },
            "colorscale": [
             [
              0,
              "#0d0887"
             ],
             [
              0.1111111111111111,
              "#46039f"
             ],
             [
              0.2222222222222222,
              "#7201a8"
             ],
             [
              0.3333333333333333,
              "#9c179e"
             ],
             [
              0.4444444444444444,
              "#bd3786"
             ],
             [
              0.5555555555555556,
              "#d8576b"
             ],
             [
              0.6666666666666666,
              "#ed7953"
             ],
             [
              0.7777777777777778,
              "#fb9f3a"
             ],
             [
              0.8888888888888888,
              "#fdca26"
             ],
             [
              1,
              "#f0f921"
             ]
            ],
            "type": "histogram2dcontour"
           }
          ],
          "mesh3d": [
           {
            "colorbar": {
             "outlinewidth": 0,
             "ticks": ""
            },
            "type": "mesh3d"
           }
          ],
          "parcoords": [
           {
            "line": {
             "colorbar": {
              "outlinewidth": 0,
              "ticks": ""
             }
            },
            "type": "parcoords"
           }
          ],
          "pie": [
           {
            "automargin": true,
            "type": "pie"
           }
          ],
          "scatter": [
           {
            "fillpattern": {
             "fillmode": "overlay",
             "size": 10,
             "solidity": 0.2
            },
            "type": "scatter"
           }
          ],
          "scatter3d": [
           {
            "line": {
             "colorbar": {
              "outlinewidth": 0,
              "ticks": ""
             }
            },
            "marker": {
             "colorbar": {
              "outlinewidth": 0,
              "ticks": ""
             }
            },
            "type": "scatter3d"
           }
          ],
          "scattercarpet": [
           {
            "marker": {
             "colorbar": {
              "outlinewidth": 0,
              "ticks": ""
             }
            },
            "type": "scattercarpet"
           }
          ],
          "scattergeo": [
           {
            "marker": {
             "colorbar": {
              "outlinewidth": 0,
              "ticks": ""
             }
            },
            "type": "scattergeo"
           }
          ],
          "scattergl": [
           {
            "marker": {
             "colorbar": {
              "outlinewidth": 0,
              "ticks": ""
             }
            },
            "type": "scattergl"
           }
          ],
          "scattermapbox": [
           {
            "marker": {
             "colorbar": {
              "outlinewidth": 0,
              "ticks": ""
             }
            },
            "type": "scattermapbox"
           }
          ],
          "scatterpolar": [
           {
            "marker": {
             "colorbar": {
              "outlinewidth": 0,
              "ticks": ""
             }
            },
            "type": "scatterpolar"
           }
          ],
          "scatterpolargl": [
           {
            "marker": {
             "colorbar": {
              "outlinewidth": 0,
              "ticks": ""
             }
            },
            "type": "scatterpolargl"
           }
          ],
          "scatterternary": [
           {
            "marker": {
             "colorbar": {
              "outlinewidth": 0,
              "ticks": ""
             }
            },
            "type": "scatterternary"
           }
          ],
          "surface": [
           {
            "colorbar": {
             "outlinewidth": 0,
             "ticks": ""
            },
            "colorscale": [
             [
              0,
              "#0d0887"
             ],
             [
              0.1111111111111111,
              "#46039f"
             ],
             [
              0.2222222222222222,
              "#7201a8"
             ],
             [
              0.3333333333333333,
              "#9c179e"
             ],
             [
              0.4444444444444444,
              "#bd3786"
             ],
             [
              0.5555555555555556,
              "#d8576b"
             ],
             [
              0.6666666666666666,
              "#ed7953"
             ],
             [
              0.7777777777777778,
              "#fb9f3a"
             ],
             [
              0.8888888888888888,
              "#fdca26"
             ],
             [
              1,
              "#f0f921"
             ]
            ],
            "type": "surface"
           }
          ],
          "table": [
           {
            "cells": {
             "fill": {
              "color": "#EBF0F8"
             },
             "line": {
              "color": "white"
             }
            },
            "header": {
             "fill": {
              "color": "#C8D4E3"
             },
             "line": {
              "color": "white"
             }
            },
            "type": "table"
           }
          ]
         },
         "layout": {
          "annotationdefaults": {
           "arrowcolor": "#2a3f5f",
           "arrowhead": 0,
           "arrowwidth": 1
          },
          "autotypenumbers": "strict",
          "coloraxis": {
           "colorbar": {
            "outlinewidth": 0,
            "ticks": ""
           }
          },
          "colorscale": {
           "diverging": [
            [
             0,
             "#8e0152"
            ],
            [
             0.1,
             "#c51b7d"
            ],
            [
             0.2,
             "#de77ae"
            ],
            [
             0.3,
             "#f1b6da"
            ],
            [
             0.4,
             "#fde0ef"
            ],
            [
             0.5,
             "#f7f7f7"
            ],
            [
             0.6,
             "#e6f5d0"
            ],
            [
             0.7,
             "#b8e186"
            ],
            [
             0.8,
             "#7fbc41"
            ],
            [
             0.9,
             "#4d9221"
            ],
            [
             1,
             "#276419"
            ]
           ],
           "sequential": [
            [
             0,
             "#0d0887"
            ],
            [
             0.1111111111111111,
             "#46039f"
            ],
            [
             0.2222222222222222,
             "#7201a8"
            ],
            [
             0.3333333333333333,
             "#9c179e"
            ],
            [
             0.4444444444444444,
             "#bd3786"
            ],
            [
             0.5555555555555556,
             "#d8576b"
            ],
            [
             0.6666666666666666,
             "#ed7953"
            ],
            [
             0.7777777777777778,
             "#fb9f3a"
            ],
            [
             0.8888888888888888,
             "#fdca26"
            ],
            [
             1,
             "#f0f921"
            ]
           ],
           "sequentialminus": [
            [
             0,
             "#0d0887"
            ],
            [
             0.1111111111111111,
             "#46039f"
            ],
            [
             0.2222222222222222,
             "#7201a8"
            ],
            [
             0.3333333333333333,
             "#9c179e"
            ],
            [
             0.4444444444444444,
             "#bd3786"
            ],
            [
             0.5555555555555556,
             "#d8576b"
            ],
            [
             0.6666666666666666,
             "#ed7953"
            ],
            [
             0.7777777777777778,
             "#fb9f3a"
            ],
            [
             0.8888888888888888,
             "#fdca26"
            ],
            [
             1,
             "#f0f921"
            ]
           ]
          },
          "colorway": [
           "#636efa",
           "#EF553B",
           "#00cc96",
           "#ab63fa",
           "#FFA15A",
           "#19d3f3",
           "#FF6692",
           "#B6E880",
           "#FF97FF",
           "#FECB52"
          ],
          "font": {
           "color": "#2a3f5f"
          },
          "geo": {
           "bgcolor": "white",
           "lakecolor": "white",
           "landcolor": "#E5ECF6",
           "showlakes": true,
           "showland": true,
           "subunitcolor": "white"
          },
          "hoverlabel": {
           "align": "left"
          },
          "hovermode": "closest",
          "mapbox": {
           "style": "light"
          },
          "paper_bgcolor": "white",
          "plot_bgcolor": "#E5ECF6",
          "polar": {
           "angularaxis": {
            "gridcolor": "white",
            "linecolor": "white",
            "ticks": ""
           },
           "bgcolor": "#E5ECF6",
           "radialaxis": {
            "gridcolor": "white",
            "linecolor": "white",
            "ticks": ""
           }
          },
          "scene": {
           "xaxis": {
            "backgroundcolor": "#E5ECF6",
            "gridcolor": "white",
            "gridwidth": 2,
            "linecolor": "white",
            "showbackground": true,
            "ticks": "",
            "zerolinecolor": "white"
           },
           "yaxis": {
            "backgroundcolor": "#E5ECF6",
            "gridcolor": "white",
            "gridwidth": 2,
            "linecolor": "white",
            "showbackground": true,
            "ticks": "",
            "zerolinecolor": "white"
           },
           "zaxis": {
            "backgroundcolor": "#E5ECF6",
            "gridcolor": "white",
            "gridwidth": 2,
            "linecolor": "white",
            "showbackground": true,
            "ticks": "",
            "zerolinecolor": "white"
           }
          },
          "shapedefaults": {
           "line": {
            "color": "#2a3f5f"
           }
          },
          "ternary": {
           "aaxis": {
            "gridcolor": "white",
            "linecolor": "white",
            "ticks": ""
           },
           "baxis": {
            "gridcolor": "white",
            "linecolor": "white",
            "ticks": ""
           },
           "bgcolor": "#E5ECF6",
           "caxis": {
            "gridcolor": "white",
            "linecolor": "white",
            "ticks": ""
           }
          },
          "title": {
           "x": 0.05
          },
          "xaxis": {
           "automargin": true,
           "gridcolor": "white",
           "linecolor": "white",
           "ticks": "",
           "title": {
            "standoff": 15
           },
           "zerolinecolor": "white",
           "zerolinewidth": 2
          },
          "yaxis": {
           "automargin": true,
           "gridcolor": "white",
           "linecolor": "white",
           "ticks": "",
           "title": {
            "standoff": 15
           },
           "zerolinecolor": "white",
           "zerolinewidth": 2
          }
         }
        },
        "title": {
         "text": "Label Distribution"
        }
       }
      }
     },
     "metadata": {},
     "output_type": "display_data"
    }
   ],
   "source": [
    "# En yüksek 10 etiket ve geri kalanını 'Diğer' olarak grupla\n",
    "top_labels = label_counts.head(20)\n",
    "other_labels = label_counts.tail(-10).sum()\n",
    "other_df = pd.DataFrame({'label': ['Other'], 'count': [other_labels['count']]})\n",
    "final_df = pd.concat([top_labels, other_df], ignore_index=True)\n",
    "\n",
    "# Pasta grafiği oluşturma\n",
    "fig = px.pie(final_df, names='label', values='count', title='Label Distribution',\n",
    "             color_discrete_sequence=px.colors.sequential.Plasma)\n",
    "\n",
    "# Grafiği göster\n",
    "fig.show()"
   ]
  },
  {
   "cell_type": "code",
   "execution_count": 90,
   "metadata": {},
   "outputs": [
    {
     "data": {
      "application/vnd.plotly.v1+json": {
       "config": {
        "plotlyServerURL": "https://plot.ly"
       },
       "data": [
        {
         "marker": {
          "color": "#ff7f0e"
         },
         "text": [
          238,
          228,
          208,
          200,
          179,
          176,
          164,
          129,
          128,
          93,
          89,
          80,
          78,
          76,
          75,
          60,
          59,
          58,
          47,
          45,
          43,
          41,
          40,
          40,
          40,
          39,
          37,
          33,
          32,
          32,
          30,
          28,
          26,
          20,
          19,
          15,
          13,
          13,
          12,
          12,
          11,
          11,
          11,
          10,
          10,
          9,
          9,
          9,
          9,
          9,
          8,
          8,
          7,
          7,
          7,
          7,
          6,
          5,
          5,
          4,
          4,
          4,
          3,
          3,
          3,
          3,
          3,
          3,
          2,
          2,
          2,
          2,
          2,
          2,
          1,
          1,
          1,
          1,
          1,
          1,
          1,
          1,
          1
         ],
         "textposition": "outside",
         "type": "bar",
         "x": [
          23,
          1,
          4,
          60,
          8,
          63,
          10,
          9,
          13,
          38,
          26,
          5,
          15,
          48,
          2,
          90,
          51,
          3,
          94,
          54,
          7,
          29,
          93,
          16,
          19,
          34,
          30,
          57,
          74,
          11,
          20,
          80,
          40,
          98,
          41,
          114,
          87,
          84,
          33,
          68,
          64,
          120,
          27,
          45,
          25,
          109,
          83,
          37,
          42,
          99,
          28,
          18,
          105,
          71,
          76,
          127,
          31,
          14,
          44,
          113,
          52,
          35,
          58,
          49,
          61,
          70,
          119,
          50,
          97,
          81,
          117,
          22,
          65,
          118,
          115,
          126,
          24,
          53,
          47,
          67,
          75,
          91,
          124
         ],
         "y": [
          238,
          228,
          208,
          200,
          179,
          176,
          164,
          129,
          128,
          93,
          89,
          80,
          78,
          76,
          75,
          60,
          59,
          58,
          47,
          45,
          43,
          41,
          40,
          40,
          40,
          39,
          37,
          33,
          32,
          32,
          30,
          28,
          26,
          20,
          19,
          15,
          13,
          13,
          12,
          12,
          11,
          11,
          11,
          10,
          10,
          9,
          9,
          9,
          9,
          9,
          8,
          8,
          7,
          7,
          7,
          7,
          6,
          5,
          5,
          4,
          4,
          4,
          3,
          3,
          3,
          3,
          3,
          3,
          2,
          2,
          2,
          2,
          2,
          2,
          1,
          1,
          1,
          1,
          1,
          1,
          1,
          1,
          1
         ]
        }
       ],
       "layout": {
        "margin": {
         "b": 20,
         "l": 20,
         "r": 20,
         "t": 40
        },
        "template": {
         "data": {
          "bar": [
           {
            "error_x": {
             "color": "#2a3f5f"
            },
            "error_y": {
             "color": "#2a3f5f"
            },
            "marker": {
             "line": {
              "color": "#E5ECF6",
              "width": 0.5
             },
             "pattern": {
              "fillmode": "overlay",
              "size": 10,
              "solidity": 0.2
             }
            },
            "type": "bar"
           }
          ],
          "barpolar": [
           {
            "marker": {
             "line": {
              "color": "#E5ECF6",
              "width": 0.5
             },
             "pattern": {
              "fillmode": "overlay",
              "size": 10,
              "solidity": 0.2
             }
            },
            "type": "barpolar"
           }
          ],
          "carpet": [
           {
            "aaxis": {
             "endlinecolor": "#2a3f5f",
             "gridcolor": "white",
             "linecolor": "white",
             "minorgridcolor": "white",
             "startlinecolor": "#2a3f5f"
            },
            "baxis": {
             "endlinecolor": "#2a3f5f",
             "gridcolor": "white",
             "linecolor": "white",
             "minorgridcolor": "white",
             "startlinecolor": "#2a3f5f"
            },
            "type": "carpet"
           }
          ],
          "choropleth": [
           {
            "colorbar": {
             "outlinewidth": 0,
             "ticks": ""
            },
            "type": "choropleth"
           }
          ],
          "contour": [
           {
            "colorbar": {
             "outlinewidth": 0,
             "ticks": ""
            },
            "colorscale": [
             [
              0,
              "#0d0887"
             ],
             [
              0.1111111111111111,
              "#46039f"
             ],
             [
              0.2222222222222222,
              "#7201a8"
             ],
             [
              0.3333333333333333,
              "#9c179e"
             ],
             [
              0.4444444444444444,
              "#bd3786"
             ],
             [
              0.5555555555555556,
              "#d8576b"
             ],
             [
              0.6666666666666666,
              "#ed7953"
             ],
             [
              0.7777777777777778,
              "#fb9f3a"
             ],
             [
              0.8888888888888888,
              "#fdca26"
             ],
             [
              1,
              "#f0f921"
             ]
            ],
            "type": "contour"
           }
          ],
          "contourcarpet": [
           {
            "colorbar": {
             "outlinewidth": 0,
             "ticks": ""
            },
            "type": "contourcarpet"
           }
          ],
          "heatmap": [
           {
            "colorbar": {
             "outlinewidth": 0,
             "ticks": ""
            },
            "colorscale": [
             [
              0,
              "#0d0887"
             ],
             [
              0.1111111111111111,
              "#46039f"
             ],
             [
              0.2222222222222222,
              "#7201a8"
             ],
             [
              0.3333333333333333,
              "#9c179e"
             ],
             [
              0.4444444444444444,
              "#bd3786"
             ],
             [
              0.5555555555555556,
              "#d8576b"
             ],
             [
              0.6666666666666666,
              "#ed7953"
             ],
             [
              0.7777777777777778,
              "#fb9f3a"
             ],
             [
              0.8888888888888888,
              "#fdca26"
             ],
             [
              1,
              "#f0f921"
             ]
            ],
            "type": "heatmap"
           }
          ],
          "heatmapgl": [
           {
            "colorbar": {
             "outlinewidth": 0,
             "ticks": ""
            },
            "colorscale": [
             [
              0,
              "#0d0887"
             ],
             [
              0.1111111111111111,
              "#46039f"
             ],
             [
              0.2222222222222222,
              "#7201a8"
             ],
             [
              0.3333333333333333,
              "#9c179e"
             ],
             [
              0.4444444444444444,
              "#bd3786"
             ],
             [
              0.5555555555555556,
              "#d8576b"
             ],
             [
              0.6666666666666666,
              "#ed7953"
             ],
             [
              0.7777777777777778,
              "#fb9f3a"
             ],
             [
              0.8888888888888888,
              "#fdca26"
             ],
             [
              1,
              "#f0f921"
             ]
            ],
            "type": "heatmapgl"
           }
          ],
          "histogram": [
           {
            "marker": {
             "pattern": {
              "fillmode": "overlay",
              "size": 10,
              "solidity": 0.2
             }
            },
            "type": "histogram"
           }
          ],
          "histogram2d": [
           {
            "colorbar": {
             "outlinewidth": 0,
             "ticks": ""
            },
            "colorscale": [
             [
              0,
              "#0d0887"
             ],
             [
              0.1111111111111111,
              "#46039f"
             ],
             [
              0.2222222222222222,
              "#7201a8"
             ],
             [
              0.3333333333333333,
              "#9c179e"
             ],
             [
              0.4444444444444444,
              "#bd3786"
             ],
             [
              0.5555555555555556,
              "#d8576b"
             ],
             [
              0.6666666666666666,
              "#ed7953"
             ],
             [
              0.7777777777777778,
              "#fb9f3a"
             ],
             [
              0.8888888888888888,
              "#fdca26"
             ],
             [
              1,
              "#f0f921"
             ]
            ],
            "type": "histogram2d"
           }
          ],
          "histogram2dcontour": [
           {
            "colorbar": {
             "outlinewidth": 0,
             "ticks": ""
            },
            "colorscale": [
             [
              0,
              "#0d0887"
             ],
             [
              0.1111111111111111,
              "#46039f"
             ],
             [
              0.2222222222222222,
              "#7201a8"
             ],
             [
              0.3333333333333333,
              "#9c179e"
             ],
             [
              0.4444444444444444,
              "#bd3786"
             ],
             [
              0.5555555555555556,
              "#d8576b"
             ],
             [
              0.6666666666666666,
              "#ed7953"
             ],
             [
              0.7777777777777778,
              "#fb9f3a"
             ],
             [
              0.8888888888888888,
              "#fdca26"
             ],
             [
              1,
              "#f0f921"
             ]
            ],
            "type": "histogram2dcontour"
           }
          ],
          "mesh3d": [
           {
            "colorbar": {
             "outlinewidth": 0,
             "ticks": ""
            },
            "type": "mesh3d"
           }
          ],
          "parcoords": [
           {
            "line": {
             "colorbar": {
              "outlinewidth": 0,
              "ticks": ""
             }
            },
            "type": "parcoords"
           }
          ],
          "pie": [
           {
            "automargin": true,
            "type": "pie"
           }
          ],
          "scatter": [
           {
            "fillpattern": {
             "fillmode": "overlay",
             "size": 10,
             "solidity": 0.2
            },
            "type": "scatter"
           }
          ],
          "scatter3d": [
           {
            "line": {
             "colorbar": {
              "outlinewidth": 0,
              "ticks": ""
             }
            },
            "marker": {
             "colorbar": {
              "outlinewidth": 0,
              "ticks": ""
             }
            },
            "type": "scatter3d"
           }
          ],
          "scattercarpet": [
           {
            "marker": {
             "colorbar": {
              "outlinewidth": 0,
              "ticks": ""
             }
            },
            "type": "scattercarpet"
           }
          ],
          "scattergeo": [
           {
            "marker": {
             "colorbar": {
              "outlinewidth": 0,
              "ticks": ""
             }
            },
            "type": "scattergeo"
           }
          ],
          "scattergl": [
           {
            "marker": {
             "colorbar": {
              "outlinewidth": 0,
              "ticks": ""
             }
            },
            "type": "scattergl"
           }
          ],
          "scattermapbox": [
           {
            "marker": {
             "colorbar": {
              "outlinewidth": 0,
              "ticks": ""
             }
            },
            "type": "scattermapbox"
           }
          ],
          "scatterpolar": [
           {
            "marker": {
             "colorbar": {
              "outlinewidth": 0,
              "ticks": ""
             }
            },
            "type": "scatterpolar"
           }
          ],
          "scatterpolargl": [
           {
            "marker": {
             "colorbar": {
              "outlinewidth": 0,
              "ticks": ""
             }
            },
            "type": "scatterpolargl"
           }
          ],
          "scatterternary": [
           {
            "marker": {
             "colorbar": {
              "outlinewidth": 0,
              "ticks": ""
             }
            },
            "type": "scatterternary"
           }
          ],
          "surface": [
           {
            "colorbar": {
             "outlinewidth": 0,
             "ticks": ""
            },
            "colorscale": [
             [
              0,
              "#0d0887"
             ],
             [
              0.1111111111111111,
              "#46039f"
             ],
             [
              0.2222222222222222,
              "#7201a8"
             ],
             [
              0.3333333333333333,
              "#9c179e"
             ],
             [
              0.4444444444444444,
              "#bd3786"
             ],
             [
              0.5555555555555556,
              "#d8576b"
             ],
             [
              0.6666666666666666,
              "#ed7953"
             ],
             [
              0.7777777777777778,
              "#fb9f3a"
             ],
             [
              0.8888888888888888,
              "#fdca26"
             ],
             [
              1,
              "#f0f921"
             ]
            ],
            "type": "surface"
           }
          ],
          "table": [
           {
            "cells": {
             "fill": {
              "color": "#EBF0F8"
             },
             "line": {
              "color": "white"
             }
            },
            "header": {
             "fill": {
              "color": "#C8D4E3"
             },
             "line": {
              "color": "white"
             }
            },
            "type": "table"
           }
          ]
         },
         "layout": {
          "annotationdefaults": {
           "arrowcolor": "#2a3f5f",
           "arrowhead": 0,
           "arrowwidth": 1
          },
          "autotypenumbers": "strict",
          "coloraxis": {
           "colorbar": {
            "outlinewidth": 0,
            "ticks": ""
           }
          },
          "colorscale": {
           "diverging": [
            [
             0,
             "#8e0152"
            ],
            [
             0.1,
             "#c51b7d"
            ],
            [
             0.2,
             "#de77ae"
            ],
            [
             0.3,
             "#f1b6da"
            ],
            [
             0.4,
             "#fde0ef"
            ],
            [
             0.5,
             "#f7f7f7"
            ],
            [
             0.6,
             "#e6f5d0"
            ],
            [
             0.7,
             "#b8e186"
            ],
            [
             0.8,
             "#7fbc41"
            ],
            [
             0.9,
             "#4d9221"
            ],
            [
             1,
             "#276419"
            ]
           ],
           "sequential": [
            [
             0,
             "#0d0887"
            ],
            [
             0.1111111111111111,
             "#46039f"
            ],
            [
             0.2222222222222222,
             "#7201a8"
            ],
            [
             0.3333333333333333,
             "#9c179e"
            ],
            [
             0.4444444444444444,
             "#bd3786"
            ],
            [
             0.5555555555555556,
             "#d8576b"
            ],
            [
             0.6666666666666666,
             "#ed7953"
            ],
            [
             0.7777777777777778,
             "#fb9f3a"
            ],
            [
             0.8888888888888888,
             "#fdca26"
            ],
            [
             1,
             "#f0f921"
            ]
           ],
           "sequentialminus": [
            [
             0,
             "#0d0887"
            ],
            [
             0.1111111111111111,
             "#46039f"
            ],
            [
             0.2222222222222222,
             "#7201a8"
            ],
            [
             0.3333333333333333,
             "#9c179e"
            ],
            [
             0.4444444444444444,
             "#bd3786"
            ],
            [
             0.5555555555555556,
             "#d8576b"
            ],
            [
             0.6666666666666666,
             "#ed7953"
            ],
            [
             0.7777777777777778,
             "#fb9f3a"
            ],
            [
             0.8888888888888888,
             "#fdca26"
            ],
            [
             1,
             "#f0f921"
            ]
           ]
          },
          "colorway": [
           "#636efa",
           "#EF553B",
           "#00cc96",
           "#ab63fa",
           "#FFA15A",
           "#19d3f3",
           "#FF6692",
           "#B6E880",
           "#FF97FF",
           "#FECB52"
          ],
          "font": {
           "color": "#2a3f5f"
          },
          "geo": {
           "bgcolor": "white",
           "lakecolor": "white",
           "landcolor": "#E5ECF6",
           "showlakes": true,
           "showland": true,
           "subunitcolor": "white"
          },
          "hoverlabel": {
           "align": "left"
          },
          "hovermode": "closest",
          "mapbox": {
           "style": "light"
          },
          "paper_bgcolor": "white",
          "plot_bgcolor": "#E5ECF6",
          "polar": {
           "angularaxis": {
            "gridcolor": "white",
            "linecolor": "white",
            "ticks": ""
           },
           "bgcolor": "#E5ECF6",
           "radialaxis": {
            "gridcolor": "white",
            "linecolor": "white",
            "ticks": ""
           }
          },
          "scene": {
           "xaxis": {
            "backgroundcolor": "#E5ECF6",
            "gridcolor": "white",
            "gridwidth": 2,
            "linecolor": "white",
            "showbackground": true,
            "ticks": "",
            "zerolinecolor": "white"
           },
           "yaxis": {
            "backgroundcolor": "#E5ECF6",
            "gridcolor": "white",
            "gridwidth": 2,
            "linecolor": "white",
            "showbackground": true,
            "ticks": "",
            "zerolinecolor": "white"
           },
           "zaxis": {
            "backgroundcolor": "#E5ECF6",
            "gridcolor": "white",
            "gridwidth": 2,
            "linecolor": "white",
            "showbackground": true,
            "ticks": "",
            "zerolinecolor": "white"
           }
          },
          "shapedefaults": {
           "line": {
            "color": "#2a3f5f"
           }
          },
          "ternary": {
           "aaxis": {
            "gridcolor": "white",
            "linecolor": "white",
            "ticks": ""
           },
           "baxis": {
            "gridcolor": "white",
            "linecolor": "white",
            "ticks": ""
           },
           "bgcolor": "#E5ECF6",
           "caxis": {
            "gridcolor": "white",
            "linecolor": "white",
            "ticks": ""
           }
          },
          "title": {
           "x": 0.05
          },
          "xaxis": {
           "automargin": true,
           "gridcolor": "white",
           "linecolor": "white",
           "ticks": "",
           "title": {
            "standoff": 15
           },
           "zerolinecolor": "white",
           "zerolinewidth": 2
          },
          "yaxis": {
           "automargin": true,
           "gridcolor": "white",
           "linecolor": "white",
           "ticks": "",
           "title": {
            "standoff": 15
           },
           "zerolinecolor": "white",
           "zerolinewidth": 2
          }
         }
        },
        "title": {
         "text": "Distribution of Labels"
        },
        "xaxis": {
         "tickangle": -90,
         "tickfont": {
          "size": 10
         },
         "title": {
          "text": "Label"
         }
        },
        "yaxis": {
         "tickfont": {
          "size": 10
         },
         "title": {
          "text": "Count"
         }
        }
       }
      }
     },
     "metadata": {},
     "output_type": "display_data"
    }
   ],
   "source": [
    "fig = go.Figure()\n",
    "\n",
    "# Bar grafiğine veri ekleme\n",
    "fig.add_trace(\n",
    "    go.Bar(\n",
    "        x=label_counts['label'],\n",
    "        y=label_counts['count'],\n",
    "        text=label_counts['count'],\n",
    "        textposition='outside',\n",
    "        marker_color='#ff7f0e'  # Orange color from a professional palette\n",
    "    )\n",
    ")\n",
    "\n",
    "# Grafik düzenlemeleri\n",
    "fig.update_layout(\n",
    "    title='Distribution of Labels',\n",
    "    xaxis_title='Label',\n",
    "    yaxis_title='Count',\n",
    "    xaxis_tickangle=-90,\n",
    "    xaxis=dict(tickfont=dict(size=10)),\n",
    "    yaxis=dict(tickfont=dict(size=10)),\n",
    "    margin=dict(l=20, r=20, t=40, b=20)\n",
    ")\n",
    "\n",
    "# Grafiği göster\n",
    "fig.show()"
   ]
  },
  {
   "cell_type": "markdown",
   "metadata": {},
   "source": [
    "We need to understand *Label* column. We visualize more understandable."
   ]
  },
  {
   "cell_type": "code",
   "execution_count": 96,
   "metadata": {},
   "outputs": [
    {
     "name": "stderr",
     "output_type": "stream",
     "text": [
      "C:\\Users\\Ali Riza Ercan\\AppData\\Local\\Temp\\ipykernel_22344\\1405143938.py:31: FutureWarning:\n",
      "\n",
      "\n",
      "\n",
      "Passing `palette` without assigning `hue` is deprecated and will be removed in v0.14.0. Assign the `x` variable to `hue` and set `legend=False` for the same effect.\n",
      "\n",
      "\n"
     ]
    },
    {
     "data": {
      "image/png": "[encoded data removed]",
      "text/plain": [
       "<Figure size 1000x600 with 1 Axes>"
      ]
     },
     "metadata": {},
     "output_type": "display_data"
    }
   ],
   "source": [
    "# Belirli label'lara ait değerlerin toplamını hesaplamak için işlev\n",
    "def count_total_for_labels(df, label_list):\n",
    "    # Veri çerçevesinde her bir label için kaç kez bulunduğunu say\n",
    "    return df['label'].isin(label_list).sum()\n",
    "\n",
    "# Her bir kategori için toplamları hesaplayın\n",
    "total_counts = {\n",
    "    'Single Column': count_total_for_labels(df, single_column_labels),\n",
    "    'Pair Columns': count_total_for_labels(df, pair_column_labels),\n",
    "    'Trio Columns': count_total_for_labels(df, trio_column_labels),\n",
    "    'Four Columns': count_total_for_labels(df, four_column_labels),\n",
    "    'Five Columns': count_total_for_labels(df, five_column_labels),\n",
    "    'Six Columns': count_total_for_labels(df, six_column_labels),\n",
    "    'Seven Columns': count_total_for_labels(df, seven_column_labels)\n",
    "}\n",
    "\n",
    "# Sonuçları DataFrame'e dönüştür\n",
    "total_counts_df = pd.DataFrame(list(total_counts.items()), columns=['Category', 'Total Count'])\n",
    "\n",
    "# Grafik oluşturma\n",
    "plt.figure(figsize=(10, 6))\n",
    "sns.barplot(x='Category', y='Total Count', data=total_counts_df, palette='viridis')\n",
    "\n",
    "# Grafik başlıkları ve etiketleri\n",
    "plt.title('Label Kategorilerinin Toplam Sayıları', fontsize=16)\n",
    "plt.xlabel('Kategori', fontsize=14)\n",
    "plt.ylabel('Toplam Sayı', fontsize=14)\n",
    "plt.xticks(rotation=45, ha='right')  # X eksenindeki etiketleri döndür\n",
    "plt.grid(axis='y', linestyle='--', alpha=0.7)\n",
    "\n",
    "# Grafiği göster\n",
    "plt.show()"
   ]
  },
  {
   "cell_type": "code",
   "execution_count": null,
   "metadata": {},
   "outputs": [],
   "source": []
  }
 ],
 "metadata": {
  "kernelspec": {
   "display_name": "Python 3",
   "language": "python",
   "name": "python3"
  },
  "language_info": {
   "codemirror_mode": {
    "name": "ipython",
    "version": 3
   },
   "file_extension": ".py",
   "mimetype": "text/x-python",
   "name": "python",
   "nbconvert_exporter": "python",
   "pygments_lexer": "ipython3",
   "version": "3.9.0"
  }
 },
 "nbformat": 4,
 "nbformat_minor": 2
}
